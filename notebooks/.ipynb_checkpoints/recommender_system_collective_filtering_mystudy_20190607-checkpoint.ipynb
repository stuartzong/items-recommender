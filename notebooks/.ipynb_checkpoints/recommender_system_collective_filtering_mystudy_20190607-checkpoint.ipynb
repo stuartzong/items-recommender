{
 "cells": [
  {
   "cell_type": "markdown",
   "metadata": {},
   "source": [
    "This notebook referenced the following post and notebook from Moorissa Tjokro is to build a collaborative filtering model for recommending product to customers. \n",
    "\n",
    "* Link: https://medium.com/datadriveninvestor/how-to-build-a-recommendation-system-for-purchase-data-step-by-step-d6d7a78800b6"
   ]
  },
  {
   "cell_type": "markdown",
   "metadata": {},
   "source": [
    "* `turicreate` is a machine learning libary Apple acquired and open sourced."
   ]
  },
  {
   "cell_type": "code",
   "execution_count": 88,
   "metadata": {},
   "outputs": [
    {
     "name": "stdout",
     "output_type": "stream",
     "text": [
      "The autoreload extension is already loaded. To reload it, use:\n",
      "  %reload_ext autoreload\n"
     ]
    }
   ],
   "source": [
    "%load_ext autoreload\n",
    "%autoreload 2\n",
    "\n",
    "import pandas as pd\n",
    "import numpy as np\n",
    "import seaborn as sns\n",
    "import matplotlib.pyplot as plt\n",
    "import time\n",
    "import turicreate as tc\n",
    "# from sklearn.cross_validation import train_test_split\n",
    "from sklearn.model_selection import train_test_split\n",
    "import sys\n",
    "sys.path.append(\"..\")\n",
    "import scripts.data_layer as data_layer\n",
    "\n",
    "# Optimization module in scipy\n",
    "from scipy import optimize\n",
    "\n",
    "from IPython.core.interactiveshell import InteractiveShell\n",
    "InteractiveShell.ast_node_interactivity = \"all\""
   ]
  },
  {
   "cell_type": "code",
   "execution_count": 70,
   "metadata": {},
   "outputs": [
    {
     "data": {
      "text/plain": [
       "(24429, 301)"
      ]
     },
     "execution_count": 70,
     "metadata": {},
     "output_type": "execute_result"
    },
    {
     "data": {
      "text/html": [
       "<div>\n",
       "<style scoped>\n",
       "    .dataframe tbody tr th:only-of-type {\n",
       "        vertical-align: middle;\n",
       "    }\n",
       "\n",
       "    .dataframe tbody tr th {\n",
       "        vertical-align: top;\n",
       "    }\n",
       "\n",
       "    .dataframe thead th {\n",
       "        text-align: right;\n",
       "    }\n",
       "</style>\n",
       "<table border=\"1\" class=\"dataframe\">\n",
       "  <thead>\n",
       "    <tr style=\"text-align: right;\">\n",
       "      <th></th>\n",
       "      <th>customerId</th>\n",
       "      <th>0</th>\n",
       "      <th>1</th>\n",
       "      <th>2</th>\n",
       "      <th>3</th>\n",
       "      <th>4</th>\n",
       "      <th>5</th>\n",
       "      <th>6</th>\n",
       "      <th>7</th>\n",
       "      <th>8</th>\n",
       "      <th>...</th>\n",
       "      <th>290</th>\n",
       "      <th>291</th>\n",
       "      <th>292</th>\n",
       "      <th>293</th>\n",
       "      <th>294</th>\n",
       "      <th>295</th>\n",
       "      <th>296</th>\n",
       "      <th>297</th>\n",
       "      <th>298</th>\n",
       "      <th>299</th>\n",
       "    </tr>\n",
       "  </thead>\n",
       "  <tbody>\n",
       "    <tr>\n",
       "      <th>0</th>\n",
       "      <td>0</td>\n",
       "      <td>0</td>\n",
       "      <td>2</td>\n",
       "      <td>0</td>\n",
       "      <td>0</td>\n",
       "      <td>0</td>\n",
       "      <td>0</td>\n",
       "      <td>0</td>\n",
       "      <td>0</td>\n",
       "      <td>0</td>\n",
       "      <td>...</td>\n",
       "      <td>0</td>\n",
       "      <td>0</td>\n",
       "      <td>0</td>\n",
       "      <td>0</td>\n",
       "      <td>0</td>\n",
       "      <td>0</td>\n",
       "      <td>0</td>\n",
       "      <td>0</td>\n",
       "      <td>0</td>\n",
       "      <td>0</td>\n",
       "    </tr>\n",
       "    <tr>\n",
       "      <th>1</th>\n",
       "      <td>1</td>\n",
       "      <td>0</td>\n",
       "      <td>0</td>\n",
       "      <td>6</td>\n",
       "      <td>0</td>\n",
       "      <td>0</td>\n",
       "      <td>0</td>\n",
       "      <td>0</td>\n",
       "      <td>0</td>\n",
       "      <td>0</td>\n",
       "      <td>...</td>\n",
       "      <td>0</td>\n",
       "      <td>0</td>\n",
       "      <td>0</td>\n",
       "      <td>1</td>\n",
       "      <td>0</td>\n",
       "      <td>0</td>\n",
       "      <td>1</td>\n",
       "      <td>0</td>\n",
       "      <td>0</td>\n",
       "      <td>0</td>\n",
       "    </tr>\n",
       "  </tbody>\n",
       "</table>\n",
       "<p>2 rows × 301 columns</p>\n",
       "</div>"
      ],
      "text/plain": [
       "   customerId  0  1  2  3  4  5  6  7  8  ...  290  291  292  293  294  295  \\\n",
       "0           0  0  2  0  0  0  0  0  0  0  ...    0    0    0    0    0    0   \n",
       "1           1  0  0  6  0  0  0  0  0  0  ...    0    0    0    1    0    0   \n",
       "\n",
       "   296  297  298  299  \n",
       "0    0    0    0    0  \n",
       "1    1    0    0    0  \n",
       "\n",
       "[2 rows x 301 columns]"
      ]
     },
     "execution_count": 70,
     "metadata": {},
     "output_type": "execute_result"
    }
   ],
   "source": [
    "# data: rows are customer ids, columns are product ids, values are count of products purchased.\n",
    "of = '/projects/trans_scratch/validations/workspace/szong/development/medium/items-recommender/notebooks/data.csv'\n",
    "df = pd.read_csv(of)\n",
    "df.shape\n",
    "df.head(2)"
   ]
  },
  {
   "cell_type": "code",
   "execution_count": 29,
   "metadata": {},
   "outputs": [
    {
     "data": {
      "text/html": [
       "<div>\n",
       "<style scoped>\n",
       "    .dataframe tbody tr th:only-of-type {\n",
       "        vertical-align: middle;\n",
       "    }\n",
       "\n",
       "    .dataframe tbody tr th {\n",
       "        vertical-align: top;\n",
       "    }\n",
       "\n",
       "    .dataframe thead th {\n",
       "        text-align: right;\n",
       "    }\n",
       "</style>\n",
       "<table border=\"1\" class=\"dataframe\">\n",
       "  <thead>\n",
       "    <tr style=\"text-align: right;\">\n",
       "      <th></th>\n",
       "      <th>customerId</th>\n",
       "      <th>productId</th>\n",
       "      <th>purchase_count</th>\n",
       "    </tr>\n",
       "  </thead>\n",
       "  <tbody>\n",
       "    <tr>\n",
       "      <th>0</th>\n",
       "      <td>0</td>\n",
       "      <td>0</td>\n",
       "      <td>0</td>\n",
       "    </tr>\n",
       "    <tr>\n",
       "      <th>1</th>\n",
       "      <td>1</td>\n",
       "      <td>0</td>\n",
       "      <td>0</td>\n",
       "    </tr>\n",
       "  </tbody>\n",
       "</table>\n",
       "</div>"
      ],
      "text/plain": [
       "   customerId productId  purchase_count\n",
       "0           0         0               0\n",
       "1           1         0               0"
      ]
     },
     "execution_count": 29,
     "metadata": {},
     "output_type": "execute_result"
    }
   ],
   "source": [
    "# data long form, d\n",
    "data = pd.melt(df, id_vars='customerId', value_vars=df.columns[1:], var_name='productId',value_name='purchase_count')\n",
    "data.head(2)"
   ]
  },
  {
   "cell_type": "markdown",
   "metadata": {},
   "source": [
    "### split data into train and test set with 80:20 split\n",
    "* use train to develop predictive model and use test to evaluate model performance"
   ]
  },
  {
   "cell_type": "code",
   "execution_count": 33,
   "metadata": {},
   "outputs": [],
   "source": [
    "# drop all zeros, which means not purchase the product\n",
    "data = data[data.purchase_count!=0]"
   ]
  },
  {
   "cell_type": "code",
   "execution_count": 36,
   "metadata": {},
   "outputs": [
    {
     "data": {
      "text/plain": [
       "(106868, 3)"
      ]
     },
     "execution_count": 36,
     "metadata": {},
     "output_type": "execute_result"
    },
    {
     "data": {
      "text/plain": [
       "(26717, 3)"
      ]
     },
     "execution_count": 36,
     "metadata": {},
     "output_type": "execute_result"
    },
    {
     "data": {
      "text/html": [
       "<div>\n",
       "<style scoped>\n",
       "    .dataframe tbody tr th:only-of-type {\n",
       "        vertical-align: middle;\n",
       "    }\n",
       "\n",
       "    .dataframe tbody tr th {\n",
       "        vertical-align: top;\n",
       "    }\n",
       "\n",
       "    .dataframe thead th {\n",
       "        text-align: right;\n",
       "    }\n",
       "</style>\n",
       "<table border=\"1\" class=\"dataframe\">\n",
       "  <thead>\n",
       "    <tr style=\"text-align: right;\">\n",
       "      <th></th>\n",
       "      <th>customerId</th>\n",
       "      <th>productId</th>\n",
       "      <th>purchase_count</th>\n",
       "    </tr>\n",
       "  </thead>\n",
       "  <tbody>\n",
       "    <tr>\n",
       "      <th>7218287</th>\n",
       "      <td>12891</td>\n",
       "      <td>295</td>\n",
       "      <td>1</td>\n",
       "    </tr>\n",
       "    <tr>\n",
       "      <th>5361818</th>\n",
       "      <td>13051</td>\n",
       "      <td>219</td>\n",
       "      <td>1</td>\n",
       "    </tr>\n",
       "  </tbody>\n",
       "</table>\n",
       "</div>"
      ],
      "text/plain": [
       "         customerId productId  purchase_count\n",
       "7218287       12891       295               1\n",
       "5361818       13051       219               1"
      ]
     },
     "execution_count": 36,
     "metadata": {},
     "output_type": "execute_result"
    },
    {
     "data": {
      "text/html": [
       "<div>\n",
       "<style scoped>\n",
       "    .dataframe tbody tr th:only-of-type {\n",
       "        vertical-align: middle;\n",
       "    }\n",
       "\n",
       "    .dataframe tbody tr th {\n",
       "        vertical-align: top;\n",
       "    }\n",
       "\n",
       "    .dataframe thead th {\n",
       "        text-align: right;\n",
       "    }\n",
       "</style>\n",
       "<table border=\"1\" class=\"dataframe\">\n",
       "  <thead>\n",
       "    <tr style=\"text-align: right;\">\n",
       "      <th></th>\n",
       "      <th>customerId</th>\n",
       "      <th>productId</th>\n",
       "      <th>purchase_count</th>\n",
       "    </tr>\n",
       "  </thead>\n",
       "  <tbody>\n",
       "    <tr>\n",
       "      <th>3164101</th>\n",
       "      <td>14042</td>\n",
       "      <td>129</td>\n",
       "      <td>3</td>\n",
       "    </tr>\n",
       "    <tr>\n",
       "      <th>5413525</th>\n",
       "      <td>16230</td>\n",
       "      <td>221</td>\n",
       "      <td>1</td>\n",
       "    </tr>\n",
       "  </tbody>\n",
       "</table>\n",
       "</div>"
      ],
      "text/plain": [
       "         customerId productId  purchase_count\n",
       "3164101       14042       129               3\n",
       "5413525       16230       221               1"
      ]
     },
     "execution_count": 36,
     "metadata": {},
     "output_type": "execute_result"
    }
   ],
   "source": [
    "train, test = train_test_split(data, test_size = .2)\n",
    "train.shape\n",
    "test.shape\n",
    "train.head(2)\n",
    "test.head(2)"
   ]
  },
  {
   "cell_type": "code",
   "execution_count": 37,
   "metadata": {},
   "outputs": [],
   "source": [
    "# Using turicreate library, we convert dataframe to SFrame - this will be useful in the modeling part\n",
    "train_data = tc.SFrame(train)\n",
    "test_data = tc.SFrame(test)"
   ]
  },
  {
   "cell_type": "markdown",
   "metadata": {},
   "source": [
    "when assessing the model performance, sometimes we choose to compare with a naive model. In this case, we use a popularity model. Basically recommend the top n most popular items for everybody. If our proposed model can not beat this baseline, there is no point to go further. \n"
   ]
  },
  {
   "cell_type": "code",
   "execution_count": 40,
   "metadata": {},
   "outputs": [],
   "source": [
    "# variables to define field names\n",
    "user_id = 'customerId'\n",
    "item_id = 'productId'\n",
    "target = 'purchase_count'\n",
    "users_to_recommend = list(data[user_id])\n",
    "n_rec = 10 # number of items to recommend\n",
    "n_display = 30"
   ]
  },
  {
   "cell_type": "code",
   "execution_count": 41,
   "metadata": {},
   "outputs": [
    {
     "data": {
      "text/html": [
       "<pre>Preparing data set.</pre>"
      ],
      "text/plain": [
       "Preparing data set."
      ]
     },
     "metadata": {},
     "output_type": "display_data"
    },
    {
     "data": {
      "text/html": [
       "<pre>    Data has 106868 observations with 23321 users and 300 items.</pre>"
      ],
      "text/plain": [
       "    Data has 106868 observations with 23321 users and 300 items."
      ]
     },
     "metadata": {},
     "output_type": "display_data"
    },
    {
     "data": {
      "text/html": [
       "<pre>    Data prepared in: 0.449696s</pre>"
      ],
      "text/plain": [
       "    Data prepared in: 0.449696s"
      ]
     },
     "metadata": {},
     "output_type": "display_data"
    },
    {
     "data": {
      "text/html": [
       "<pre>106868 observations to process; with 300 unique items.</pre>"
      ],
      "text/plain": [
       "106868 observations to process; with 300 unique items."
      ]
     },
     "metadata": {},
     "output_type": "display_data"
    }
   ],
   "source": [
    "popularity_model = tc.popularity_recommender.create(train_data, \n",
    "                                                    user_id=user_id, \n",
    "                                                    item_id=item_id, \n",
    "                                                    target=target)"
   ]
  },
  {
   "cell_type": "code",
   "execution_count": 42,
   "metadata": {},
   "outputs": [
    {
     "data": {
      "text/plain": [
       "Class                            : PopularityRecommender\n",
       "\n",
       "Schema\n",
       "------\n",
       "User ID                          : customerId\n",
       "Item ID                          : productId\n",
       "Target                           : purchase_count\n",
       "Additional observation features  : 0\n",
       "User side features               : []\n",
       "Item side features               : []\n",
       "\n",
       "Statistics\n",
       "----------\n",
       "Number of observations           : 106868\n",
       "Number of users                  : 23321\n",
       "Number of items                  : 300\n",
       "\n",
       "Training summary\n",
       "----------------\n",
       "Training time                    : 0.0257\n",
       "\n",
       "Model Parameters\n",
       "----------------\n",
       "Model class                      : PopularityRecommender"
      ]
     },
     "execution_count": 42,
     "metadata": {},
     "output_type": "execute_result"
    }
   ],
   "source": [
    "popularity_model"
   ]
  },
  {
   "cell_type": "code",
   "execution_count": 43,
   "metadata": {},
   "outputs": [
    {
     "data": {
      "text/html": [
       "<pre>recommendations finished on 1000/133585 queries. users per second: 78382.2</pre>"
      ],
      "text/plain": [
       "recommendations finished on 1000/133585 queries. users per second: 78382.2"
      ]
     },
     "metadata": {},
     "output_type": "display_data"
    },
    {
     "data": {
      "text/html": [
       "<pre>recommendations finished on 2000/133585 queries. users per second: 122421</pre>"
      ],
      "text/plain": [
       "recommendations finished on 2000/133585 queries. users per second: 122421"
      ]
     },
     "metadata": {},
     "output_type": "display_data"
    },
    {
     "data": {
      "text/html": [
       "<pre>recommendations finished on 3000/133585 queries. users per second: 160137</pre>"
      ],
      "text/plain": [
       "recommendations finished on 3000/133585 queries. users per second: 160137"
      ]
     },
     "metadata": {},
     "output_type": "display_data"
    },
    {
     "data": {
      "text/html": [
       "<pre>recommendations finished on 4000/133585 queries. users per second: 191470</pre>"
      ],
      "text/plain": [
       "recommendations finished on 4000/133585 queries. users per second: 191470"
      ]
     },
     "metadata": {},
     "output_type": "display_data"
    },
    {
     "data": {
      "text/html": [
       "<pre>recommendations finished on 5000/133585 queries. users per second: 218484</pre>"
      ],
      "text/plain": [
       "recommendations finished on 5000/133585 queries. users per second: 218484"
      ]
     },
     "metadata": {},
     "output_type": "display_data"
    },
    {
     "data": {
      "text/html": [
       "<pre>recommendations finished on 6000/133585 queries. users per second: 241468</pre>"
      ],
      "text/plain": [
       "recommendations finished on 6000/133585 queries. users per second: 241468"
      ]
     },
     "metadata": {},
     "output_type": "display_data"
    },
    {
     "data": {
      "text/html": [
       "<pre>recommendations finished on 7000/133585 queries. users per second: 261097</pre>"
      ],
      "text/plain": [
       "recommendations finished on 7000/133585 queries. users per second: 261097"
      ]
     },
     "metadata": {},
     "output_type": "display_data"
    },
    {
     "data": {
      "text/html": [
       "<pre>recommendations finished on 8000/133585 queries. users per second: 276769</pre>"
      ],
      "text/plain": [
       "recommendations finished on 8000/133585 queries. users per second: 276769"
      ]
     },
     "metadata": {},
     "output_type": "display_data"
    },
    {
     "data": {
      "text/html": [
       "<pre>recommendations finished on 9000/133585 queries. users per second: 289166</pre>"
      ],
      "text/plain": [
       "recommendations finished on 9000/133585 queries. users per second: 289166"
      ]
     },
     "metadata": {},
     "output_type": "display_data"
    },
    {
     "data": {
      "text/html": [
       "<pre>recommendations finished on 10000/133585 queries. users per second: 296481</pre>"
      ],
      "text/plain": [
       "recommendations finished on 10000/133585 queries. users per second: 296481"
      ]
     },
     "metadata": {},
     "output_type": "display_data"
    },
    {
     "data": {
      "text/html": [
       "<pre>recommendations finished on 11000/133585 queries. users per second: 305878</pre>"
      ],
      "text/plain": [
       "recommendations finished on 11000/133585 queries. users per second: 305878"
      ]
     },
     "metadata": {},
     "output_type": "display_data"
    },
    {
     "data": {
      "text/html": [
       "<pre>recommendations finished on 12000/133585 queries. users per second: 316256</pre>"
      ],
      "text/plain": [
       "recommendations finished on 12000/133585 queries. users per second: 316256"
      ]
     },
     "metadata": {},
     "output_type": "display_data"
    },
    {
     "data": {
      "text/html": [
       "<pre>recommendations finished on 13000/133585 queries. users per second: 324870</pre>"
      ],
      "text/plain": [
       "recommendations finished on 13000/133585 queries. users per second: 324870"
      ]
     },
     "metadata": {},
     "output_type": "display_data"
    },
    {
     "data": {
      "text/html": [
       "<pre>recommendations finished on 14000/133585 queries. users per second: 332605</pre>"
      ],
      "text/plain": [
       "recommendations finished on 14000/133585 queries. users per second: 332605"
      ]
     },
     "metadata": {},
     "output_type": "display_data"
    },
    {
     "data": {
      "text/html": [
       "<pre>recommendations finished on 15000/133585 queries. users per second: 338937</pre>"
      ],
      "text/plain": [
       "recommendations finished on 15000/133585 queries. users per second: 338937"
      ]
     },
     "metadata": {},
     "output_type": "display_data"
    },
    {
     "data": {
      "text/html": [
       "<pre>recommendations finished on 16000/133585 queries. users per second: 345938</pre>"
      ],
      "text/plain": [
       "recommendations finished on 16000/133585 queries. users per second: 345938"
      ]
     },
     "metadata": {},
     "output_type": "display_data"
    },
    {
     "data": {
      "text/html": [
       "<pre>recommendations finished on 17000/133585 queries. users per second: 352018</pre>"
      ],
      "text/plain": [
       "recommendations finished on 17000/133585 queries. users per second: 352018"
      ]
     },
     "metadata": {},
     "output_type": "display_data"
    },
    {
     "data": {
      "text/html": [
       "<pre>recommendations finished on 18000/133585 queries. users per second: 358209</pre>"
      ],
      "text/plain": [
       "recommendations finished on 18000/133585 queries. users per second: 358209"
      ]
     },
     "metadata": {},
     "output_type": "display_data"
    },
    {
     "data": {
      "text/html": [
       "<pre>recommendations finished on 19000/133585 queries. users per second: 363456</pre>"
      ],
      "text/plain": [
       "recommendations finished on 19000/133585 queries. users per second: 363456"
      ]
     },
     "metadata": {},
     "output_type": "display_data"
    },
    {
     "data": {
      "text/html": [
       "<pre>recommendations finished on 20000/133585 queries. users per second: 368548</pre>"
      ],
      "text/plain": [
       "recommendations finished on 20000/133585 queries. users per second: 368548"
      ]
     },
     "metadata": {},
     "output_type": "display_data"
    },
    {
     "data": {
      "text/html": [
       "<pre>recommendations finished on 21000/133585 queries. users per second: 372307</pre>"
      ],
      "text/plain": [
       "recommendations finished on 21000/133585 queries. users per second: 372307"
      ]
     },
     "metadata": {},
     "output_type": "display_data"
    },
    {
     "data": {
      "text/html": [
       "<pre>recommendations finished on 22000/133585 queries. users per second: 375856</pre>"
      ],
      "text/plain": [
       "recommendations finished on 22000/133585 queries. users per second: 375856"
      ]
     },
     "metadata": {},
     "output_type": "display_data"
    },
    {
     "data": {
      "text/html": [
       "<pre>recommendations finished on 23000/133585 queries. users per second: 379063</pre>"
      ],
      "text/plain": [
       "recommendations finished on 23000/133585 queries. users per second: 379063"
      ]
     },
     "metadata": {},
     "output_type": "display_data"
    },
    {
     "data": {
      "text/html": [
       "<pre>recommendations finished on 24000/133585 queries. users per second: 380916</pre>"
      ],
      "text/plain": [
       "recommendations finished on 24000/133585 queries. users per second: 380916"
      ]
     },
     "metadata": {},
     "output_type": "display_data"
    },
    {
     "data": {
      "text/html": [
       "<pre>recommendations finished on 25000/133585 queries. users per second: 382456</pre>"
      ],
      "text/plain": [
       "recommendations finished on 25000/133585 queries. users per second: 382456"
      ]
     },
     "metadata": {},
     "output_type": "display_data"
    },
    {
     "data": {
      "text/html": [
       "<pre>recommendations finished on 26000/133585 queries. users per second: 384502</pre>"
      ],
      "text/plain": [
       "recommendations finished on 26000/133585 queries. users per second: 384502"
      ]
     },
     "metadata": {},
     "output_type": "display_data"
    },
    {
     "data": {
      "text/html": [
       "<pre>recommendations finished on 27000/133585 queries. users per second: 386338</pre>"
      ],
      "text/plain": [
       "recommendations finished on 27000/133585 queries. users per second: 386338"
      ]
     },
     "metadata": {},
     "output_type": "display_data"
    },
    {
     "data": {
      "text/html": [
       "<pre>recommendations finished on 28000/133585 queries. users per second: 388220</pre>"
      ],
      "text/plain": [
       "recommendations finished on 28000/133585 queries. users per second: 388220"
      ]
     },
     "metadata": {},
     "output_type": "display_data"
    },
    {
     "data": {
      "text/html": [
       "<pre>recommendations finished on 29000/133585 queries. users per second: 389905</pre>"
      ],
      "text/plain": [
       "recommendations finished on 29000/133585 queries. users per second: 389905"
      ]
     },
     "metadata": {},
     "output_type": "display_data"
    },
    {
     "data": {
      "text/html": [
       "<pre>recommendations finished on 30000/133585 queries. users per second: 390778</pre>"
      ],
      "text/plain": [
       "recommendations finished on 30000/133585 queries. users per second: 390778"
      ]
     },
     "metadata": {},
     "output_type": "display_data"
    },
    {
     "data": {
      "text/html": [
       "<pre>recommendations finished on 31000/133585 queries. users per second: 391755</pre>"
      ],
      "text/plain": [
       "recommendations finished on 31000/133585 queries. users per second: 391755"
      ]
     },
     "metadata": {},
     "output_type": "display_data"
    },
    {
     "data": {
      "text/html": [
       "<pre>recommendations finished on 32000/133585 queries. users per second: 393493</pre>"
      ],
      "text/plain": [
       "recommendations finished on 32000/133585 queries. users per second: 393493"
      ]
     },
     "metadata": {},
     "output_type": "display_data"
    },
    {
     "data": {
      "text/html": [
       "<pre>recommendations finished on 33000/133585 queries. users per second: 394845</pre>"
      ],
      "text/plain": [
       "recommendations finished on 33000/133585 queries. users per second: 394845"
      ]
     },
     "metadata": {},
     "output_type": "display_data"
    },
    {
     "data": {
      "text/html": [
       "<pre>recommendations finished on 34000/133585 queries. users per second: 396372</pre>"
      ],
      "text/plain": [
       "recommendations finished on 34000/133585 queries. users per second: 396372"
      ]
     },
     "metadata": {},
     "output_type": "display_data"
    },
    {
     "data": {
      "text/html": [
       "<pre>recommendations finished on 35000/133585 queries. users per second: 397926</pre>"
      ],
      "text/plain": [
       "recommendations finished on 35000/133585 queries. users per second: 397926"
      ]
     },
     "metadata": {},
     "output_type": "display_data"
    },
    {
     "data": {
      "text/html": [
       "<pre>recommendations finished on 36000/133585 queries. users per second: 399631</pre>"
      ],
      "text/plain": [
       "recommendations finished on 36000/133585 queries. users per second: 399631"
      ]
     },
     "metadata": {},
     "output_type": "display_data"
    },
    {
     "data": {
      "text/html": [
       "<pre>recommendations finished on 37000/133585 queries. users per second: 401249</pre>"
      ],
      "text/plain": [
       "recommendations finished on 37000/133585 queries. users per second: 401249"
      ]
     },
     "metadata": {},
     "output_type": "display_data"
    },
    {
     "data": {
      "text/html": [
       "<pre>recommendations finished on 38000/133585 queries. users per second: 402692</pre>"
      ],
      "text/plain": [
       "recommendations finished on 38000/133585 queries. users per second: 402692"
      ]
     },
     "metadata": {},
     "output_type": "display_data"
    },
    {
     "data": {
      "text/html": [
       "<pre>recommendations finished on 39000/133585 queries. users per second: 401751</pre>"
      ],
      "text/plain": [
       "recommendations finished on 39000/133585 queries. users per second: 401751"
      ]
     },
     "metadata": {},
     "output_type": "display_data"
    },
    {
     "data": {
      "text/html": [
       "<pre>recommendations finished on 40000/133585 queries. users per second: 403210</pre>"
      ],
      "text/plain": [
       "recommendations finished on 40000/133585 queries. users per second: 403210"
      ]
     },
     "metadata": {},
     "output_type": "display_data"
    },
    {
     "data": {
      "text/html": [
       "<pre>recommendations finished on 41000/133585 queries. users per second: 404619</pre>"
      ],
      "text/plain": [
       "recommendations finished on 41000/133585 queries. users per second: 404619"
      ]
     },
     "metadata": {},
     "output_type": "display_data"
    },
    {
     "data": {
      "text/html": [
       "<pre>recommendations finished on 42000/133585 queries. users per second: 405480</pre>"
      ],
      "text/plain": [
       "recommendations finished on 42000/133585 queries. users per second: 405480"
      ]
     },
     "metadata": {},
     "output_type": "display_data"
    },
    {
     "data": {
      "text/html": [
       "<pre>recommendations finished on 43000/133585 queries. users per second: 407070</pre>"
      ],
      "text/plain": [
       "recommendations finished on 43000/133585 queries. users per second: 407070"
      ]
     },
     "metadata": {},
     "output_type": "display_data"
    },
    {
     "data": {
      "text/html": [
       "<pre>recommendations finished on 44000/133585 queries. users per second: 408243</pre>"
      ],
      "text/plain": [
       "recommendations finished on 44000/133585 queries. users per second: 408243"
      ]
     },
     "metadata": {},
     "output_type": "display_data"
    },
    {
     "data": {
      "text/html": [
       "<pre>recommendations finished on 45000/133585 queries. users per second: 409310</pre>"
      ],
      "text/plain": [
       "recommendations finished on 45000/133585 queries. users per second: 409310"
      ]
     },
     "metadata": {},
     "output_type": "display_data"
    },
    {
     "data": {
      "text/html": [
       "<pre>recommendations finished on 46000/133585 queries. users per second: 410447</pre>"
      ],
      "text/plain": [
       "recommendations finished on 46000/133585 queries. users per second: 410447"
      ]
     },
     "metadata": {},
     "output_type": "display_data"
    },
    {
     "data": {
      "text/html": [
       "<pre>recommendations finished on 47000/133585 queries. users per second: 411465</pre>"
      ],
      "text/plain": [
       "recommendations finished on 47000/133585 queries. users per second: 411465"
      ]
     },
     "metadata": {},
     "output_type": "display_data"
    },
    {
     "data": {
      "text/html": [
       "<pre>recommendations finished on 48000/133585 queries. users per second: 412896</pre>"
      ],
      "text/plain": [
       "recommendations finished on 48000/133585 queries. users per second: 412896"
      ]
     },
     "metadata": {},
     "output_type": "display_data"
    },
    {
     "data": {
      "text/html": [
       "<pre>recommendations finished on 49000/133585 queries. users per second: 414303</pre>"
      ],
      "text/plain": [
       "recommendations finished on 49000/133585 queries. users per second: 414303"
      ]
     },
     "metadata": {},
     "output_type": "display_data"
    },
    {
     "data": {
      "text/html": [
       "<pre>recommendations finished on 50000/133585 queries. users per second: 415742</pre>"
      ],
      "text/plain": [
       "recommendations finished on 50000/133585 queries. users per second: 415742"
      ]
     },
     "metadata": {},
     "output_type": "display_data"
    },
    {
     "data": {
      "text/html": [
       "<pre>recommendations finished on 51000/133585 queries. users per second: 417065</pre>"
      ],
      "text/plain": [
       "recommendations finished on 51000/133585 queries. users per second: 417065"
      ]
     },
     "metadata": {},
     "output_type": "display_data"
    },
    {
     "data": {
      "text/html": [
       "<pre>recommendations finished on 52000/133585 queries. users per second: 418134</pre>"
      ],
      "text/plain": [
       "recommendations finished on 52000/133585 queries. users per second: 418134"
      ]
     },
     "metadata": {},
     "output_type": "display_data"
    },
    {
     "data": {
      "text/html": [
       "<pre>recommendations finished on 53000/133585 queries. users per second: 419095</pre>"
      ],
      "text/plain": [
       "recommendations finished on 53000/133585 queries. users per second: 419095"
      ]
     },
     "metadata": {},
     "output_type": "display_data"
    },
    {
     "data": {
      "text/html": [
       "<pre>recommendations finished on 54000/133585 queries. users per second: 419102</pre>"
      ],
      "text/plain": [
       "recommendations finished on 54000/133585 queries. users per second: 419102"
      ]
     },
     "metadata": {},
     "output_type": "display_data"
    },
    {
     "data": {
      "text/html": [
       "<pre>recommendations finished on 55000/133585 queries. users per second: 419895</pre>"
      ],
      "text/plain": [
       "recommendations finished on 55000/133585 queries. users per second: 419895"
      ]
     },
     "metadata": {},
     "output_type": "display_data"
    },
    {
     "data": {
      "text/html": [
       "<pre>recommendations finished on 56000/133585 queries. users per second: 420424</pre>"
      ],
      "text/plain": [
       "recommendations finished on 56000/133585 queries. users per second: 420424"
      ]
     },
     "metadata": {},
     "output_type": "display_data"
    },
    {
     "data": {
      "text/html": [
       "<pre>recommendations finished on 57000/133585 queries. users per second: 421255</pre>"
      ],
      "text/plain": [
       "recommendations finished on 57000/133585 queries. users per second: 421255"
      ]
     },
     "metadata": {},
     "output_type": "display_data"
    },
    {
     "data": {
      "text/html": [
       "<pre>recommendations finished on 58000/133585 queries. users per second: 421530</pre>"
      ],
      "text/plain": [
       "recommendations finished on 58000/133585 queries. users per second: 421530"
      ]
     },
     "metadata": {},
     "output_type": "display_data"
    },
    {
     "data": {
      "text/html": [
       "<pre>recommendations finished on 59000/133585 queries. users per second: 422044</pre>"
      ],
      "text/plain": [
       "recommendations finished on 59000/133585 queries. users per second: 422044"
      ]
     },
     "metadata": {},
     "output_type": "display_data"
    },
    {
     "data": {
      "text/html": [
       "<pre>recommendations finished on 60000/133585 queries. users per second: 422279</pre>"
      ],
      "text/plain": [
       "recommendations finished on 60000/133585 queries. users per second: 422279"
      ]
     },
     "metadata": {},
     "output_type": "display_data"
    },
    {
     "data": {
      "text/html": [
       "<pre>recommendations finished on 61000/133585 queries. users per second: 421775</pre>"
      ],
      "text/plain": [
       "recommendations finished on 61000/133585 queries. users per second: 421775"
      ]
     },
     "metadata": {},
     "output_type": "display_data"
    },
    {
     "data": {
      "text/html": [
       "<pre>recommendations finished on 62000/133585 queries. users per second: 419338</pre>"
      ],
      "text/plain": [
       "recommendations finished on 62000/133585 queries. users per second: 419338"
      ]
     },
     "metadata": {},
     "output_type": "display_data"
    },
    {
     "data": {
      "text/html": [
       "<pre>recommendations finished on 63000/133585 queries. users per second: 382637</pre>"
      ],
      "text/plain": [
       "recommendations finished on 63000/133585 queries. users per second: 382637"
      ]
     },
     "metadata": {},
     "output_type": "display_data"
    },
    {
     "data": {
      "text/html": [
       "<pre>recommendations finished on 64000/133585 queries. users per second: 384650</pre>"
      ],
      "text/plain": [
       "recommendations finished on 64000/133585 queries. users per second: 384650"
      ]
     },
     "metadata": {},
     "output_type": "display_data"
    },
    {
     "data": {
      "text/html": [
       "<pre>recommendations finished on 65000/133585 queries. users per second: 384971</pre>"
      ],
      "text/plain": [
       "recommendations finished on 65000/133585 queries. users per second: 384971"
      ]
     },
     "metadata": {},
     "output_type": "display_data"
    },
    {
     "data": {
      "text/html": [
       "<pre>recommendations finished on 66000/133585 queries. users per second: 385685</pre>"
      ],
      "text/plain": [
       "recommendations finished on 66000/133585 queries. users per second: 385685"
      ]
     },
     "metadata": {},
     "output_type": "display_data"
    },
    {
     "data": {
      "text/html": [
       "<pre>recommendations finished on 67000/133585 queries. users per second: 386011</pre>"
      ],
      "text/plain": [
       "recommendations finished on 67000/133585 queries. users per second: 386011"
      ]
     },
     "metadata": {},
     "output_type": "display_data"
    },
    {
     "data": {
      "text/html": [
       "<pre>recommendations finished on 68000/133585 queries. users per second: 386731</pre>"
      ],
      "text/plain": [
       "recommendations finished on 68000/133585 queries. users per second: 386731"
      ]
     },
     "metadata": {},
     "output_type": "display_data"
    },
    {
     "data": {
      "text/html": [
       "<pre>recommendations finished on 69000/133585 queries. users per second: 386947</pre>"
      ],
      "text/plain": [
       "recommendations finished on 69000/133585 queries. users per second: 386947"
      ]
     },
     "metadata": {},
     "output_type": "display_data"
    },
    {
     "data": {
      "text/html": [
       "<pre>recommendations finished on 70000/133585 queries. users per second: 387951</pre>"
      ],
      "text/plain": [
       "recommendations finished on 70000/133585 queries. users per second: 387951"
      ]
     },
     "metadata": {},
     "output_type": "display_data"
    },
    {
     "data": {
      "text/html": [
       "<pre>recommendations finished on 71000/133585 queries. users per second: 388524</pre>"
      ],
      "text/plain": [
       "recommendations finished on 71000/133585 queries. users per second: 388524"
      ]
     },
     "metadata": {},
     "output_type": "display_data"
    },
    {
     "data": {
      "text/html": [
       "<pre>recommendations finished on 72000/133585 queries. users per second: 389107</pre>"
      ],
      "text/plain": [
       "recommendations finished on 72000/133585 queries. users per second: 389107"
      ]
     },
     "metadata": {},
     "output_type": "display_data"
    },
    {
     "data": {
      "text/html": [
       "<pre>recommendations finished on 73000/133585 queries. users per second: 389984</pre>"
      ],
      "text/plain": [
       "recommendations finished on 73000/133585 queries. users per second: 389984"
      ]
     },
     "metadata": {},
     "output_type": "display_data"
    },
    {
     "data": {
      "text/html": [
       "<pre>recommendations finished on 74000/133585 queries. users per second: 390724</pre>"
      ],
      "text/plain": [
       "recommendations finished on 74000/133585 queries. users per second: 390724"
      ]
     },
     "metadata": {},
     "output_type": "display_data"
    },
    {
     "data": {
      "text/html": [
       "<pre>recommendations finished on 75000/133585 queries. users per second: 390804</pre>"
      ],
      "text/plain": [
       "recommendations finished on 75000/133585 queries. users per second: 390804"
      ]
     },
     "metadata": {},
     "output_type": "display_data"
    },
    {
     "data": {
      "text/html": [
       "<pre>recommendations finished on 76000/133585 queries. users per second: 391234</pre>"
      ],
      "text/plain": [
       "recommendations finished on 76000/133585 queries. users per second: 391234"
      ]
     },
     "metadata": {},
     "output_type": "display_data"
    },
    {
     "data": {
      "text/html": [
       "<pre>recommendations finished on 77000/133585 queries. users per second: 392055</pre>"
      ],
      "text/plain": [
       "recommendations finished on 77000/133585 queries. users per second: 392055"
      ]
     },
     "metadata": {},
     "output_type": "display_data"
    },
    {
     "data": {
      "text/html": [
       "<pre>recommendations finished on 78000/133585 queries. users per second: 392858</pre>"
      ],
      "text/plain": [
       "recommendations finished on 78000/133585 queries. users per second: 392858"
      ]
     },
     "metadata": {},
     "output_type": "display_data"
    },
    {
     "data": {
      "text/html": [
       "<pre>recommendations finished on 79000/133585 queries. users per second: 393913</pre>"
      ],
      "text/plain": [
       "recommendations finished on 79000/133585 queries. users per second: 393913"
      ]
     },
     "metadata": {},
     "output_type": "display_data"
    },
    {
     "data": {
      "text/html": [
       "<pre>recommendations finished on 80000/133585 queries. users per second: 394793</pre>"
      ],
      "text/plain": [
       "recommendations finished on 80000/133585 queries. users per second: 394793"
      ]
     },
     "metadata": {},
     "output_type": "display_data"
    },
    {
     "data": {
      "text/html": [
       "<pre>recommendations finished on 81000/133585 queries. users per second: 395863</pre>"
      ],
      "text/plain": [
       "recommendations finished on 81000/133585 queries. users per second: 395863"
      ]
     },
     "metadata": {},
     "output_type": "display_data"
    },
    {
     "data": {
      "text/html": [
       "<pre>recommendations finished on 82000/133585 queries. users per second: 396693</pre>"
      ],
      "text/plain": [
       "recommendations finished on 82000/133585 queries. users per second: 396693"
      ]
     },
     "metadata": {},
     "output_type": "display_data"
    },
    {
     "data": {
      "text/html": [
       "<pre>recommendations finished on 83000/133585 queries. users per second: 397563</pre>"
      ],
      "text/plain": [
       "recommendations finished on 83000/133585 queries. users per second: 397563"
      ]
     },
     "metadata": {},
     "output_type": "display_data"
    },
    {
     "data": {
      "text/html": [
       "<pre>recommendations finished on 84000/133585 queries. users per second: 397921</pre>"
      ],
      "text/plain": [
       "recommendations finished on 84000/133585 queries. users per second: 397921"
      ]
     },
     "metadata": {},
     "output_type": "display_data"
    },
    {
     "data": {
      "text/html": [
       "<pre>recommendations finished on 85000/133585 queries. users per second: 398632</pre>"
      ],
      "text/plain": [
       "recommendations finished on 85000/133585 queries. users per second: 398632"
      ]
     },
     "metadata": {},
     "output_type": "display_data"
    },
    {
     "data": {
      "text/html": [
       "<pre>recommendations finished on 87000/133585 queries. users per second: 399908</pre>"
      ],
      "text/plain": [
       "recommendations finished on 87000/133585 queries. users per second: 399908"
      ]
     },
     "metadata": {},
     "output_type": "display_data"
    },
    {
     "data": {
      "text/html": [
       "<pre>recommendations finished on 86000/133585 queries. users per second: 399483</pre>"
      ],
      "text/plain": [
       "recommendations finished on 86000/133585 queries. users per second: 399483"
      ]
     },
     "metadata": {},
     "output_type": "display_data"
    },
    {
     "data": {
      "text/html": [
       "<pre>recommendations finished on 88000/133585 queries. users per second: 400375</pre>"
      ],
      "text/plain": [
       "recommendations finished on 88000/133585 queries. users per second: 400375"
      ]
     },
     "metadata": {},
     "output_type": "display_data"
    },
    {
     "data": {
      "text/html": [
       "<pre>recommendations finished on 89000/133585 queries. users per second: 400185</pre>"
      ],
      "text/plain": [
       "recommendations finished on 89000/133585 queries. users per second: 400185"
      ]
     },
     "metadata": {},
     "output_type": "display_data"
    },
    {
     "data": {
      "text/html": [
       "<pre>recommendations finished on 90000/133585 queries. users per second: 401125</pre>"
      ],
      "text/plain": [
       "recommendations finished on 90000/133585 queries. users per second: 401125"
      ]
     },
     "metadata": {},
     "output_type": "display_data"
    },
    {
     "data": {
      "text/html": [
       "<pre>recommendations finished on 91000/133585 queries. users per second: 401399</pre>"
      ],
      "text/plain": [
       "recommendations finished on 91000/133585 queries. users per second: 401399"
      ]
     },
     "metadata": {},
     "output_type": "display_data"
    },
    {
     "data": {
      "text/html": [
       "<pre>recommendations finished on 92000/133585 queries. users per second: 402103</pre>"
      ],
      "text/plain": [
       "recommendations finished on 92000/133585 queries. users per second: 402103"
      ]
     },
     "metadata": {},
     "output_type": "display_data"
    },
    {
     "data": {
      "text/html": [
       "<pre>recommendations finished on 93000/133585 queries. users per second: 402780</pre>"
      ],
      "text/plain": [
       "recommendations finished on 93000/133585 queries. users per second: 402780"
      ]
     },
     "metadata": {},
     "output_type": "display_data"
    },
    {
     "data": {
      "text/html": [
       "<pre>recommendations finished on 94000/133585 queries. users per second: 403413</pre>"
      ],
      "text/plain": [
       "recommendations finished on 94000/133585 queries. users per second: 403413"
      ]
     },
     "metadata": {},
     "output_type": "display_data"
    },
    {
     "data": {
      "text/html": [
       "<pre>recommendations finished on 95000/133585 queries. users per second: 404166</pre>"
      ],
      "text/plain": [
       "recommendations finished on 95000/133585 queries. users per second: 404166"
      ]
     },
     "metadata": {},
     "output_type": "display_data"
    },
    {
     "data": {
      "text/html": [
       "<pre>recommendations finished on 96000/133585 queries. users per second: 404858</pre>"
      ],
      "text/plain": [
       "recommendations finished on 96000/133585 queries. users per second: 404858"
      ]
     },
     "metadata": {},
     "output_type": "display_data"
    },
    {
     "data": {
      "text/html": [
       "<pre>recommendations finished on 97000/133585 queries. users per second: 405574</pre>"
      ],
      "text/plain": [
       "recommendations finished on 97000/133585 queries. users per second: 405574"
      ]
     },
     "metadata": {},
     "output_type": "display_data"
    },
    {
     "data": {
      "text/html": [
       "<pre>recommendations finished on 98000/133585 queries. users per second: 406192</pre>"
      ],
      "text/plain": [
       "recommendations finished on 98000/133585 queries. users per second: 406192"
      ]
     },
     "metadata": {},
     "output_type": "display_data"
    },
    {
     "data": {
      "text/html": [
       "<pre>recommendations finished on 99000/133585 queries. users per second: 406843</pre>"
      ],
      "text/plain": [
       "recommendations finished on 99000/133585 queries. users per second: 406843"
      ]
     },
     "metadata": {},
     "output_type": "display_data"
    },
    {
     "data": {
      "text/html": [
       "<pre>recommendations finished on 100000/133585 queries. users per second: 407525</pre>"
      ],
      "text/plain": [
       "recommendations finished on 100000/133585 queries. users per second: 407525"
      ]
     },
     "metadata": {},
     "output_type": "display_data"
    },
    {
     "data": {
      "text/html": [
       "<pre>recommendations finished on 101000/133585 queries. users per second: 408340</pre>"
      ],
      "text/plain": [
       "recommendations finished on 101000/133585 queries. users per second: 408340"
      ]
     },
     "metadata": {},
     "output_type": "display_data"
    },
    {
     "data": {
      "text/html": [
       "<pre>recommendations finished on 102000/133585 queries. users per second: 408962</pre>"
      ],
      "text/plain": [
       "recommendations finished on 102000/133585 queries. users per second: 408962"
      ]
     },
     "metadata": {},
     "output_type": "display_data"
    },
    {
     "data": {
      "text/html": [
       "<pre>recommendations finished on 103000/133585 queries. users per second: 409551</pre>"
      ],
      "text/plain": [
       "recommendations finished on 103000/133585 queries. users per second: 409551"
      ]
     },
     "metadata": {},
     "output_type": "display_data"
    },
    {
     "data": {
      "text/html": [
       "<pre>recommendations finished on 104000/133585 queries. users per second: 409993</pre>"
      ],
      "text/plain": [
       "recommendations finished on 104000/133585 queries. users per second: 409993"
      ]
     },
     "metadata": {},
     "output_type": "display_data"
    },
    {
     "data": {
      "text/html": [
       "<pre>recommendations finished on 105000/133585 queries. users per second: 407773</pre>"
      ],
      "text/plain": [
       "recommendations finished on 105000/133585 queries. users per second: 407773"
      ]
     },
     "metadata": {},
     "output_type": "display_data"
    },
    {
     "data": {
      "text/html": [
       "<pre>recommendations finished on 106000/133585 queries. users per second: 408149</pre>"
      ],
      "text/plain": [
       "recommendations finished on 106000/133585 queries. users per second: 408149"
      ]
     },
     "metadata": {},
     "output_type": "display_data"
    },
    {
     "data": {
      "text/html": [
       "<pre>recommendations finished on 107000/133585 queries. users per second: 408420</pre>"
      ],
      "text/plain": [
       "recommendations finished on 107000/133585 queries. users per second: 408420"
      ]
     },
     "metadata": {},
     "output_type": "display_data"
    },
    {
     "data": {
      "text/html": [
       "<pre>recommendations finished on 108000/133585 queries. users per second: 408967</pre>"
      ],
      "text/plain": [
       "recommendations finished on 108000/133585 queries. users per second: 408967"
      ]
     },
     "metadata": {},
     "output_type": "display_data"
    },
    {
     "data": {
      "text/html": [
       "<pre>recommendations finished on 109000/133585 queries. users per second: 409351</pre>"
      ],
      "text/plain": [
       "recommendations finished on 109000/133585 queries. users per second: 409351"
      ]
     },
     "metadata": {},
     "output_type": "display_data"
    },
    {
     "data": {
      "text/html": [
       "<pre>recommendations finished on 110000/133585 queries. users per second: 409799</pre>"
      ],
      "text/plain": [
       "recommendations finished on 110000/133585 queries. users per second: 409799"
      ]
     },
     "metadata": {},
     "output_type": "display_data"
    },
    {
     "data": {
      "text/html": [
       "<pre>recommendations finished on 111000/133585 queries. users per second: 410253</pre>"
      ],
      "text/plain": [
       "recommendations finished on 111000/133585 queries. users per second: 410253"
      ]
     },
     "metadata": {},
     "output_type": "display_data"
    },
    {
     "data": {
      "text/html": [
       "<pre>recommendations finished on 112000/133585 queries. users per second: 410584</pre>"
      ],
      "text/plain": [
       "recommendations finished on 112000/133585 queries. users per second: 410584"
      ]
     },
     "metadata": {},
     "output_type": "display_data"
    },
    {
     "data": {
      "text/html": [
       "<pre>recommendations finished on 113000/133585 queries. users per second: 410955</pre>"
      ],
      "text/plain": [
       "recommendations finished on 113000/133585 queries. users per second: 410955"
      ]
     },
     "metadata": {},
     "output_type": "display_data"
    },
    {
     "data": {
      "text/html": [
       "<pre>recommendations finished on 114000/133585 queries. users per second: 411362</pre>"
      ],
      "text/plain": [
       "recommendations finished on 114000/133585 queries. users per second: 411362"
      ]
     },
     "metadata": {},
     "output_type": "display_data"
    },
    {
     "data": {
      "text/html": [
       "<pre>recommendations finished on 115000/133585 queries. users per second: 411685</pre>"
      ],
      "text/plain": [
       "recommendations finished on 115000/133585 queries. users per second: 411685"
      ]
     },
     "metadata": {},
     "output_type": "display_data"
    },
    {
     "data": {
      "text/html": [
       "<pre>recommendations finished on 116000/133585 queries. users per second: 412001</pre>"
      ],
      "text/plain": [
       "recommendations finished on 116000/133585 queries. users per second: 412001"
      ]
     },
     "metadata": {},
     "output_type": "display_data"
    },
    {
     "data": {
      "text/html": [
       "<pre>recommendations finished on 117000/133585 queries. users per second: 412293</pre>"
      ],
      "text/plain": [
       "recommendations finished on 117000/133585 queries. users per second: 412293"
      ]
     },
     "metadata": {},
     "output_type": "display_data"
    },
    {
     "data": {
      "text/html": [
       "<pre>recommendations finished on 118000/133585 queries. users per second: 412628</pre>"
      ],
      "text/plain": [
       "recommendations finished on 118000/133585 queries. users per second: 412628"
      ]
     },
     "metadata": {},
     "output_type": "display_data"
    },
    {
     "data": {
      "text/html": [
       "<pre>recommendations finished on 119000/133585 queries. users per second: 412912</pre>"
      ],
      "text/plain": [
       "recommendations finished on 119000/133585 queries. users per second: 412912"
      ]
     },
     "metadata": {},
     "output_type": "display_data"
    },
    {
     "data": {
      "text/html": [
       "<pre>recommendations finished on 120000/133585 queries. users per second: 413008</pre>"
      ],
      "text/plain": [
       "recommendations finished on 120000/133585 queries. users per second: 413008"
      ]
     },
     "metadata": {},
     "output_type": "display_data"
    },
    {
     "data": {
      "text/html": [
       "<pre>recommendations finished on 121000/133585 queries. users per second: 413061</pre>"
      ],
      "text/plain": [
       "recommendations finished on 121000/133585 queries. users per second: 413061"
      ]
     },
     "metadata": {},
     "output_type": "display_data"
    },
    {
     "data": {
      "text/html": [
       "<pre>recommendations finished on 122000/133585 queries. users per second: 412904</pre>"
      ],
      "text/plain": [
       "recommendations finished on 122000/133585 queries. users per second: 412904"
      ]
     },
     "metadata": {},
     "output_type": "display_data"
    },
    {
     "data": {
      "text/html": [
       "<pre>recommendations finished on 123000/133585 queries. users per second: 412811</pre>"
      ],
      "text/plain": [
       "recommendations finished on 123000/133585 queries. users per second: 412811"
      ]
     },
     "metadata": {},
     "output_type": "display_data"
    },
    {
     "data": {
      "text/html": [
       "<pre>recommendations finished on 124000/133585 queries. users per second: 412732</pre>"
      ],
      "text/plain": [
       "recommendations finished on 124000/133585 queries. users per second: 412732"
      ]
     },
     "metadata": {},
     "output_type": "display_data"
    },
    {
     "data": {
      "text/html": [
       "<pre>recommendations finished on 125000/133585 queries. users per second: 412347</pre>"
      ],
      "text/plain": [
       "recommendations finished on 125000/133585 queries. users per second: 412347"
      ]
     },
     "metadata": {},
     "output_type": "display_data"
    },
    {
     "data": {
      "text/html": [
       "<pre>recommendations finished on 126000/133585 queries. users per second: 412033</pre>"
      ],
      "text/plain": [
       "recommendations finished on 126000/133585 queries. users per second: 412033"
      ]
     },
     "metadata": {},
     "output_type": "display_data"
    },
    {
     "data": {
      "text/html": [
       "<pre>recommendations finished on 127000/133585 queries. users per second: 411796</pre>"
      ],
      "text/plain": [
       "recommendations finished on 127000/133585 queries. users per second: 411796"
      ]
     },
     "metadata": {},
     "output_type": "display_data"
    },
    {
     "data": {
      "text/html": [
       "<pre>recommendations finished on 128000/133585 queries. users per second: 411456</pre>"
      ],
      "text/plain": [
       "recommendations finished on 128000/133585 queries. users per second: 411456"
      ]
     },
     "metadata": {},
     "output_type": "display_data"
    },
    {
     "data": {
      "text/html": [
       "<pre>recommendations finished on 129000/133585 queries. users per second: 411927</pre>"
      ],
      "text/plain": [
       "recommendations finished on 129000/133585 queries. users per second: 411927"
      ]
     },
     "metadata": {},
     "output_type": "display_data"
    },
    {
     "data": {
      "text/html": [
       "<pre>recommendations finished on 130000/133585 queries. users per second: 412692</pre>"
      ],
      "text/plain": [
       "recommendations finished on 130000/133585 queries. users per second: 412692"
      ]
     },
     "metadata": {},
     "output_type": "display_data"
    },
    {
     "data": {
      "text/html": [
       "<pre>recommendations finished on 131000/133585 queries. users per second: 413697</pre>"
      ],
      "text/plain": [
       "recommendations finished on 131000/133585 queries. users per second: 413697"
      ]
     },
     "metadata": {},
     "output_type": "display_data"
    },
    {
     "data": {
      "text/html": [
       "<pre>recommendations finished on 132000/133585 queries. users per second: 414618</pre>"
      ],
      "text/plain": [
       "recommendations finished on 132000/133585 queries. users per second: 414618"
      ]
     },
     "metadata": {},
     "output_type": "display_data"
    },
    {
     "data": {
      "text/html": [
       "<pre>recommendations finished on 133000/133585 queries. users per second: 413878</pre>"
      ],
      "text/plain": [
       "recommendations finished on 133000/133585 queries. users per second: 413878"
      ]
     },
     "metadata": {},
     "output_type": "display_data"
    },
    {
     "name": "stdout",
     "output_type": "stream",
     "text": [
      "+------------+-----------+--------------------+------+\n",
      "| customerId | productId |       score        | rank |\n",
      "+------------+-----------+--------------------+------+\n",
      "|     9      |    132    | 3.2542372881355934 |  1   |\n",
      "|     9      |     37    | 3.0364372469635628 |  2   |\n",
      "|     9      |     34    | 2.9855595667870034 |  3   |\n",
      "|     9      |    248    | 2.869565217391304  |  4   |\n",
      "|     9      |     3     | 2.836734693877551  |  5   |\n",
      "|     9      |     27    | 2.748148148148148  |  6   |\n",
      "|     9      |    110    | 2.745664739884393  |  7   |\n",
      "|     9      |    230    |        2.7         |  8   |\n",
      "|     9      |     82    |       2.6375       |  9   |\n",
      "|     9      |     32    | 2.6303317535545023 |  10  |\n",
      "|     25     |    132    | 3.2542372881355934 |  1   |\n",
      "|     25     |     37    | 3.0364372469635628 |  2   |\n",
      "|     25     |     34    | 2.9855595667870034 |  3   |\n",
      "|     25     |    248    | 2.869565217391304  |  4   |\n",
      "|     25     |     3     | 2.836734693877551  |  5   |\n",
      "|     25     |     27    | 2.748148148148148  |  6   |\n",
      "|     25     |    110    | 2.745664739884393  |  7   |\n",
      "|     25     |    230    |        2.7         |  8   |\n",
      "|     25     |     82    |       2.6375       |  9   |\n",
      "|     25     |     32    | 2.6303317535545023 |  10  |\n",
      "|     33     |    132    | 3.2542372881355934 |  1   |\n",
      "|     33     |     37    | 3.0364372469635628 |  2   |\n",
      "|     33     |     34    | 2.9855595667870034 |  3   |\n",
      "|     33     |    248    | 2.869565217391304  |  4   |\n",
      "|     33     |     3     | 2.836734693877551  |  5   |\n",
      "|     33     |     27    | 2.748148148148148  |  6   |\n",
      "|     33     |    110    | 2.745664739884393  |  7   |\n",
      "|     33     |    230    |        2.7         |  8   |\n",
      "|     33     |     82    |       2.6375       |  9   |\n",
      "|     33     |     32    | 2.6303317535545023 |  10  |\n",
      "+------------+-----------+--------------------+------+\n",
      "[1335850 rows x 4 columns]\n",
      "\n"
     ]
    }
   ],
   "source": [
    "# Get recommendations for a list of users to recommend (from customers file)\n",
    "# Printed below is head / top 30 rows for first 3 customers with 10 recommendations each\n",
    "\n",
    "popularity_recomm = popularity_model.recommend(users=users_to_recommend, k=n_rec)\n",
    "popularity_recomm.print_rows(n_display)"
   ]
  },
  {
   "cell_type": "markdown",
   "metadata": {},
   "source": [
    "#### Define a `model` function for model selection"
   ]
  },
  {
   "cell_type": "code",
   "execution_count": 67,
   "metadata": {},
   "outputs": [],
   "source": [
    "tc?"
   ]
  },
  {
   "cell_type": "code",
   "execution_count": 44,
   "metadata": {},
   "outputs": [],
   "source": [
    "# Since turicreate is very accessible library, we can define a model selection function as below\n",
    "\n",
    "def model(train_data, name, user_id, item_id, target, users_to_recommend, n_rec, n_display):\n",
    "    if name == 'popularity':\n",
    "        model = tc.popularity_recommender.create(train_data, \n",
    "                                                    user_id=user_id, \n",
    "                                                    item_id=item_id, \n",
    "                                                    target=target)\n",
    "    elif name == 'cosine':\n",
    "        model = tc.item_similarity_recommender.create(train_data, \n",
    "                                                    user_id=user_id, \n",
    "                                                    item_id=item_id, \n",
    "                                                    target=target, \n",
    "                                                    similarity_type='cosine')\n",
    "    elif name == 'pearson':\n",
    "        model = tc.item_similarity_recommender.create(train_data, \n",
    "                                                    user_id=user_id, \n",
    "                                                    item_id=item_id, \n",
    "                                                    target=target, \n",
    "                                                    similarity_type='pearson')\n",
    "        \n",
    "    recom = model.recommend(users=users_to_recommend, k=n_rec)\n",
    "    recom.print_rows(n_display)\n",
    "    return model"
   ]
  },
  {
   "cell_type": "markdown",
   "metadata": {},
   "source": [
    "#### Notes\n",
    "* Once we created the model, we predicted the recommendation items using scores by popularity. As you can tell for each model results above, the rows show the first 30 records from 1000 users with 10 recommendations. These 30 records include 3 users and their recommended items, along with score and descending ranks. \n",
    "* In the result, although different models have different recommendation list, each user is recommended the same list of 10 items. This is because popularity is calculated by taking the most popular items across all users.\n",
    "* If a grouping example below, products 132, 248, 37, and 34 are the most popular (best-selling) across customers. Using their purchase counts divided by the number of customers, we see that these products are at least bought 3 times on average in the training set of transactions (same as the first popularity measure on `purchase_count` variable)"
   ]
  },
  {
   "cell_type": "markdown",
   "metadata": {},
   "source": [
    "## 6. Collaborative Filtering Model\n",
    "\n",
    "* In collaborative filtering, we would recommend items based on how similar users purchase items. For instance, if customer 1 and customer 2 bought similar items, e.g. 1 bought X, Y, Z and 2 bought X, Y, we would recommend an item Z to customer 2.\n",
    "\n",
    "* To define similarity across users, we use the following steps:\n",
    "    1. Create a user-item matrix, where index values represent unique customer IDs and column values represent unique product IDs\n",
    "    \n",
    "    2. Create an item-to-item similarity matrix. The idea is to calculate how similar a product is to another product. There are a number of ways of calculating this. In steps 6.1 and 6.2, we use cosine and pearson similarity measure, respectively.  \n",
    "    \n",
    "        * To calculate similarity between products X and Y, look at all customers who have rated both these items. For example, both X and Y have been rated by customers 1 and 2. \n",
    "        * We then create two item-vectors, v1 for item X and v2 for item Y, in the user-space of (1, 2) and then find the `cosine` or `pearson` angle/distance between these vectors. A zero angle or overlapping vectors with cosine value of 1 means total similarity (or per user, across all items, there is same rating) and an angle of 90 degree would mean cosine of 0 or no similarity.\n",
    "        \n",
    "    3. For each customer, we then predict his likelihood to buy a product (or his purchase counts) for products that he had not bought. \n",
    "    \n",
    "        * For our example, we will calculate rating for user 2 in the case of item Z (target item). To calculate this we weigh the just-calculated similarity-measure between the target item and other items that customer has already bought. The weighing factor is the purchase counts given by the user to items already bought by him. \n",
    "        * We then scale this weighted sum with the sum of similarity-measures so that the calculated rating remains within a predefined limits. Thus, the predicted rating for item Z for user 2 would be calculated using similarity measures.\n",
    "\n",
    "* While I wrote python scripts for all the process including finding similarity using python scripts (which can be found in `scripts` folder, we can use `turicreate` library for now to capture different measures like using `cosine` and `pearson` distance, and evaluate the best model."
   ]
  },
  {
   "cell_type": "markdown",
   "metadata": {},
   "source": [
    "### 6.1. `Cosine` similarity\n",
    "* Similarity is the cosine of the angle between the 2 vectors of the item vectors of A and B\n",
    "* It is defined by the following formula\n",
    "![](https://encrypted-tbn0.gstatic.com/images?q=tbn:ANd9GcTnRHSAx1c084UXF2wIHYwaHJLmq2qKtNk_YIv3RjHUO00xwlkt)\n",
    "* Closer the vectors, smaller will be the angle and larger the cosine"
   ]
  },
  {
   "cell_type": "markdown",
   "metadata": {},
   "source": [
    "### scipy pdist caculate distance, 1 - distance is exactly the similarity calculated based on the above formula. It is good to confirm this. \n",
    "\n",
    "need to remember only calculate the similarity of two products with the customers who rated/bought the two products. $r_{ij} =1 $(customer j rated movie i) as nated in Andrew Ng's lessons.\n",
    "\n",
    "### start"
   ]
  },
  {
   "cell_type": "code",
   "execution_count": 52,
   "metadata": {},
   "outputs": [],
   "source": [
    "from scipy.spatial.distance import pdist"
   ]
  },
  {
   "cell_type": "code",
   "execution_count": 53,
   "metadata": {},
   "outputs": [
    {
     "data": {
      "text/html": [
       "<div>\n",
       "<style scoped>\n",
       "    .dataframe tbody tr th:only-of-type {\n",
       "        vertical-align: middle;\n",
       "    }\n",
       "\n",
       "    .dataframe tbody tr th {\n",
       "        vertical-align: top;\n",
       "    }\n",
       "\n",
       "    .dataframe thead th {\n",
       "        text-align: right;\n",
       "    }\n",
       "</style>\n",
       "<table border=\"1\" class=\"dataframe\">\n",
       "  <thead>\n",
       "    <tr style=\"text-align: right;\">\n",
       "      <th></th>\n",
       "      <th>customerId</th>\n",
       "      <th>productId</th>\n",
       "      <th>purchase_count</th>\n",
       "    </tr>\n",
       "  </thead>\n",
       "  <tbody>\n",
       "    <tr>\n",
       "      <th>7218287</th>\n",
       "      <td>12891</td>\n",
       "      <td>295</td>\n",
       "      <td>1</td>\n",
       "    </tr>\n",
       "    <tr>\n",
       "      <th>5361818</th>\n",
       "      <td>13051</td>\n",
       "      <td>219</td>\n",
       "      <td>1</td>\n",
       "    </tr>\n",
       "  </tbody>\n",
       "</table>\n",
       "</div>"
      ],
      "text/plain": [
       "         customerId productId  purchase_count\n",
       "7218287       12891       295               1\n",
       "5361818       13051       219               1"
      ]
     },
     "execution_count": 53,
     "metadata": {},
     "output_type": "execute_result"
    },
    {
     "data": {
      "text/html": [
       "<div>\n",
       "<style scoped>\n",
       "    .dataframe tbody tr th:only-of-type {\n",
       "        vertical-align: middle;\n",
       "    }\n",
       "\n",
       "    .dataframe tbody tr th {\n",
       "        vertical-align: top;\n",
       "    }\n",
       "\n",
       "    .dataframe thead th {\n",
       "        text-align: right;\n",
       "    }\n",
       "</style>\n",
       "<table border=\"1\" class=\"dataframe\">\n",
       "  <thead>\n",
       "    <tr style=\"text-align: right;\">\n",
       "      <th>productId</th>\n",
       "      <th>0</th>\n",
       "      <th>1</th>\n",
       "      <th>10</th>\n",
       "      <th>100</th>\n",
       "      <th>101</th>\n",
       "      <th>102</th>\n",
       "      <th>103</th>\n",
       "      <th>104</th>\n",
       "      <th>105</th>\n",
       "      <th>106</th>\n",
       "      <th>...</th>\n",
       "      <th>90</th>\n",
       "      <th>91</th>\n",
       "      <th>92</th>\n",
       "      <th>93</th>\n",
       "      <th>94</th>\n",
       "      <th>95</th>\n",
       "      <th>96</th>\n",
       "      <th>97</th>\n",
       "      <th>98</th>\n",
       "      <th>99</th>\n",
       "    </tr>\n",
       "    <tr>\n",
       "      <th>customerId</th>\n",
       "      <th></th>\n",
       "      <th></th>\n",
       "      <th></th>\n",
       "      <th></th>\n",
       "      <th></th>\n",
       "      <th></th>\n",
       "      <th></th>\n",
       "      <th></th>\n",
       "      <th></th>\n",
       "      <th></th>\n",
       "      <th></th>\n",
       "      <th></th>\n",
       "      <th></th>\n",
       "      <th></th>\n",
       "      <th></th>\n",
       "      <th></th>\n",
       "      <th></th>\n",
       "      <th></th>\n",
       "      <th></th>\n",
       "      <th></th>\n",
       "      <th></th>\n",
       "    </tr>\n",
       "  </thead>\n",
       "  <tbody>\n",
       "    <tr>\n",
       "      <th>0</th>\n",
       "      <td>0.0</td>\n",
       "      <td>2.0</td>\n",
       "      <td>0.0</td>\n",
       "      <td>0.0</td>\n",
       "      <td>0.0</td>\n",
       "      <td>0.0</td>\n",
       "      <td>0.0</td>\n",
       "      <td>0.0</td>\n",
       "      <td>0.0</td>\n",
       "      <td>0.0</td>\n",
       "      <td>...</td>\n",
       "      <td>0.0</td>\n",
       "      <td>0.0</td>\n",
       "      <td>0.0</td>\n",
       "      <td>3.0</td>\n",
       "      <td>0.0</td>\n",
       "      <td>0.0</td>\n",
       "      <td>0.0</td>\n",
       "      <td>0.0</td>\n",
       "      <td>0.0</td>\n",
       "      <td>0.0</td>\n",
       "    </tr>\n",
       "    <tr>\n",
       "      <th>1</th>\n",
       "      <td>0.0</td>\n",
       "      <td>0.0</td>\n",
       "      <td>0.0</td>\n",
       "      <td>0.0</td>\n",
       "      <td>0.0</td>\n",
       "      <td>0.0</td>\n",
       "      <td>0.0</td>\n",
       "      <td>0.0</td>\n",
       "      <td>0.0</td>\n",
       "      <td>0.0</td>\n",
       "      <td>...</td>\n",
       "      <td>0.0</td>\n",
       "      <td>0.0</td>\n",
       "      <td>0.0</td>\n",
       "      <td>0.0</td>\n",
       "      <td>0.0</td>\n",
       "      <td>0.0</td>\n",
       "      <td>0.0</td>\n",
       "      <td>0.0</td>\n",
       "      <td>0.0</td>\n",
       "      <td>0.0</td>\n",
       "    </tr>\n",
       "  </tbody>\n",
       "</table>\n",
       "<p>2 rows × 300 columns</p>\n",
       "</div>"
      ],
      "text/plain": [
       "productId     0    1   10  100  101  102  103  104  105  106  ...   90   91  \\\n",
       "customerId                                                    ...             \n",
       "0           0.0  2.0  0.0  0.0  0.0  0.0  0.0  0.0  0.0  0.0  ...  0.0  0.0   \n",
       "1           0.0  0.0  0.0  0.0  0.0  0.0  0.0  0.0  0.0  0.0  ...  0.0  0.0   \n",
       "\n",
       "productId    92   93   94   95   96   97   98   99  \n",
       "customerId                                          \n",
       "0           0.0  3.0  0.0  0.0  0.0  0.0  0.0  0.0  \n",
       "1           0.0  0.0  0.0  0.0  0.0  0.0  0.0  0.0  \n",
       "\n",
       "[2 rows x 300 columns]"
      ]
     },
     "execution_count": 53,
     "metadata": {},
     "output_type": "execute_result"
    },
    {
     "data": {
      "text/plain": [
       "array([[0., 2., 0., 0., 0., 0., 0., 0., 0., 0., 0., 0., 0., 0., 0., 0.,\n",
       "        0., 0., 0., 0., 0., 0., 0., 0., 0., 0., 0., 0., 0., 0., 0., 0.,\n",
       "        0., 0., 0., 1., 0., 0., 0., 0., 0., 0., 0., 0., 0., 0., 0., 0.,\n",
       "        0., 0., 0., 0., 0., 0., 0., 0., 0., 0., 0., 0., 0., 0., 0., 0.,\n",
       "        0., 1., 0., 0., 0., 0., 0., 0., 0., 0., 0., 0., 0., 0., 0., 0.,\n",
       "        0., 0., 0., 0., 0., 0., 0., 0., 0., 0., 0., 0., 0., 0., 0., 0.,\n",
       "        0., 0., 0., 0., 0., 3., 0., 0., 0., 0., 0., 0., 0., 0., 1., 0.,\n",
       "        0., 1., 0., 0., 0., 0., 0., 0., 0., 0., 0., 0., 0., 0., 0., 0.,\n",
       "        0., 0., 0., 1., 0., 0., 0., 0., 0., 0., 0., 0., 0., 0., 0., 0.,\n",
       "        0., 0., 0., 0., 0., 0., 0., 0., 0., 0., 0., 0., 0., 0., 0., 0.,\n",
       "        0., 0., 0., 0., 0., 0., 0., 0., 0., 0., 0., 0., 0., 0., 2., 1.,\n",
       "        0., 0., 0., 0., 5., 0., 0., 0., 0., 0., 0., 0., 0., 0., 0., 0.,\n",
       "        0., 0., 0., 0., 0., 0., 0., 0., 0., 0., 0., 0., 0., 0., 0., 0.,\n",
       "        0., 0., 0., 0., 0., 0., 0., 0., 0., 0., 0., 0., 0., 0., 0., 0.,\n",
       "        0., 2., 0., 0., 0., 0., 0., 0., 0., 0., 0., 0., 0., 0., 0., 0.,\n",
       "        0., 0., 0., 0., 0., 0., 0., 0., 1., 0., 0., 0., 0., 0., 0., 0.,\n",
       "        0., 0., 0., 0., 0., 0., 0., 0., 0., 0., 0., 0., 0., 0., 0., 0.,\n",
       "        0., 0., 0., 0., 0., 0., 0., 0., 0., 0., 0., 0., 0., 0., 0., 0.,\n",
       "        0., 0., 0., 0., 0., 3., 0., 0., 0., 0., 0., 0.]])"
      ]
     },
     "execution_count": 53,
     "metadata": {},
     "output_type": "execute_result"
    }
   ],
   "source": [
    "train[:2]\n",
    "df = pd.pivot_table(train, index='customerId', columns='productId', values='purchase_count').fillna(0)\n",
    "df.head(2)\n",
    "np.array(df.iloc[:1, :])"
   ]
  },
  {
   "cell_type": "code",
   "execution_count": 54,
   "metadata": {},
   "outputs": [],
   "source": [
    "def similarity_cosine(u, v):\n",
    "    '''\n",
    "    return similarity between vectors u and v \n",
    "    '''\n",
    "    a = (u*v).sum()\n",
    "    b = np.sqrt((u**2).sum()) * np.sqrt((v**2).sum())\n",
    "    return a/b"
   ]
  },
  {
   "cell_type": "code",
   "execution_count": 55,
   "metadata": {},
   "outputs": [],
   "source": [
    "# calculate similarity of products with data from customers who bought both. "
   ]
  },
  {
   "cell_type": "code",
   "execution_count": 62,
   "metadata": {},
   "outputs": [
    {
     "data": {
      "text/html": [
       "<div>\n",
       "<style scoped>\n",
       "    .dataframe tbody tr th:only-of-type {\n",
       "        vertical-align: middle;\n",
       "    }\n",
       "\n",
       "    .dataframe tbody tr th {\n",
       "        vertical-align: top;\n",
       "    }\n",
       "\n",
       "    .dataframe thead th {\n",
       "        text-align: right;\n",
       "    }\n",
       "</style>\n",
       "<table border=\"1\" class=\"dataframe\">\n",
       "  <thead>\n",
       "    <tr style=\"text-align: right;\">\n",
       "      <th>productId</th>\n",
       "      <th>0</th>\n",
       "      <th>1</th>\n",
       "    </tr>\n",
       "    <tr>\n",
       "      <th>customerId</th>\n",
       "      <th></th>\n",
       "      <th></th>\n",
       "    </tr>\n",
       "  </thead>\n",
       "  <tbody>\n",
       "    <tr>\n",
       "      <th>0</th>\n",
       "      <td>0.0</td>\n",
       "      <td>2.0</td>\n",
       "    </tr>\n",
       "    <tr>\n",
       "      <th>1</th>\n",
       "      <td>0.0</td>\n",
       "      <td>0.0</td>\n",
       "    </tr>\n",
       "  </tbody>\n",
       "</table>\n",
       "</div>"
      ],
      "text/plain": [
       "productId     0    1\n",
       "customerId          \n",
       "0           0.0  2.0\n",
       "1           0.0  0.0"
      ]
     },
     "execution_count": 62,
     "metadata": {},
     "output_type": "execute_result"
    },
    {
     "data": {
      "text/plain": [
       "array([0.82021602])"
      ]
     },
     "execution_count": 62,
     "metadata": {},
     "output_type": "execute_result"
    },
    {
     "data": {
      "text/plain": [
       "0.17978398097813167"
      ]
     },
     "execution_count": 62,
     "metadata": {},
     "output_type": "execute_result"
    }
   ],
   "source": [
    "# this shows that 1 - pdist = similarity\n",
    "dftmp = df.iloc[:, :2]\n",
    "dftmp.head(2)\n",
    "# pdist return pairwise distance in order, 0/1, 0,2, ....1/2, 1/3, ... 2/3, 2/4\n",
    "dis = pdist(dftmp.T, metric='cosine')\n",
    "dis\n",
    "\n",
    "u = dftmp['0']\n",
    "v = dftmp['1']\n",
    "sim = similarity_cosine(u, v)\n",
    "sim\n",
    "assert sim -(1-dis[0]) < 1e-8"
   ]
  },
  {
   "cell_type": "code",
   "execution_count": 65,
   "metadata": {},
   "outputs": [
    {
     "data": {
      "text/plain": [
       "(23321, 2)"
      ]
     },
     "execution_count": 65,
     "metadata": {},
     "output_type": "execute_result"
    }
   ],
   "source": [
    "dftmp.shape"
   ]
  },
  {
   "cell_type": "code",
   "execution_count": 64,
   "metadata": {},
   "outputs": [
    {
     "data": {
      "text/plain": [
       "(4383, 2)"
      ]
     },
     "execution_count": 64,
     "metadata": {},
     "output_type": "execute_result"
    }
   ],
   "source": [
    "dftmp1 = dftmp[((dftmp['0']!=0)|(dftmp['1']!=0))]\n",
    "dftmp1.shape"
   ]
  },
  {
   "cell_type": "code",
   "execution_count": 66,
   "metadata": {},
   "outputs": [
    {
     "data": {
      "text/plain": [
       "array([0.82021602])"
      ]
     },
     "execution_count": 66,
     "metadata": {},
     "output_type": "execute_result"
    },
    {
     "data": {
      "text/plain": [
       "0.17978398097813167"
      ]
     },
     "execution_count": 66,
     "metadata": {},
     "output_type": "execute_result"
    }
   ],
   "source": [
    "dis = pdist(dftmp1.T, metric='cosine')\n",
    "dis\n",
    "\n",
    "u = dftmp1['0']\n",
    "v = dftmp1['1']\n",
    "sim = similarity_cosine(u, v)\n",
    "sim\n",
    "assert sim -(1-dis[0]) < 1e-8"
   ]
  },
  {
   "cell_type": "code",
   "execution_count": 209,
   "metadata": {},
   "outputs": [],
   "source": []
  },
  {
   "cell_type": "code",
   "execution_count": 185,
   "metadata": {},
   "outputs": [
    {
     "data": {
      "text/plain": [
       "(23330, 300)"
      ]
     },
     "execution_count": 185,
     "metadata": {},
     "output_type": "execute_result"
    },
    {
     "data": {
      "text/plain": [
       "<matplotlib.axes._subplots.AxesSubplot at 0x7f23bed5e0b8>"
      ]
     },
     "execution_count": 185,
     "metadata": {},
     "output_type": "execute_result"
    },
    {
     "data": {
      "image/png": "[encoded data removed]",
      "text/plain": [
       "<Figure size 1152x864 with 2 Axes>"
      ]
     },
     "metadata": {},
     "output_type": "display_data"
    }
   ],
   "source": [
    "# relatively low similarity\n",
    "dis = pdist(df.T, metric='cosine')\n",
    "df.shape\n",
    "\n",
    "a = np.zeros(90000).reshape(300, 300)\n",
    "a[np.triu_indices(300, 1)] = 1 - dis\n",
    "\n",
    "# product similarity in term of they are bought/ignored together by customers\n",
    "f, ax = plt.subplots(figsize=(16, 12))\n",
    "sns.heatmap(a, ax=ax)"
   ]
  },
  {
   "cell_type": "markdown",
   "metadata": {},
   "source": [
    "### end"
   ]
  },
  {
   "cell_type": "markdown",
   "metadata": {},
   "source": [
    "#### Using purchase count"
   ]
  },
  {
   "cell_type": "code",
   "execution_count": 45,
   "metadata": {},
   "outputs": [
    {
     "data": {
      "text/html": [
       "<pre>Preparing data set.</pre>"
      ],
      "text/plain": [
       "Preparing data set."
      ]
     },
     "metadata": {},
     "output_type": "display_data"
    },
    {
     "data": {
      "text/html": [
       "<pre>    Data has 106868 observations with 23321 users and 300 items.</pre>"
      ],
      "text/plain": [
       "    Data has 106868 observations with 23321 users and 300 items."
      ]
     },
     "metadata": {},
     "output_type": "display_data"
    },
    {
     "data": {
      "text/html": [
       "<pre>    Data prepared in: 0.471974s</pre>"
      ],
      "text/plain": [
       "    Data prepared in: 0.471974s"
      ]
     },
     "metadata": {},
     "output_type": "display_data"
    },
    {
     "data": {
      "text/html": [
       "<pre>Training model from provided data.</pre>"
      ],
      "text/plain": [
       "Training model from provided data."
      ]
     },
     "metadata": {},
     "output_type": "display_data"
    },
    {
     "data": {
      "text/html": [
       "<pre>Gathering per-item and per-user statistics.</pre>"
      ],
      "text/plain": [
       "Gathering per-item and per-user statistics."
      ]
     },
     "metadata": {},
     "output_type": "display_data"
    },
    {
     "data": {
      "text/html": [
       "<pre>+--------------------------------+------------+</pre>"
      ],
      "text/plain": [
       "+--------------------------------+------------+"
      ]
     },
     "metadata": {},
     "output_type": "display_data"
    },
    {
     "data": {
      "text/html": [
       "<pre>| Elapsed Time (Item Statistics) | % Complete |</pre>"
      ],
      "text/plain": [
       "| Elapsed Time (Item Statistics) | % Complete |"
      ]
     },
     "metadata": {},
     "output_type": "display_data"
    },
    {
     "data": {
      "text/html": [
       "<pre>+--------------------------------+------------+</pre>"
      ],
      "text/plain": [
       "+--------------------------------+------------+"
      ]
     },
     "metadata": {},
     "output_type": "display_data"
    },
    {
     "data": {
      "text/html": [
       "<pre>| 28.333ms                       | 4.25       |</pre>"
      ],
      "text/plain": [
       "| 28.333ms                       | 4.25       |"
      ]
     },
     "metadata": {},
     "output_type": "display_data"
    },
    {
     "data": {
      "text/html": [
       "<pre>| 193.421ms                      | 100        |</pre>"
      ],
      "text/plain": [
       "| 193.421ms                      | 100        |"
      ]
     },
     "metadata": {},
     "output_type": "display_data"
    },
    {
     "data": {
      "text/html": [
       "<pre>+--------------------------------+------------+</pre>"
      ],
      "text/plain": [
       "+--------------------------------+------------+"
      ]
     },
     "metadata": {},
     "output_type": "display_data"
    },
    {
     "data": {
      "text/html": [
       "<pre>Setting up lookup tables.</pre>"
      ],
      "text/plain": [
       "Setting up lookup tables."
      ]
     },
     "metadata": {},
     "output_type": "display_data"
    },
    {
     "data": {
      "text/html": [
       "<pre>Processing data in one pass using dense lookup tables.</pre>"
      ],
      "text/plain": [
       "Processing data in one pass using dense lookup tables."
      ]
     },
     "metadata": {},
     "output_type": "display_data"
    },
    {
     "data": {
      "text/html": [
       "<pre>+-------------------------------------+------------------+-----------------+</pre>"
      ],
      "text/plain": [
       "+-------------------------------------+------------------+-----------------+"
      ]
     },
     "metadata": {},
     "output_type": "display_data"
    },
    {
     "data": {
      "text/html": [
       "<pre>| Elapsed Time (Constructing Lookups) | Total % Complete | Items Processed |</pre>"
      ],
      "text/plain": [
       "| Elapsed Time (Constructing Lookups) | Total % Complete | Items Processed |"
      ]
     },
     "metadata": {},
     "output_type": "display_data"
    },
    {
     "data": {
      "text/html": [
       "<pre>+-------------------------------------+------------------+-----------------+</pre>"
      ],
      "text/plain": [
       "+-------------------------------------+------------------+-----------------+"
      ]
     },
     "metadata": {},
     "output_type": "display_data"
    },
    {
     "data": {
      "text/html": [
       "<pre>| 194.992ms                           | 0                | 0               |</pre>"
      ],
      "text/plain": [
       "| 194.992ms                           | 0                | 0               |"
      ]
     },
     "metadata": {},
     "output_type": "display_data"
    },
    {
     "data": {
      "text/html": [
       "<pre>| 302.348ms                           | 100              | 300             |</pre>"
      ],
      "text/plain": [
       "| 302.348ms                           | 100              | 300             |"
      ]
     },
     "metadata": {},
     "output_type": "display_data"
    },
    {
     "data": {
      "text/html": [
       "<pre>+-------------------------------------+------------------+-----------------+</pre>"
      ],
      "text/plain": [
       "+-------------------------------------+------------------+-----------------+"
      ]
     },
     "metadata": {},
     "output_type": "display_data"
    },
    {
     "data": {
      "text/html": [
       "<pre>Finalizing lookup tables.</pre>"
      ],
      "text/plain": [
       "Finalizing lookup tables."
      ]
     },
     "metadata": {},
     "output_type": "display_data"
    },
    {
     "data": {
      "text/html": [
       "<pre>Generating candidate set for working with new users.</pre>"
      ],
      "text/plain": [
       "Generating candidate set for working with new users."
      ]
     },
     "metadata": {},
     "output_type": "display_data"
    },
    {
     "data": {
      "text/html": [
       "<pre>Finished training in 1.40212s</pre>"
      ],
      "text/plain": [
       "Finished training in 1.40212s"
      ]
     },
     "metadata": {},
     "output_type": "display_data"
    },
    {
     "data": {
      "text/html": [
       "<pre>recommendations finished on 1000/133585 queries. users per second: 37359.4</pre>"
      ],
      "text/plain": [
       "recommendations finished on 1000/133585 queries. users per second: 37359.4"
      ]
     },
     "metadata": {},
     "output_type": "display_data"
    },
    {
     "data": {
      "text/html": [
       "<pre>recommendations finished on 2000/133585 queries. users per second: 65282.7</pre>"
      ],
      "text/plain": [
       "recommendations finished on 2000/133585 queries. users per second: 65282.7"
      ]
     },
     "metadata": {},
     "output_type": "display_data"
    },
    {
     "data": {
      "text/html": [
       "<pre>recommendations finished on 3000/133585 queries. users per second: 90068.5</pre>"
      ],
      "text/plain": [
       "recommendations finished on 3000/133585 queries. users per second: 90068.5"
      ]
     },
     "metadata": {},
     "output_type": "display_data"
    },
    {
     "data": {
      "text/html": [
       "<pre>recommendations finished on 4000/133585 queries. users per second: 111071</pre>"
      ],
      "text/plain": [
       "recommendations finished on 4000/133585 queries. users per second: 111071"
      ]
     },
     "metadata": {},
     "output_type": "display_data"
    },
    {
     "data": {
      "text/html": [
       "<pre>recommendations finished on 5000/133585 queries. users per second: 129386</pre>"
      ],
      "text/plain": [
       "recommendations finished on 5000/133585 queries. users per second: 129386"
      ]
     },
     "metadata": {},
     "output_type": "display_data"
    },
    {
     "data": {
      "text/html": [
       "<pre>recommendations finished on 6000/133585 queries. users per second: 145289</pre>"
      ],
      "text/plain": [
       "recommendations finished on 6000/133585 queries. users per second: 145289"
      ]
     },
     "metadata": {},
     "output_type": "display_data"
    },
    {
     "data": {
      "text/html": [
       "<pre>recommendations finished on 7000/133585 queries. users per second: 159178</pre>"
      ],
      "text/plain": [
       "recommendations finished on 7000/133585 queries. users per second: 159178"
      ]
     },
     "metadata": {},
     "output_type": "display_data"
    },
    {
     "data": {
      "text/html": [
       "<pre>recommendations finished on 8000/133585 queries. users per second: 171479</pre>"
      ],
      "text/plain": [
       "recommendations finished on 8000/133585 queries. users per second: 171479"
      ]
     },
     "metadata": {},
     "output_type": "display_data"
    },
    {
     "data": {
      "text/html": [
       "<pre>recommendations finished on 9000/133585 queries. users per second: 182571</pre>"
      ],
      "text/plain": [
       "recommendations finished on 9000/133585 queries. users per second: 182571"
      ]
     },
     "metadata": {},
     "output_type": "display_data"
    },
    {
     "data": {
      "text/html": [
       "<pre>recommendations finished on 10000/133585 queries. users per second: 192367</pre>"
      ],
      "text/plain": [
       "recommendations finished on 10000/133585 queries. users per second: 192367"
      ]
     },
     "metadata": {},
     "output_type": "display_data"
    },
    {
     "data": {
      "text/html": [
       "<pre>recommendations finished on 11000/133585 queries. users per second: 201299</pre>"
      ],
      "text/plain": [
       "recommendations finished on 11000/133585 queries. users per second: 201299"
      ]
     },
     "metadata": {},
     "output_type": "display_data"
    },
    {
     "data": {
      "text/html": [
       "<pre>recommendations finished on 12000/133585 queries. users per second: 209530</pre>"
      ],
      "text/plain": [
       "recommendations finished on 12000/133585 queries. users per second: 209530"
      ]
     },
     "metadata": {},
     "output_type": "display_data"
    },
    {
     "data": {
      "text/html": [
       "<pre>recommendations finished on 13000/133585 queries. users per second: 216605</pre>"
      ],
      "text/plain": [
       "recommendations finished on 13000/133585 queries. users per second: 216605"
      ]
     },
     "metadata": {},
     "output_type": "display_data"
    },
    {
     "data": {
      "text/html": [
       "<pre>recommendations finished on 14000/133585 queries. users per second: 223204</pre>"
      ],
      "text/plain": [
       "recommendations finished on 14000/133585 queries. users per second: 223204"
      ]
     },
     "metadata": {},
     "output_type": "display_data"
    },
    {
     "data": {
      "text/html": [
       "<pre>recommendations finished on 15000/133585 queries. users per second: 229319</pre>"
      ],
      "text/plain": [
       "recommendations finished on 15000/133585 queries. users per second: 229319"
      ]
     },
     "metadata": {},
     "output_type": "display_data"
    },
    {
     "data": {
      "text/html": [
       "<pre>recommendations finished on 16000/133585 queries. users per second: 234993</pre>"
      ],
      "text/plain": [
       "recommendations finished on 16000/133585 queries. users per second: 234993"
      ]
     },
     "metadata": {},
     "output_type": "display_data"
    },
    {
     "data": {
      "text/html": [
       "<pre>recommendations finished on 17000/133585 queries. users per second: 240351</pre>"
      ],
      "text/plain": [
       "recommendations finished on 17000/133585 queries. users per second: 240351"
      ]
     },
     "metadata": {},
     "output_type": "display_data"
    },
    {
     "data": {
      "text/html": [
       "<pre>recommendations finished on 18000/133585 queries. users per second: 243309</pre>"
      ],
      "text/plain": [
       "recommendations finished on 18000/133585 queries. users per second: 243309"
      ]
     },
     "metadata": {},
     "output_type": "display_data"
    },
    {
     "data": {
      "text/html": [
       "<pre>recommendations finished on 19000/133585 queries. users per second: 247422</pre>"
      ],
      "text/plain": [
       "recommendations finished on 19000/133585 queries. users per second: 247422"
      ]
     },
     "metadata": {},
     "output_type": "display_data"
    },
    {
     "data": {
      "text/html": [
       "<pre>recommendations finished on 20000/133585 queries. users per second: 250671</pre>"
      ],
      "text/plain": [
       "recommendations finished on 20000/133585 queries. users per second: 250671"
      ]
     },
     "metadata": {},
     "output_type": "display_data"
    },
    {
     "data": {
      "text/html": [
       "<pre>recommendations finished on 21000/133585 queries. users per second: 254268</pre>"
      ],
      "text/plain": [
       "recommendations finished on 21000/133585 queries. users per second: 254268"
      ]
     },
     "metadata": {},
     "output_type": "display_data"
    },
    {
     "data": {
      "text/html": [
       "<pre>recommendations finished on 22000/133585 queries. users per second: 257491</pre>"
      ],
      "text/plain": [
       "recommendations finished on 22000/133585 queries. users per second: 257491"
      ]
     },
     "metadata": {},
     "output_type": "display_data"
    },
    {
     "data": {
      "text/html": [
       "<pre>recommendations finished on 23000/133585 queries. users per second: 260600</pre>"
      ],
      "text/plain": [
       "recommendations finished on 23000/133585 queries. users per second: 260600"
      ]
     },
     "metadata": {},
     "output_type": "display_data"
    },
    {
     "data": {
      "text/html": [
       "<pre>recommendations finished on 24000/133585 queries. users per second: 263331</pre>"
      ],
      "text/plain": [
       "recommendations finished on 24000/133585 queries. users per second: 263331"
      ]
     },
     "metadata": {},
     "output_type": "display_data"
    },
    {
     "data": {
      "text/html": [
       "<pre>recommendations finished on 25000/133585 queries. users per second: 266175</pre>"
      ],
      "text/plain": [
       "recommendations finished on 25000/133585 queries. users per second: 266175"
      ]
     },
     "metadata": {},
     "output_type": "display_data"
    },
    {
     "data": {
      "text/html": [
       "<pre>recommendations finished on 26000/133585 queries. users per second: 268565</pre>"
      ],
      "text/plain": [
       "recommendations finished on 26000/133585 queries. users per second: 268565"
      ]
     },
     "metadata": {},
     "output_type": "display_data"
    },
    {
     "data": {
      "text/html": [
       "<pre>recommendations finished on 27000/133585 queries. users per second: 270899</pre>"
      ],
      "text/plain": [
       "recommendations finished on 27000/133585 queries. users per second: 270899"
      ]
     },
     "metadata": {},
     "output_type": "display_data"
    },
    {
     "data": {
      "text/html": [
       "<pre>recommendations finished on 28000/133585 queries. users per second: 273152</pre>"
      ],
      "text/plain": [
       "recommendations finished on 28000/133585 queries. users per second: 273152"
      ]
     },
     "metadata": {},
     "output_type": "display_data"
    },
    {
     "data": {
      "text/html": [
       "<pre>recommendations finished on 29000/133585 queries. users per second: 275346</pre>"
      ],
      "text/plain": [
       "recommendations finished on 29000/133585 queries. users per second: 275346"
      ]
     },
     "metadata": {},
     "output_type": "display_data"
    },
    {
     "data": {
      "text/html": [
       "<pre>recommendations finished on 30000/133585 queries. users per second: 277354</pre>"
      ],
      "text/plain": [
       "recommendations finished on 30000/133585 queries. users per second: 277354"
      ]
     },
     "metadata": {},
     "output_type": "display_data"
    },
    {
     "data": {
      "text/html": [
       "<pre>recommendations finished on 31000/133585 queries. users per second: 278960</pre>"
      ],
      "text/plain": [
       "recommendations finished on 31000/133585 queries. users per second: 278960"
      ]
     },
     "metadata": {},
     "output_type": "display_data"
    },
    {
     "data": {
      "text/html": [
       "<pre>recommendations finished on 32000/133585 queries. users per second: 280941</pre>"
      ],
      "text/plain": [
       "recommendations finished on 32000/133585 queries. users per second: 280941"
      ]
     },
     "metadata": {},
     "output_type": "display_data"
    },
    {
     "data": {
      "text/html": [
       "<pre>recommendations finished on 33000/133585 queries. users per second: 282701</pre>"
      ],
      "text/plain": [
       "recommendations finished on 33000/133585 queries. users per second: 282701"
      ]
     },
     "metadata": {},
     "output_type": "display_data"
    },
    {
     "data": {
      "text/html": [
       "<pre>recommendations finished on 34000/133585 queries. users per second: 284340</pre>"
      ],
      "text/plain": [
       "recommendations finished on 34000/133585 queries. users per second: 284340"
      ]
     },
     "metadata": {},
     "output_type": "display_data"
    },
    {
     "data": {
      "text/html": [
       "<pre>recommendations finished on 35000/133585 queries. users per second: 285913</pre>"
      ],
      "text/plain": [
       "recommendations finished on 35000/133585 queries. users per second: 285913"
      ]
     },
     "metadata": {},
     "output_type": "display_data"
    },
    {
     "data": {
      "text/html": [
       "<pre>recommendations finished on 36000/133585 queries. users per second: 287258</pre>"
      ],
      "text/plain": [
       "recommendations finished on 36000/133585 queries. users per second: 287258"
      ]
     },
     "metadata": {},
     "output_type": "display_data"
    },
    {
     "data": {
      "text/html": [
       "<pre>recommendations finished on 37000/133585 queries. users per second: 288785</pre>"
      ],
      "text/plain": [
       "recommendations finished on 37000/133585 queries. users per second: 288785"
      ]
     },
     "metadata": {},
     "output_type": "display_data"
    },
    {
     "data": {
      "text/html": [
       "<pre>recommendations finished on 38000/133585 queries. users per second: 290203</pre>"
      ],
      "text/plain": [
       "recommendations finished on 38000/133585 queries. users per second: 290203"
      ]
     },
     "metadata": {},
     "output_type": "display_data"
    },
    {
     "data": {
      "text/html": [
       "<pre>recommendations finished on 39000/133585 queries. users per second: 291471</pre>"
      ],
      "text/plain": [
       "recommendations finished on 39000/133585 queries. users per second: 291471"
      ]
     },
     "metadata": {},
     "output_type": "display_data"
    },
    {
     "data": {
      "text/html": [
       "<pre>recommendations finished on 40000/133585 queries. users per second: 292676</pre>"
      ],
      "text/plain": [
       "recommendations finished on 40000/133585 queries. users per second: 292676"
      ]
     },
     "metadata": {},
     "output_type": "display_data"
    },
    {
     "data": {
      "text/html": [
       "<pre>recommendations finished on 41000/133585 queries. users per second: 293888</pre>"
      ],
      "text/plain": [
       "recommendations finished on 41000/133585 queries. users per second: 293888"
      ]
     },
     "metadata": {},
     "output_type": "display_data"
    },
    {
     "data": {
      "text/html": [
       "<pre>recommendations finished on 42000/133585 queries. users per second: 295060</pre>"
      ],
      "text/plain": [
       "recommendations finished on 42000/133585 queries. users per second: 295060"
      ]
     },
     "metadata": {},
     "output_type": "display_data"
    },
    {
     "data": {
      "text/html": [
       "<pre>recommendations finished on 43000/133585 queries. users per second: 296153</pre>"
      ],
      "text/plain": [
       "recommendations finished on 43000/133585 queries. users per second: 296153"
      ]
     },
     "metadata": {},
     "output_type": "display_data"
    },
    {
     "data": {
      "text/html": [
       "<pre>recommendations finished on 44000/133585 queries. users per second: 297269</pre>"
      ],
      "text/plain": [
       "recommendations finished on 44000/133585 queries. users per second: 297269"
      ]
     },
     "metadata": {},
     "output_type": "display_data"
    },
    {
     "data": {
      "text/html": [
       "<pre>recommendations finished on 45000/133585 queries. users per second: 298122</pre>"
      ],
      "text/plain": [
       "recommendations finished on 45000/133585 queries. users per second: 298122"
      ]
     },
     "metadata": {},
     "output_type": "display_data"
    },
    {
     "data": {
      "text/html": [
       "<pre>recommendations finished on 46000/133585 queries. users per second: 299271</pre>"
      ],
      "text/plain": [
       "recommendations finished on 46000/133585 queries. users per second: 299271"
      ]
     },
     "metadata": {},
     "output_type": "display_data"
    },
    {
     "data": {
      "text/html": [
       "<pre>recommendations finished on 47000/133585 queries. users per second: 300225</pre>"
      ],
      "text/plain": [
       "recommendations finished on 47000/133585 queries. users per second: 300225"
      ]
     },
     "metadata": {},
     "output_type": "display_data"
    },
    {
     "data": {
      "text/html": [
       "<pre>recommendations finished on 48000/133585 queries. users per second: 301120</pre>"
      ],
      "text/plain": [
       "recommendations finished on 48000/133585 queries. users per second: 301120"
      ]
     },
     "metadata": {},
     "output_type": "display_data"
    },
    {
     "data": {
      "text/html": [
       "<pre>recommendations finished on 49000/133585 queries. users per second: 302065</pre>"
      ],
      "text/plain": [
       "recommendations finished on 49000/133585 queries. users per second: 302065"
      ]
     },
     "metadata": {},
     "output_type": "display_data"
    },
    {
     "data": {
      "text/html": [
       "<pre>recommendations finished on 50000/133585 queries. users per second: 302911</pre>"
      ],
      "text/plain": [
       "recommendations finished on 50000/133585 queries. users per second: 302911"
      ]
     },
     "metadata": {},
     "output_type": "display_data"
    },
    {
     "data": {
      "text/html": [
       "<pre>recommendations finished on 51000/133585 queries. users per second: 303732</pre>"
      ],
      "text/plain": [
       "recommendations finished on 51000/133585 queries. users per second: 303732"
      ]
     },
     "metadata": {},
     "output_type": "display_data"
    },
    {
     "data": {
      "text/html": [
       "<pre>recommendations finished on 52000/133585 queries. users per second: 304557</pre>"
      ],
      "text/plain": [
       "recommendations finished on 52000/133585 queries. users per second: 304557"
      ]
     },
     "metadata": {},
     "output_type": "display_data"
    },
    {
     "data": {
      "text/html": [
       "<pre>recommendations finished on 53000/133585 queries. users per second: 305231</pre>"
      ],
      "text/plain": [
       "recommendations finished on 53000/133585 queries. users per second: 305231"
      ]
     },
     "metadata": {},
     "output_type": "display_data"
    },
    {
     "data": {
      "text/html": [
       "<pre>recommendations finished on 54000/133585 queries. users per second: 305991</pre>"
      ],
      "text/plain": [
       "recommendations finished on 54000/133585 queries. users per second: 305991"
      ]
     },
     "metadata": {},
     "output_type": "display_data"
    },
    {
     "data": {
      "text/html": [
       "<pre>recommendations finished on 55000/133585 queries. users per second: 306567</pre>"
      ],
      "text/plain": [
       "recommendations finished on 55000/133585 queries. users per second: 306567"
      ]
     },
     "metadata": {},
     "output_type": "display_data"
    },
    {
     "data": {
      "text/html": [
       "<pre>recommendations finished on 56000/133585 queries. users per second: 307258</pre>"
      ],
      "text/plain": [
       "recommendations finished on 56000/133585 queries. users per second: 307258"
      ]
     },
     "metadata": {},
     "output_type": "display_data"
    },
    {
     "data": {
      "text/html": [
       "<pre>recommendations finished on 57000/133585 queries. users per second: 307877</pre>"
      ],
      "text/plain": [
       "recommendations finished on 57000/133585 queries. users per second: 307877"
      ]
     },
     "metadata": {},
     "output_type": "display_data"
    },
    {
     "data": {
      "text/html": [
       "<pre>recommendations finished on 58000/133585 queries. users per second: 308527</pre>"
      ],
      "text/plain": [
       "recommendations finished on 58000/133585 queries. users per second: 308527"
      ]
     },
     "metadata": {},
     "output_type": "display_data"
    },
    {
     "data": {
      "text/html": [
       "<pre>recommendations finished on 59000/133585 queries. users per second: 309213</pre>"
      ],
      "text/plain": [
       "recommendations finished on 59000/133585 queries. users per second: 309213"
      ]
     },
     "metadata": {},
     "output_type": "display_data"
    },
    {
     "data": {
      "text/html": [
       "<pre>recommendations finished on 60000/133585 queries. users per second: 309812</pre>"
      ],
      "text/plain": [
       "recommendations finished on 60000/133585 queries. users per second: 309812"
      ]
     },
     "metadata": {},
     "output_type": "display_data"
    },
    {
     "data": {
      "text/html": [
       "<pre>recommendations finished on 61000/133585 queries. users per second: 310445</pre>"
      ],
      "text/plain": [
       "recommendations finished on 61000/133585 queries. users per second: 310445"
      ]
     },
     "metadata": {},
     "output_type": "display_data"
    },
    {
     "data": {
      "text/html": [
       "<pre>recommendations finished on 62000/133585 queries. users per second: 310351</pre>"
      ],
      "text/plain": [
       "recommendations finished on 62000/133585 queries. users per second: 310351"
      ]
     },
     "metadata": {},
     "output_type": "display_data"
    },
    {
     "data": {
      "text/html": [
       "<pre>recommendations finished on 63000/133585 queries. users per second: 311654</pre>"
      ],
      "text/plain": [
       "recommendations finished on 63000/133585 queries. users per second: 311654"
      ]
     },
     "metadata": {},
     "output_type": "display_data"
    },
    {
     "data": {
      "text/html": [
       "<pre>recommendations finished on 64000/133585 queries. users per second: 312940</pre>"
      ],
      "text/plain": [
       "recommendations finished on 64000/133585 queries. users per second: 312940"
      ]
     },
     "metadata": {},
     "output_type": "display_data"
    },
    {
     "data": {
      "text/html": [
       "<pre>recommendations finished on 65000/133585 queries. users per second: 314158</pre>"
      ],
      "text/plain": [
       "recommendations finished on 65000/133585 queries. users per second: 314158"
      ]
     },
     "metadata": {},
     "output_type": "display_data"
    },
    {
     "data": {
      "text/html": [
       "<pre>recommendations finished on 66000/133585 queries. users per second: 315299</pre>"
      ],
      "text/plain": [
       "recommendations finished on 66000/133585 queries. users per second: 315299"
      ]
     },
     "metadata": {},
     "output_type": "display_data"
    },
    {
     "data": {
      "text/html": [
       "<pre>recommendations finished on 67000/133585 queries. users per second: 316433</pre>"
      ],
      "text/plain": [
       "recommendations finished on 67000/133585 queries. users per second: 316433"
      ]
     },
     "metadata": {},
     "output_type": "display_data"
    },
    {
     "data": {
      "text/html": [
       "<pre>recommendations finished on 68000/133585 queries. users per second: 317546</pre>"
      ],
      "text/plain": [
       "recommendations finished on 68000/133585 queries. users per second: 317546"
      ]
     },
     "metadata": {},
     "output_type": "display_data"
    },
    {
     "data": {
      "text/html": [
       "<pre>recommendations finished on 69000/133585 queries. users per second: 318702</pre>"
      ],
      "text/plain": [
       "recommendations finished on 69000/133585 queries. users per second: 318702"
      ]
     },
     "metadata": {},
     "output_type": "display_data"
    },
    {
     "data": {
      "text/html": [
       "<pre>recommendations finished on 70000/133585 queries. users per second: 319749</pre>"
      ],
      "text/plain": [
       "recommendations finished on 70000/133585 queries. users per second: 319749"
      ]
     },
     "metadata": {},
     "output_type": "display_data"
    },
    {
     "data": {
      "text/html": [
       "<pre>recommendations finished on 71000/133585 queries. users per second: 320795</pre>"
      ],
      "text/plain": [
       "recommendations finished on 71000/133585 queries. users per second: 320795"
      ]
     },
     "metadata": {},
     "output_type": "display_data"
    },
    {
     "data": {
      "text/html": [
       "<pre>recommendations finished on 72000/133585 queries. users per second: 321860</pre>"
      ],
      "text/plain": [
       "recommendations finished on 72000/133585 queries. users per second: 321860"
      ]
     },
     "metadata": {},
     "output_type": "display_data"
    },
    {
     "data": {
      "text/html": [
       "<pre>recommendations finished on 73000/133585 queries. users per second: 322749</pre>"
      ],
      "text/plain": [
       "recommendations finished on 73000/133585 queries. users per second: 322749"
      ]
     },
     "metadata": {},
     "output_type": "display_data"
    },
    {
     "data": {
      "text/html": [
       "<pre>recommendations finished on 74000/133585 queries. users per second: 323660</pre>"
      ],
      "text/plain": [
       "recommendations finished on 74000/133585 queries. users per second: 323660"
      ]
     },
     "metadata": {},
     "output_type": "display_data"
    },
    {
     "data": {
      "text/html": [
       "<pre>recommendations finished on 75000/133585 queries. users per second: 324536</pre>"
      ],
      "text/plain": [
       "recommendations finished on 75000/133585 queries. users per second: 324536"
      ]
     },
     "metadata": {},
     "output_type": "display_data"
    },
    {
     "data": {
      "text/html": [
       "<pre>recommendations finished on 76000/133585 queries. users per second: 325521</pre>"
      ],
      "text/plain": [
       "recommendations finished on 76000/133585 queries. users per second: 325521"
      ]
     },
     "metadata": {},
     "output_type": "display_data"
    },
    {
     "data": {
      "text/html": [
       "<pre>recommendations finished on 77000/133585 queries. users per second: 326512</pre>"
      ],
      "text/plain": [
       "recommendations finished on 77000/133585 queries. users per second: 326512"
      ]
     },
     "metadata": {},
     "output_type": "display_data"
    },
    {
     "data": {
      "text/html": [
       "<pre>recommendations finished on 78000/133585 queries. users per second: 327413</pre>"
      ],
      "text/plain": [
       "recommendations finished on 78000/133585 queries. users per second: 327413"
      ]
     },
     "metadata": {},
     "output_type": "display_data"
    },
    {
     "data": {
      "text/html": [
       "<pre>recommendations finished on 79000/133585 queries. users per second: 328325</pre>"
      ],
      "text/plain": [
       "recommendations finished on 79000/133585 queries. users per second: 328325"
      ]
     },
     "metadata": {},
     "output_type": "display_data"
    },
    {
     "data": {
      "text/html": [
       "<pre>recommendations finished on 80000/133585 queries. users per second: 329217</pre>"
      ],
      "text/plain": [
       "recommendations finished on 80000/133585 queries. users per second: 329217"
      ]
     },
     "metadata": {},
     "output_type": "display_data"
    },
    {
     "data": {
      "text/html": [
       "<pre>recommendations finished on 81000/133585 queries. users per second: 330131</pre>"
      ],
      "text/plain": [
       "recommendations finished on 81000/133585 queries. users per second: 330131"
      ]
     },
     "metadata": {},
     "output_type": "display_data"
    },
    {
     "data": {
      "text/html": [
       "<pre>recommendations finished on 82000/133585 queries. users per second: 331006</pre>"
      ],
      "text/plain": [
       "recommendations finished on 82000/133585 queries. users per second: 331006"
      ]
     },
     "metadata": {},
     "output_type": "display_data"
    },
    {
     "data": {
      "text/html": [
       "<pre>recommendations finished on 83000/133585 queries. users per second: 331792</pre>"
      ],
      "text/plain": [
       "recommendations finished on 83000/133585 queries. users per second: 331792"
      ]
     },
     "metadata": {},
     "output_type": "display_data"
    },
    {
     "data": {
      "text/html": [
       "<pre>recommendations finished on 84000/133585 queries. users per second: 332667</pre>"
      ],
      "text/plain": [
       "recommendations finished on 84000/133585 queries. users per second: 332667"
      ]
     },
     "metadata": {},
     "output_type": "display_data"
    },
    {
     "data": {
      "text/html": [
       "<pre>recommendations finished on 85000/133585 queries. users per second: 333442</pre>"
      ],
      "text/plain": [
       "recommendations finished on 85000/133585 queries. users per second: 333442"
      ]
     },
     "metadata": {},
     "output_type": "display_data"
    },
    {
     "data": {
      "text/html": [
       "<pre>recommendations finished on 86000/133585 queries. users per second: 334248</pre>"
      ],
      "text/plain": [
       "recommendations finished on 86000/133585 queries. users per second: 334248"
      ]
     },
     "metadata": {},
     "output_type": "display_data"
    },
    {
     "data": {
      "text/html": [
       "<pre>recommendations finished on 87000/133585 queries. users per second: 335043</pre>"
      ],
      "text/plain": [
       "recommendations finished on 87000/133585 queries. users per second: 335043"
      ]
     },
     "metadata": {},
     "output_type": "display_data"
    },
    {
     "data": {
      "text/html": [
       "<pre>recommendations finished on 88000/133585 queries. users per second: 335814</pre>"
      ],
      "text/plain": [
       "recommendations finished on 88000/133585 queries. users per second: 335814"
      ]
     },
     "metadata": {},
     "output_type": "display_data"
    },
    {
     "data": {
      "text/html": [
       "<pre>recommendations finished on 89000/133585 queries. users per second: 336453</pre>"
      ],
      "text/plain": [
       "recommendations finished on 89000/133585 queries. users per second: 336453"
      ]
     },
     "metadata": {},
     "output_type": "display_data"
    },
    {
     "data": {
      "text/html": [
       "<pre>recommendations finished on 90000/133585 queries. users per second: 337036</pre>"
      ],
      "text/plain": [
       "recommendations finished on 90000/133585 queries. users per second: 337036"
      ]
     },
     "metadata": {},
     "output_type": "display_data"
    },
    {
     "data": {
      "text/html": [
       "<pre>recommendations finished on 91000/133585 queries. users per second: 337361</pre>"
      ],
      "text/plain": [
       "recommendations finished on 91000/133585 queries. users per second: 337361"
      ]
     },
     "metadata": {},
     "output_type": "display_data"
    },
    {
     "data": {
      "text/html": [
       "<pre>recommendations finished on 92000/133585 queries. users per second: 337851</pre>"
      ],
      "text/plain": [
       "recommendations finished on 92000/133585 queries. users per second: 337851"
      ]
     },
     "metadata": {},
     "output_type": "display_data"
    },
    {
     "data": {
      "text/html": [
       "<pre>recommendations finished on 93000/133585 queries. users per second: 338453</pre>"
      ],
      "text/plain": [
       "recommendations finished on 93000/133585 queries. users per second: 338453"
      ]
     },
     "metadata": {},
     "output_type": "display_data"
    },
    {
     "data": {
      "text/html": [
       "<pre>recommendations finished on 94000/133585 queries. users per second: 339189</pre>"
      ],
      "text/plain": [
       "recommendations finished on 94000/133585 queries. users per second: 339189"
      ]
     },
     "metadata": {},
     "output_type": "display_data"
    },
    {
     "data": {
      "text/html": [
       "<pre>recommendations finished on 95000/133585 queries. users per second: 339844</pre>"
      ],
      "text/plain": [
       "recommendations finished on 95000/133585 queries. users per second: 339844"
      ]
     },
     "metadata": {},
     "output_type": "display_data"
    },
    {
     "data": {
      "text/html": [
       "<pre>recommendations finished on 96000/133585 queries. users per second: 340445</pre>"
      ],
      "text/plain": [
       "recommendations finished on 96000/133585 queries. users per second: 340445"
      ]
     },
     "metadata": {},
     "output_type": "display_data"
    },
    {
     "data": {
      "text/html": [
       "<pre>recommendations finished on 97000/133585 queries. users per second: 341089</pre>"
      ],
      "text/plain": [
       "recommendations finished on 97000/133585 queries. users per second: 341089"
      ]
     },
     "metadata": {},
     "output_type": "display_data"
    },
    {
     "data": {
      "text/html": [
       "<pre>recommendations finished on 98000/133585 queries. users per second: 341760</pre>"
      ],
      "text/plain": [
       "recommendations finished on 98000/133585 queries. users per second: 341760"
      ]
     },
     "metadata": {},
     "output_type": "display_data"
    },
    {
     "data": {
      "text/html": [
       "<pre>recommendations finished on 99000/133585 queries. users per second: 342394</pre>"
      ],
      "text/plain": [
       "recommendations finished on 99000/133585 queries. users per second: 342394"
      ]
     },
     "metadata": {},
     "output_type": "display_data"
    },
    {
     "data": {
      "text/html": [
       "<pre>recommendations finished on 100000/133585 queries. users per second: 343003</pre>"
      ],
      "text/plain": [
       "recommendations finished on 100000/133585 queries. users per second: 343003"
      ]
     },
     "metadata": {},
     "output_type": "display_data"
    },
    {
     "data": {
      "text/html": [
       "<pre>recommendations finished on 101000/133585 queries. users per second: 343578</pre>"
      ],
      "text/plain": [
       "recommendations finished on 101000/133585 queries. users per second: 343578"
      ]
     },
     "metadata": {},
     "output_type": "display_data"
    },
    {
     "data": {
      "text/html": [
       "<pre>recommendations finished on 102000/133585 queries. users per second: 344178</pre>"
      ],
      "text/plain": [
       "recommendations finished on 102000/133585 queries. users per second: 344178"
      ]
     },
     "metadata": {},
     "output_type": "display_data"
    },
    {
     "data": {
      "text/html": [
       "<pre>recommendations finished on 103000/133585 queries. users per second: 344726</pre>"
      ],
      "text/plain": [
       "recommendations finished on 103000/133585 queries. users per second: 344726"
      ]
     },
     "metadata": {},
     "output_type": "display_data"
    },
    {
     "data": {
      "text/html": [
       "<pre>recommendations finished on 104000/133585 queries. users per second: 345299</pre>"
      ],
      "text/plain": [
       "recommendations finished on 104000/133585 queries. users per second: 345299"
      ]
     },
     "metadata": {},
     "output_type": "display_data"
    },
    {
     "data": {
      "text/html": [
       "<pre>recommendations finished on 105000/133585 queries. users per second: 345900</pre>"
      ],
      "text/plain": [
       "recommendations finished on 105000/133585 queries. users per second: 345900"
      ]
     },
     "metadata": {},
     "output_type": "display_data"
    },
    {
     "data": {
      "text/html": [
       "<pre>recommendations finished on 106000/133585 queries. users per second: 346421</pre>"
      ],
      "text/plain": [
       "recommendations finished on 106000/133585 queries. users per second: 346421"
      ]
     },
     "metadata": {},
     "output_type": "display_data"
    },
    {
     "data": {
      "text/html": [
       "<pre>recommendations finished on 107000/133585 queries. users per second: 346858</pre>"
      ],
      "text/plain": [
       "recommendations finished on 107000/133585 queries. users per second: 346858"
      ]
     },
     "metadata": {},
     "output_type": "display_data"
    },
    {
     "data": {
      "text/html": [
       "<pre>recommendations finished on 108000/133585 queries. users per second: 347365</pre>"
      ],
      "text/plain": [
       "recommendations finished on 108000/133585 queries. users per second: 347365"
      ]
     },
     "metadata": {},
     "output_type": "display_data"
    },
    {
     "data": {
      "text/html": [
       "<pre>recommendations finished on 109000/133585 queries. users per second: 347802</pre>"
      ],
      "text/plain": [
       "recommendations finished on 109000/133585 queries. users per second: 347802"
      ]
     },
     "metadata": {},
     "output_type": "display_data"
    },
    {
     "data": {
      "text/html": [
       "<pre>recommendations finished on 110000/133585 queries. users per second: 348166</pre>"
      ],
      "text/plain": [
       "recommendations finished on 110000/133585 queries. users per second: 348166"
      ]
     },
     "metadata": {},
     "output_type": "display_data"
    },
    {
     "data": {
      "text/html": [
       "<pre>recommendations finished on 111000/133585 queries. users per second: 348570</pre>"
      ],
      "text/plain": [
       "recommendations finished on 111000/133585 queries. users per second: 348570"
      ]
     },
     "metadata": {},
     "output_type": "display_data"
    },
    {
     "data": {
      "text/html": [
       "<pre>recommendations finished on 112000/133585 queries. users per second: 349059</pre>"
      ],
      "text/plain": [
       "recommendations finished on 112000/133585 queries. users per second: 349059"
      ]
     },
     "metadata": {},
     "output_type": "display_data"
    },
    {
     "data": {
      "text/html": [
       "<pre>recommendations finished on 113000/133585 queries. users per second: 348776</pre>"
      ],
      "text/plain": [
       "recommendations finished on 113000/133585 queries. users per second: 348776"
      ]
     },
     "metadata": {},
     "output_type": "display_data"
    },
    {
     "data": {
      "text/html": [
       "<pre>recommendations finished on 114000/133585 queries. users per second: 349300</pre>"
      ],
      "text/plain": [
       "recommendations finished on 114000/133585 queries. users per second: 349300"
      ]
     },
     "metadata": {},
     "output_type": "display_data"
    },
    {
     "data": {
      "text/html": [
       "<pre>recommendations finished on 115000/133585 queries. users per second: 349587</pre>"
      ],
      "text/plain": [
       "recommendations finished on 115000/133585 queries. users per second: 349587"
      ]
     },
     "metadata": {},
     "output_type": "display_data"
    },
    {
     "data": {
      "text/html": [
       "<pre>recommendations finished on 116000/133585 queries. users per second: 349830</pre>"
      ],
      "text/plain": [
       "recommendations finished on 116000/133585 queries. users per second: 349830"
      ]
     },
     "metadata": {},
     "output_type": "display_data"
    },
    {
     "data": {
      "text/html": [
       "<pre>recommendations finished on 117000/133585 queries. users per second: 350218</pre>"
      ],
      "text/plain": [
       "recommendations finished on 117000/133585 queries. users per second: 350218"
      ]
     },
     "metadata": {},
     "output_type": "display_data"
    },
    {
     "data": {
      "text/html": [
       "<pre>recommendations finished on 118000/133585 queries. users per second: 350499</pre>"
      ],
      "text/plain": [
       "recommendations finished on 118000/133585 queries. users per second: 350499"
      ]
     },
     "metadata": {},
     "output_type": "display_data"
    },
    {
     "data": {
      "text/html": [
       "<pre>recommendations finished on 119000/133585 queries. users per second: 350850</pre>"
      ],
      "text/plain": [
       "recommendations finished on 119000/133585 queries. users per second: 350850"
      ]
     },
     "metadata": {},
     "output_type": "display_data"
    },
    {
     "data": {
      "text/html": [
       "<pre>recommendations finished on 120000/133585 queries. users per second: 351222</pre>"
      ],
      "text/plain": [
       "recommendations finished on 120000/133585 queries. users per second: 351222"
      ]
     },
     "metadata": {},
     "output_type": "display_data"
    },
    {
     "data": {
      "text/html": [
       "<pre>recommendations finished on 121000/133585 queries. users per second: 351566</pre>"
      ],
      "text/plain": [
       "recommendations finished on 121000/133585 queries. users per second: 351566"
      ]
     },
     "metadata": {},
     "output_type": "display_data"
    },
    {
     "data": {
      "text/html": [
       "<pre>recommendations finished on 122000/133585 queries. users per second: 351942</pre>"
      ],
      "text/plain": [
       "recommendations finished on 122000/133585 queries. users per second: 351942"
      ]
     },
     "metadata": {},
     "output_type": "display_data"
    },
    {
     "data": {
      "text/html": [
       "<pre>recommendations finished on 123000/133585 queries. users per second: 352366</pre>"
      ],
      "text/plain": [
       "recommendations finished on 123000/133585 queries. users per second: 352366"
      ]
     },
     "metadata": {},
     "output_type": "display_data"
    },
    {
     "data": {
      "text/html": [
       "<pre>recommendations finished on 124000/133585 queries. users per second: 352857</pre>"
      ],
      "text/plain": [
       "recommendations finished on 124000/133585 queries. users per second: 352857"
      ]
     },
     "metadata": {},
     "output_type": "display_data"
    },
    {
     "data": {
      "text/html": [
       "<pre>recommendations finished on 125000/133585 queries. users per second: 353718</pre>"
      ],
      "text/plain": [
       "recommendations finished on 125000/133585 queries. users per second: 353718"
      ]
     },
     "metadata": {},
     "output_type": "display_data"
    },
    {
     "data": {
      "text/html": [
       "<pre>recommendations finished on 126000/133585 queries. users per second: 354991</pre>"
      ],
      "text/plain": [
       "recommendations finished on 126000/133585 queries. users per second: 354991"
      ]
     },
     "metadata": {},
     "output_type": "display_data"
    },
    {
     "data": {
      "text/html": [
       "<pre>recommendations finished on 127000/133585 queries. users per second: 356380</pre>"
      ],
      "text/plain": [
       "recommendations finished on 127000/133585 queries. users per second: 356380"
      ]
     },
     "metadata": {},
     "output_type": "display_data"
    },
    {
     "data": {
      "text/html": [
       "<pre>recommendations finished on 128000/133585 queries. users per second: 357918</pre>"
      ],
      "text/plain": [
       "recommendations finished on 128000/133585 queries. users per second: 357918"
      ]
     },
     "metadata": {},
     "output_type": "display_data"
    },
    {
     "data": {
      "text/html": [
       "<pre>recommendations finished on 129000/133585 queries. users per second: 359491</pre>"
      ],
      "text/plain": [
       "recommendations finished on 129000/133585 queries. users per second: 359491"
      ]
     },
     "metadata": {},
     "output_type": "display_data"
    },
    {
     "data": {
      "text/html": [
       "<pre>recommendations finished on 130000/133585 queries. users per second: 361047</pre>"
      ],
      "text/plain": [
       "recommendations finished on 130000/133585 queries. users per second: 361047"
      ]
     },
     "metadata": {},
     "output_type": "display_data"
    },
    {
     "data": {
      "text/html": [
       "<pre>recommendations finished on 131000/133585 queries. users per second: 362624</pre>"
      ],
      "text/plain": [
       "recommendations finished on 131000/133585 queries. users per second: 362624"
      ]
     },
     "metadata": {},
     "output_type": "display_data"
    },
    {
     "data": {
      "text/html": [
       "<pre>recommendations finished on 132000/133585 queries. users per second: 364203</pre>"
      ],
      "text/plain": [
       "recommendations finished on 132000/133585 queries. users per second: 364203"
      ]
     },
     "metadata": {},
     "output_type": "display_data"
    },
    {
     "data": {
      "text/html": [
       "<pre>recommendations finished on 133000/133585 queries. users per second: 365480</pre>"
      ],
      "text/plain": [
       "recommendations finished on 133000/133585 queries. users per second: 365480"
      ]
     },
     "metadata": {},
     "output_type": "display_data"
    },
    {
     "name": "stdout",
     "output_type": "stream",
     "text": [
      "+------------+-----------+---------------------+------+\n",
      "| customerId | productId |        score        | rank |\n",
      "+------------+-----------+---------------------+------+\n",
      "|     9      |     2     |   0.2043443719546   |  1   |\n",
      "|     9      |     5     |  0.1347596181763543 |  2   |\n",
      "|     9      |     13    | 0.12340744998719957 |  3   |\n",
      "|     9      |     33    | 0.11436853806177776 |  4   |\n",
      "|     9      |     21    | 0.11153846979141235 |  5   |\n",
      "|     9      |     31    | 0.09850124518076579 |  6   |\n",
      "|     9      |     12    | 0.09818371136983235 |  7   |\n",
      "|     9      |     9     | 0.09213627709282769 |  8   |\n",
      "|     9      |     18    | 0.09100474913914998 |  9   |\n",
      "|     9      |     8     | 0.08683227168189155 |  10  |\n",
      "|     25     |    272    |  0.5808893591165543 |  1   |\n",
      "|     25     |     2     |  0.5439313501119614 |  2   |\n",
      "|     25     |    170    | 0.45537998527288437 |  3   |\n",
      "|     25     |     12    | 0.36124899238348007 |  4   |\n",
      "|     25     |     5     | 0.33534376323223114 |  5   |\n",
      "|     25     |     21    |  0.3301849812269211 |  6   |\n",
      "|     25     |     36    | 0.31426121294498444 |  7   |\n",
      "|     25     |     15    | 0.31025900691747665 |  8   |\n",
      "|     25     |     55    | 0.29697998613119125 |  9   |\n",
      "|     25     |     33    | 0.29563548415899277 |  10  |\n",
      "|     33     |     8     | 0.16574652138210477 |  1   |\n",
      "|     33     |     82    |  0.1635401930127825 |  2   |\n",
      "|     33     |     48    | 0.11919649442036946 |  3   |\n",
      "|     33     |     19    | 0.11758715765816825 |  4   |\n",
      "|     33     |     33    |  0.116411254519508  |  5   |\n",
      "|     33     |     13    | 0.11617889006932576 |  6   |\n",
      "|     33     |     44    |  0.110875441914513  |  7   |\n",
      "|     33     |     21    | 0.10895508243924096 |  8   |\n",
      "|     33     |     17    |  0.1015934773853847 |  9   |\n",
      "|     33     |     61    | 0.09380116916838147 |  10  |\n",
      "+------------+-----------+---------------------+------+\n",
      "[1335850 rows x 4 columns]\n",
      "\n"
     ]
    }
   ],
   "source": [
    "# these variables will change accordingly\n",
    "name = 'cosine'\n",
    "target = 'purchase_count'\n",
    "cos = model(train_data, name, user_id, item_id, target, users_to_recommend, n_rec, n_display)"
   ]
  },
  {
   "cell_type": "markdown",
   "metadata": {},
   "source": [
    "### 6.2. `Pearson` similarity\n",
    "* Similarity is the pearson coefficient between the two vectors.\n",
    "* It is defined by the following formula\n",
    "![](http://critical-numbers.group.shef.ac.uk/glossary/images/correlationKT1.png)"
   ]
  },
  {
   "cell_type": "markdown",
   "metadata": {},
   "source": [
    "#### Using purchase count"
   ]
  },
  {
   "cell_type": "code",
   "execution_count": 46,
   "metadata": {},
   "outputs": [
    {
     "data": {
      "text/html": [
       "<pre>Preparing data set.</pre>"
      ],
      "text/plain": [
       "Preparing data set."
      ]
     },
     "metadata": {},
     "output_type": "display_data"
    },
    {
     "data": {
      "text/html": [
       "<pre>    Data has 106868 observations with 23321 users and 300 items.</pre>"
      ],
      "text/plain": [
       "    Data has 106868 observations with 23321 users and 300 items."
      ]
     },
     "metadata": {},
     "output_type": "display_data"
    },
    {
     "data": {
      "text/html": [
       "<pre>    Data prepared in: 0.399499s</pre>"
      ],
      "text/plain": [
       "    Data prepared in: 0.399499s"
      ]
     },
     "metadata": {},
     "output_type": "display_data"
    },
    {
     "data": {
      "text/html": [
       "<pre>Training model from provided data.</pre>"
      ],
      "text/plain": [
       "Training model from provided data."
      ]
     },
     "metadata": {},
     "output_type": "display_data"
    },
    {
     "data": {
      "text/html": [
       "<pre>Gathering per-item and per-user statistics.</pre>"
      ],
      "text/plain": [
       "Gathering per-item and per-user statistics."
      ]
     },
     "metadata": {},
     "output_type": "display_data"
    },
    {
     "data": {
      "text/html": [
       "<pre>+--------------------------------+------------+</pre>"
      ],
      "text/plain": [
       "+--------------------------------+------------+"
      ]
     },
     "metadata": {},
     "output_type": "display_data"
    },
    {
     "data": {
      "text/html": [
       "<pre>| Elapsed Time (Item Statistics) | % Complete |</pre>"
      ],
      "text/plain": [
       "| Elapsed Time (Item Statistics) | % Complete |"
      ]
     },
     "metadata": {},
     "output_type": "display_data"
    },
    {
     "data": {
      "text/html": [
       "<pre>+--------------------------------+------------+</pre>"
      ],
      "text/plain": [
       "+--------------------------------+------------+"
      ]
     },
     "metadata": {},
     "output_type": "display_data"
    },
    {
     "data": {
      "text/html": [
       "<pre>| 2.079ms                        | 4.25       |</pre>"
      ],
      "text/plain": [
       "| 2.079ms                        | 4.25       |"
      ]
     },
     "metadata": {},
     "output_type": "display_data"
    },
    {
     "data": {
      "text/html": [
       "<pre>| 113.944ms                      | 100        |</pre>"
      ],
      "text/plain": [
       "| 113.944ms                      | 100        |"
      ]
     },
     "metadata": {},
     "output_type": "display_data"
    },
    {
     "data": {
      "text/html": [
       "<pre>+--------------------------------+------------+</pre>"
      ],
      "text/plain": [
       "+--------------------------------+------------+"
      ]
     },
     "metadata": {},
     "output_type": "display_data"
    },
    {
     "data": {
      "text/html": [
       "<pre>Setting up lookup tables.</pre>"
      ],
      "text/plain": [
       "Setting up lookup tables."
      ]
     },
     "metadata": {},
     "output_type": "display_data"
    },
    {
     "data": {
      "text/html": [
       "<pre>Processing data in one pass using dense lookup tables.</pre>"
      ],
      "text/plain": [
       "Processing data in one pass using dense lookup tables."
      ]
     },
     "metadata": {},
     "output_type": "display_data"
    },
    {
     "data": {
      "text/html": [
       "<pre>+-------------------------------------+------------------+-----------------+</pre>"
      ],
      "text/plain": [
       "+-------------------------------------+------------------+-----------------+"
      ]
     },
     "metadata": {},
     "output_type": "display_data"
    },
    {
     "data": {
      "text/html": [
       "<pre>| Elapsed Time (Constructing Lookups) | Total % Complete | Items Processed |</pre>"
      ],
      "text/plain": [
       "| Elapsed Time (Constructing Lookups) | Total % Complete | Items Processed |"
      ]
     },
     "metadata": {},
     "output_type": "display_data"
    },
    {
     "data": {
      "text/html": [
       "<pre>+-------------------------------------+------------------+-----------------+</pre>"
      ],
      "text/plain": [
       "+-------------------------------------+------------------+-----------------+"
      ]
     },
     "metadata": {},
     "output_type": "display_data"
    },
    {
     "data": {
      "text/html": [
       "<pre>| 114.758ms                           | 0                | 0               |</pre>"
      ],
      "text/plain": [
       "| 114.758ms                           | 0                | 0               |"
      ]
     },
     "metadata": {},
     "output_type": "display_data"
    },
    {
     "data": {
      "text/html": [
       "<pre>| 295.189ms                           | 100              | 300             |</pre>"
      ],
      "text/plain": [
       "| 295.189ms                           | 100              | 300             |"
      ]
     },
     "metadata": {},
     "output_type": "display_data"
    },
    {
     "data": {
      "text/html": [
       "<pre>+-------------------------------------+------------------+-----------------+</pre>"
      ],
      "text/plain": [
       "+-------------------------------------+------------------+-----------------+"
      ]
     },
     "metadata": {},
     "output_type": "display_data"
    },
    {
     "data": {
      "text/html": [
       "<pre>Finalizing lookup tables.</pre>"
      ],
      "text/plain": [
       "Finalizing lookup tables."
      ]
     },
     "metadata": {},
     "output_type": "display_data"
    },
    {
     "data": {
      "text/html": [
       "<pre>Generating candidate set for working with new users.</pre>"
      ],
      "text/plain": [
       "Generating candidate set for working with new users."
      ]
     },
     "metadata": {},
     "output_type": "display_data"
    },
    {
     "data": {
      "text/html": [
       "<pre>Finished training in 0.642721s</pre>"
      ],
      "text/plain": [
       "Finished training in 0.642721s"
      ]
     },
     "metadata": {},
     "output_type": "display_data"
    },
    {
     "data": {
      "text/html": [
       "<pre>recommendations finished on 1000/133585 queries. users per second: 129938</pre>"
      ],
      "text/plain": [
       "recommendations finished on 1000/133585 queries. users per second: 129938"
      ]
     },
     "metadata": {},
     "output_type": "display_data"
    },
    {
     "data": {
      "text/html": [
       "<pre>recommendations finished on 2000/133585 queries. users per second: 194439</pre>"
      ],
      "text/plain": [
       "recommendations finished on 2000/133585 queries. users per second: 194439"
      ]
     },
     "metadata": {},
     "output_type": "display_data"
    },
    {
     "data": {
      "text/html": [
       "<pre>recommendations finished on 3000/133585 queries. users per second: 235905</pre>"
      ],
      "text/plain": [
       "recommendations finished on 3000/133585 queries. users per second: 235905"
      ]
     },
     "metadata": {},
     "output_type": "display_data"
    },
    {
     "data": {
      "text/html": [
       "<pre>recommendations finished on 4000/133585 queries. users per second: 260756</pre>"
      ],
      "text/plain": [
       "recommendations finished on 4000/133585 queries. users per second: 260756"
      ]
     },
     "metadata": {},
     "output_type": "display_data"
    },
    {
     "data": {
      "text/html": [
       "<pre>recommendations finished on 5000/133585 queries. users per second: 271003</pre>"
      ],
      "text/plain": [
       "recommendations finished on 5000/133585 queries. users per second: 271003"
      ]
     },
     "metadata": {},
     "output_type": "display_data"
    },
    {
     "data": {
      "text/html": [
       "<pre>recommendations finished on 6000/133585 queries. users per second: 282939</pre>"
      ],
      "text/plain": [
       "recommendations finished on 6000/133585 queries. users per second: 282939"
      ]
     },
     "metadata": {},
     "output_type": "display_data"
    },
    {
     "data": {
      "text/html": [
       "<pre>recommendations finished on 7000/133585 queries. users per second: 291024</pre>"
      ],
      "text/plain": [
       "recommendations finished on 7000/133585 queries. users per second: 291024"
      ]
     },
     "metadata": {},
     "output_type": "display_data"
    },
    {
     "data": {
      "text/html": [
       "<pre>recommendations finished on 8000/133585 queries. users per second: 297343</pre>"
      ],
      "text/plain": [
       "recommendations finished on 8000/133585 queries. users per second: 297343"
      ]
     },
     "metadata": {},
     "output_type": "display_data"
    },
    {
     "data": {
      "text/html": [
       "<pre>recommendations finished on 9000/133585 queries. users per second: 302725</pre>"
      ],
      "text/plain": [
       "recommendations finished on 9000/133585 queries. users per second: 302725"
      ]
     },
     "metadata": {},
     "output_type": "display_data"
    },
    {
     "data": {
      "text/html": [
       "<pre>recommendations finished on 10000/133585 queries. users per second: 306927</pre>"
      ],
      "text/plain": [
       "recommendations finished on 10000/133585 queries. users per second: 306927"
      ]
     },
     "metadata": {},
     "output_type": "display_data"
    },
    {
     "data": {
      "text/html": [
       "<pre>recommendations finished on 11000/133585 queries. users per second: 311438</pre>"
      ],
      "text/plain": [
       "recommendations finished on 11000/133585 queries. users per second: 311438"
      ]
     },
     "metadata": {},
     "output_type": "display_data"
    },
    {
     "data": {
      "text/html": [
       "<pre>recommendations finished on 12000/133585 queries. users per second: 314054</pre>"
      ],
      "text/plain": [
       "recommendations finished on 12000/133585 queries. users per second: 314054"
      ]
     },
     "metadata": {},
     "output_type": "display_data"
    },
    {
     "data": {
      "text/html": [
       "<pre>recommendations finished on 13000/133585 queries. users per second: 317747</pre>"
      ],
      "text/plain": [
       "recommendations finished on 13000/133585 queries. users per second: 317747"
      ]
     },
     "metadata": {},
     "output_type": "display_data"
    },
    {
     "data": {
      "text/html": [
       "<pre>recommendations finished on 14000/133585 queries. users per second: 320344</pre>"
      ],
      "text/plain": [
       "recommendations finished on 14000/133585 queries. users per second: 320344"
      ]
     },
     "metadata": {},
     "output_type": "display_data"
    },
    {
     "data": {
      "text/html": [
       "<pre>recommendations finished on 15000/133585 queries. users per second: 322831</pre>"
      ],
      "text/plain": [
       "recommendations finished on 15000/133585 queries. users per second: 322831"
      ]
     },
     "metadata": {},
     "output_type": "display_data"
    },
    {
     "data": {
      "text/html": [
       "<pre>recommendations finished on 16000/133585 queries. users per second: 324735</pre>"
      ],
      "text/plain": [
       "recommendations finished on 16000/133585 queries. users per second: 324735"
      ]
     },
     "metadata": {},
     "output_type": "display_data"
    },
    {
     "data": {
      "text/html": [
       "<pre>recommendations finished on 17000/133585 queries. users per second: 326571</pre>"
      ],
      "text/plain": [
       "recommendations finished on 17000/133585 queries. users per second: 326571"
      ]
     },
     "metadata": {},
     "output_type": "display_data"
    },
    {
     "data": {
      "text/html": [
       "<pre>recommendations finished on 18000/133585 queries. users per second: 328425</pre>"
      ],
      "text/plain": [
       "recommendations finished on 18000/133585 queries. users per second: 328425"
      ]
     },
     "metadata": {},
     "output_type": "display_data"
    },
    {
     "data": {
      "text/html": [
       "<pre>recommendations finished on 19000/133585 queries. users per second: 329512</pre>"
      ],
      "text/plain": [
       "recommendations finished on 19000/133585 queries. users per second: 329512"
      ]
     },
     "metadata": {},
     "output_type": "display_data"
    },
    {
     "data": {
      "text/html": [
       "<pre>recommendations finished on 20000/133585 queries. users per second: 331488</pre>"
      ],
      "text/plain": [
       "recommendations finished on 20000/133585 queries. users per second: 331488"
      ]
     },
     "metadata": {},
     "output_type": "display_data"
    },
    {
     "data": {
      "text/html": [
       "<pre>recommendations finished on 21000/133585 queries. users per second: 332631</pre>"
      ],
      "text/plain": [
       "recommendations finished on 21000/133585 queries. users per second: 332631"
      ]
     },
     "metadata": {},
     "output_type": "display_data"
    },
    {
     "data": {
      "text/html": [
       "<pre>recommendations finished on 22000/133585 queries. users per second: 333900</pre>"
      ],
      "text/plain": [
       "recommendations finished on 22000/133585 queries. users per second: 333900"
      ]
     },
     "metadata": {},
     "output_type": "display_data"
    },
    {
     "data": {
      "text/html": [
       "<pre>recommendations finished on 23000/133585 queries. users per second: 335043</pre>"
      ],
      "text/plain": [
       "recommendations finished on 23000/133585 queries. users per second: 335043"
      ]
     },
     "metadata": {},
     "output_type": "display_data"
    },
    {
     "data": {
      "text/html": [
       "<pre>recommendations finished on 24000/133585 queries. users per second: 335862</pre>"
      ],
      "text/plain": [
       "recommendations finished on 24000/133585 queries. users per second: 335862"
      ]
     },
     "metadata": {},
     "output_type": "display_data"
    },
    {
     "data": {
      "text/html": [
       "<pre>recommendations finished on 25000/133585 queries. users per second: 336687</pre>"
      ],
      "text/plain": [
       "recommendations finished on 25000/133585 queries. users per second: 336687"
      ]
     },
     "metadata": {},
     "output_type": "display_data"
    },
    {
     "data": {
      "text/html": [
       "<pre>recommendations finished on 26000/133585 queries. users per second: 337513</pre>"
      ],
      "text/plain": [
       "recommendations finished on 26000/133585 queries. users per second: 337513"
      ]
     },
     "metadata": {},
     "output_type": "display_data"
    },
    {
     "data": {
      "text/html": [
       "<pre>recommendations finished on 27000/133585 queries. users per second: 337694</pre>"
      ],
      "text/plain": [
       "recommendations finished on 27000/133585 queries. users per second: 337694"
      ]
     },
     "metadata": {},
     "output_type": "display_data"
    },
    {
     "data": {
      "text/html": [
       "<pre>recommendations finished on 28000/133585 queries. users per second: 338221</pre>"
      ],
      "text/plain": [
       "recommendations finished on 28000/133585 queries. users per second: 338221"
      ]
     },
     "metadata": {},
     "output_type": "display_data"
    },
    {
     "data": {
      "text/html": [
       "<pre>recommendations finished on 29000/133585 queries. users per second: 338682</pre>"
      ],
      "text/plain": [
       "recommendations finished on 29000/133585 queries. users per second: 338682"
      ]
     },
     "metadata": {},
     "output_type": "display_data"
    },
    {
     "data": {
      "text/html": [
       "<pre>recommendations finished on 30000/133585 queries. users per second: 338926</pre>"
      ],
      "text/plain": [
       "recommendations finished on 30000/133585 queries. users per second: 338926"
      ]
     },
     "metadata": {},
     "output_type": "display_data"
    },
    {
     "data": {
      "text/html": [
       "<pre>recommendations finished on 31000/133585 queries. users per second: 338990</pre>"
      ],
      "text/plain": [
       "recommendations finished on 31000/133585 queries. users per second: 338990"
      ]
     },
     "metadata": {},
     "output_type": "display_data"
    },
    {
     "data": {
      "text/html": [
       "<pre>recommendations finished on 32000/133585 queries. users per second: 339321</pre>"
      ],
      "text/plain": [
       "recommendations finished on 32000/133585 queries. users per second: 339321"
      ]
     },
     "metadata": {},
     "output_type": "display_data"
    },
    {
     "data": {
      "text/html": [
       "<pre>recommendations finished on 33000/133585 queries. users per second: 340178</pre>"
      ],
      "text/plain": [
       "recommendations finished on 33000/133585 queries. users per second: 340178"
      ]
     },
     "metadata": {},
     "output_type": "display_data"
    },
    {
     "data": {
      "text/html": [
       "<pre>recommendations finished on 34000/133585 queries. users per second: 340477</pre>"
      ],
      "text/plain": [
       "recommendations finished on 34000/133585 queries. users per second: 340477"
      ]
     },
     "metadata": {},
     "output_type": "display_data"
    },
    {
     "data": {
      "text/html": [
       "<pre>recommendations finished on 35000/133585 queries. users per second: 341177</pre>"
      ],
      "text/plain": [
       "recommendations finished on 35000/133585 queries. users per second: 341177"
      ]
     },
     "metadata": {},
     "output_type": "display_data"
    },
    {
     "data": {
      "text/html": [
       "<pre>recommendations finished on 36000/133585 queries. users per second: 341984</pre>"
      ],
      "text/plain": [
       "recommendations finished on 36000/133585 queries. users per second: 341984"
      ]
     },
     "metadata": {},
     "output_type": "display_data"
    },
    {
     "data": {
      "text/html": [
       "<pre>recommendations finished on 37000/133585 queries. users per second: 342504</pre>"
      ],
      "text/plain": [
       "recommendations finished on 37000/133585 queries. users per second: 342504"
      ]
     },
     "metadata": {},
     "output_type": "display_data"
    },
    {
     "data": {
      "text/html": [
       "<pre>recommendations finished on 38000/133585 queries. users per second: 343159</pre>"
      ],
      "text/plain": [
       "recommendations finished on 38000/133585 queries. users per second: 343159"
      ]
     },
     "metadata": {},
     "output_type": "display_data"
    },
    {
     "data": {
      "text/html": [
       "<pre>recommendations finished on 39000/133585 queries. users per second: 343549</pre>"
      ],
      "text/plain": [
       "recommendations finished on 39000/133585 queries. users per second: 343549"
      ]
     },
     "metadata": {},
     "output_type": "display_data"
    },
    {
     "data": {
      "text/html": [
       "<pre>recommendations finished on 40000/133585 queries. users per second: 344142</pre>"
      ],
      "text/plain": [
       "recommendations finished on 40000/133585 queries. users per second: 344142"
      ]
     },
     "metadata": {},
     "output_type": "display_data"
    },
    {
     "data": {
      "text/html": [
       "<pre>recommendations finished on 41000/133585 queries. users per second: 344477</pre>"
      ],
      "text/plain": [
       "recommendations finished on 41000/133585 queries. users per second: 344477"
      ]
     },
     "metadata": {},
     "output_type": "display_data"
    },
    {
     "data": {
      "text/html": [
       "<pre>recommendations finished on 42000/133585 queries. users per second: 344525</pre>"
      ],
      "text/plain": [
       "recommendations finished on 42000/133585 queries. users per second: 344525"
      ]
     },
     "metadata": {},
     "output_type": "display_data"
    },
    {
     "data": {
      "text/html": [
       "<pre>recommendations finished on 43000/133585 queries. users per second: 345157</pre>"
      ],
      "text/plain": [
       "recommendations finished on 43000/133585 queries. users per second: 345157"
      ]
     },
     "metadata": {},
     "output_type": "display_data"
    },
    {
     "data": {
      "text/html": [
       "<pre>recommendations finished on 44000/133585 queries. users per second: 345496</pre>"
      ],
      "text/plain": [
       "recommendations finished on 44000/133585 queries. users per second: 345496"
      ]
     },
     "metadata": {},
     "output_type": "display_data"
    },
    {
     "data": {
      "text/html": [
       "<pre>recommendations finished on 45000/133585 queries. users per second: 345604</pre>"
      ],
      "text/plain": [
       "recommendations finished on 45000/133585 queries. users per second: 345604"
      ]
     },
     "metadata": {},
     "output_type": "display_data"
    },
    {
     "data": {
      "text/html": [
       "<pre>recommendations finished on 46000/133585 queries. users per second: 346003</pre>"
      ],
      "text/plain": [
       "recommendations finished on 46000/133585 queries. users per second: 346003"
      ]
     },
     "metadata": {},
     "output_type": "display_data"
    },
    {
     "data": {
      "text/html": [
       "<pre>recommendations finished on 47000/133585 queries. users per second: 346452</pre>"
      ],
      "text/plain": [
       "recommendations finished on 47000/133585 queries. users per second: 346452"
      ]
     },
     "metadata": {},
     "output_type": "display_data"
    },
    {
     "data": {
      "text/html": [
       "<pre>recommendations finished on 48000/133585 queries. users per second: 345262</pre>"
      ],
      "text/plain": [
       "recommendations finished on 48000/133585 queries. users per second: 345262"
      ]
     },
     "metadata": {},
     "output_type": "display_data"
    },
    {
     "data": {
      "text/html": [
       "<pre>recommendations finished on 49000/133585 queries. users per second: 343947</pre>"
      ],
      "text/plain": [
       "recommendations finished on 49000/133585 queries. users per second: 343947"
      ]
     },
     "metadata": {},
     "output_type": "display_data"
    },
    {
     "data": {
      "text/html": [
       "<pre>recommendations finished on 50000/133585 queries. users per second: 344944</pre>"
      ],
      "text/plain": [
       "recommendations finished on 50000/133585 queries. users per second: 344944"
      ]
     },
     "metadata": {},
     "output_type": "display_data"
    },
    {
     "data": {
      "text/html": [
       "<pre>recommendations finished on 51000/133585 queries. users per second: 345777</pre>"
      ],
      "text/plain": [
       "recommendations finished on 51000/133585 queries. users per second: 345777"
      ]
     },
     "metadata": {},
     "output_type": "display_data"
    },
    {
     "data": {
      "text/html": [
       "<pre>recommendations finished on 52000/133585 queries. users per second: 346713</pre>"
      ],
      "text/plain": [
       "recommendations finished on 52000/133585 queries. users per second: 346713"
      ]
     },
     "metadata": {},
     "output_type": "display_data"
    },
    {
     "data": {
      "text/html": [
       "<pre>recommendations finished on 53000/133585 queries. users per second: 347518</pre>"
      ],
      "text/plain": [
       "recommendations finished on 53000/133585 queries. users per second: 347518"
      ]
     },
     "metadata": {},
     "output_type": "display_data"
    },
    {
     "data": {
      "text/html": [
       "<pre>recommendations finished on 54000/133585 queries. users per second: 348100</pre>"
      ],
      "text/plain": [
       "recommendations finished on 54000/133585 queries. users per second: 348100"
      ]
     },
     "metadata": {},
     "output_type": "display_data"
    },
    {
     "data": {
      "text/html": [
       "<pre>recommendations finished on 55000/133585 queries. users per second: 348507</pre>"
      ],
      "text/plain": [
       "recommendations finished on 55000/133585 queries. users per second: 348507"
      ]
     },
     "metadata": {},
     "output_type": "display_data"
    },
    {
     "data": {
      "text/html": [
       "<pre>recommendations finished on 56000/133585 queries. users per second: 348925</pre>"
      ],
      "text/plain": [
       "recommendations finished on 56000/133585 queries. users per second: 348925"
      ]
     },
     "metadata": {},
     "output_type": "display_data"
    },
    {
     "data": {
      "text/html": [
       "<pre>recommendations finished on 57000/133585 queries. users per second: 349293</pre>"
      ],
      "text/plain": [
       "recommendations finished on 57000/133585 queries. users per second: 349293"
      ]
     },
     "metadata": {},
     "output_type": "display_data"
    },
    {
     "data": {
      "text/html": [
       "<pre>recommendations finished on 58000/133585 queries. users per second: 349800</pre>"
      ],
      "text/plain": [
       "recommendations finished on 58000/133585 queries. users per second: 349800"
      ]
     },
     "metadata": {},
     "output_type": "display_data"
    },
    {
     "data": {
      "text/html": [
       "<pre>recommendations finished on 59000/133585 queries. users per second: 350150</pre>"
      ],
      "text/plain": [
       "recommendations finished on 59000/133585 queries. users per second: 350150"
      ]
     },
     "metadata": {},
     "output_type": "display_data"
    },
    {
     "data": {
      "text/html": [
       "<pre>recommendations finished on 60000/133585 queries. users per second: 350553</pre>"
      ],
      "text/plain": [
       "recommendations finished on 60000/133585 queries. users per second: 350553"
      ]
     },
     "metadata": {},
     "output_type": "display_data"
    },
    {
     "data": {
      "text/html": [
       "<pre>recommendations finished on 61000/133585 queries. users per second: 351326</pre>"
      ],
      "text/plain": [
       "recommendations finished on 61000/133585 queries. users per second: 351326"
      ]
     },
     "metadata": {},
     "output_type": "display_data"
    },
    {
     "data": {
      "text/html": [
       "<pre>recommendations finished on 62000/133585 queries. users per second: 352069</pre>"
      ],
      "text/plain": [
       "recommendations finished on 62000/133585 queries. users per second: 352069"
      ]
     },
     "metadata": {},
     "output_type": "display_data"
    },
    {
     "data": {
      "text/html": [
       "<pre>recommendations finished on 63000/133585 queries. users per second: 353008</pre>"
      ],
      "text/plain": [
       "recommendations finished on 63000/133585 queries. users per second: 353008"
      ]
     },
     "metadata": {},
     "output_type": "display_data"
    },
    {
     "data": {
      "text/html": [
       "<pre>recommendations finished on 64000/133585 queries. users per second: 353708</pre>"
      ],
      "text/plain": [
       "recommendations finished on 64000/133585 queries. users per second: 353708"
      ]
     },
     "metadata": {},
     "output_type": "display_data"
    },
    {
     "data": {
      "text/html": [
       "<pre>recommendations finished on 65000/133585 queries. users per second: 354583</pre>"
      ],
      "text/plain": [
       "recommendations finished on 65000/133585 queries. users per second: 354583"
      ]
     },
     "metadata": {},
     "output_type": "display_data"
    },
    {
     "data": {
      "text/html": [
       "<pre>recommendations finished on 66000/133585 queries. users per second: 355460</pre>"
      ],
      "text/plain": [
       "recommendations finished on 66000/133585 queries. users per second: 355460"
      ]
     },
     "metadata": {},
     "output_type": "display_data"
    },
    {
     "data": {
      "text/html": [
       "<pre>recommendations finished on 67000/133585 queries. users per second: 356199</pre>"
      ],
      "text/plain": [
       "recommendations finished on 67000/133585 queries. users per second: 356199"
      ]
     },
     "metadata": {},
     "output_type": "display_data"
    },
    {
     "data": {
      "text/html": [
       "<pre>recommendations finished on 68000/133585 queries. users per second: 356961</pre>"
      ],
      "text/plain": [
       "recommendations finished on 68000/133585 queries. users per second: 356961"
      ]
     },
     "metadata": {},
     "output_type": "display_data"
    },
    {
     "data": {
      "text/html": [
       "<pre>recommendations finished on 69000/133585 queries. users per second: 357743</pre>"
      ],
      "text/plain": [
       "recommendations finished on 69000/133585 queries. users per second: 357743"
      ]
     },
     "metadata": {},
     "output_type": "display_data"
    },
    {
     "data": {
      "text/html": [
       "<pre>recommendations finished on 70000/133585 queries. users per second: 358399</pre>"
      ],
      "text/plain": [
       "recommendations finished on 70000/133585 queries. users per second: 358399"
      ]
     },
     "metadata": {},
     "output_type": "display_data"
    },
    {
     "data": {
      "text/html": [
       "<pre>recommendations finished on 71000/133585 queries. users per second: 359192</pre>"
      ],
      "text/plain": [
       "recommendations finished on 71000/133585 queries. users per second: 359192"
      ]
     },
     "metadata": {},
     "output_type": "display_data"
    },
    {
     "data": {
      "text/html": [
       "<pre>recommendations finished on 72000/133585 queries. users per second: 359966</pre>"
      ],
      "text/plain": [
       "recommendations finished on 72000/133585 queries. users per second: 359966"
      ]
     },
     "metadata": {},
     "output_type": "display_data"
    },
    {
     "data": {
      "text/html": [
       "<pre>recommendations finished on 73000/133585 queries. users per second: 360488</pre>"
      ],
      "text/plain": [
       "recommendations finished on 73000/133585 queries. users per second: 360488"
      ]
     },
     "metadata": {},
     "output_type": "display_data"
    },
    {
     "data": {
      "text/html": [
       "<pre>recommendations finished on 74000/133585 queries. users per second: 360891</pre>"
      ],
      "text/plain": [
       "recommendations finished on 74000/133585 queries. users per second: 360891"
      ]
     },
     "metadata": {},
     "output_type": "display_data"
    },
    {
     "data": {
      "text/html": [
       "<pre>recommendations finished on 75000/133585 queries. users per second: 361223</pre>"
      ],
      "text/plain": [
       "recommendations finished on 75000/133585 queries. users per second: 361223"
      ]
     },
     "metadata": {},
     "output_type": "display_data"
    },
    {
     "data": {
      "text/html": [
       "<pre>recommendations finished on 76000/133585 queries. users per second: 361750</pre>"
      ],
      "text/plain": [
       "recommendations finished on 76000/133585 queries. users per second: 361750"
      ]
     },
     "metadata": {},
     "output_type": "display_data"
    },
    {
     "data": {
      "text/html": [
       "<pre>recommendations finished on 77000/133585 queries. users per second: 362222</pre>"
      ],
      "text/plain": [
       "recommendations finished on 77000/133585 queries. users per second: 362222"
      ]
     },
     "metadata": {},
     "output_type": "display_data"
    },
    {
     "data": {
      "text/html": [
       "<pre>recommendations finished on 78000/133585 queries. users per second: 362733</pre>"
      ],
      "text/plain": [
       "recommendations finished on 78000/133585 queries. users per second: 362733"
      ]
     },
     "metadata": {},
     "output_type": "display_data"
    },
    {
     "data": {
      "text/html": [
       "<pre>recommendations finished on 79000/133585 queries. users per second: 363233</pre>"
      ],
      "text/plain": [
       "recommendations finished on 79000/133585 queries. users per second: 363233"
      ]
     },
     "metadata": {},
     "output_type": "display_data"
    },
    {
     "data": {
      "text/html": [
       "<pre>recommendations finished on 80000/133585 queries. users per second: 363569</pre>"
      ],
      "text/plain": [
       "recommendations finished on 80000/133585 queries. users per second: 363569"
      ]
     },
     "metadata": {},
     "output_type": "display_data"
    },
    {
     "data": {
      "text/html": [
       "<pre>recommendations finished on 81000/133585 queries. users per second: 363986</pre>"
      ],
      "text/plain": [
       "recommendations finished on 81000/133585 queries. users per second: 363986"
      ]
     },
     "metadata": {},
     "output_type": "display_data"
    },
    {
     "data": {
      "text/html": [
       "<pre>recommendations finished on 82000/133585 queries. users per second: 364657</pre>"
      ],
      "text/plain": [
       "recommendations finished on 82000/133585 queries. users per second: 364657"
      ]
     },
     "metadata": {},
     "output_type": "display_data"
    },
    {
     "data": {
      "text/html": [
       "<pre>recommendations finished on 83000/133585 queries. users per second: 365119</pre>"
      ],
      "text/plain": [
       "recommendations finished on 83000/133585 queries. users per second: 365119"
      ]
     },
     "metadata": {},
     "output_type": "display_data"
    },
    {
     "data": {
      "text/html": [
       "<pre>recommendations finished on 84000/133585 queries. users per second: 365564</pre>"
      ],
      "text/plain": [
       "recommendations finished on 84000/133585 queries. users per second: 365564"
      ]
     },
     "metadata": {},
     "output_type": "display_data"
    },
    {
     "data": {
      "text/html": [
       "<pre>recommendations finished on 85000/133585 queries. users per second: 366119</pre>"
      ],
      "text/plain": [
       "recommendations finished on 85000/133585 queries. users per second: 366119"
      ]
     },
     "metadata": {},
     "output_type": "display_data"
    },
    {
     "data": {
      "text/html": [
       "<pre>recommendations finished on 86000/133585 queries. users per second: 366575</pre>"
      ],
      "text/plain": [
       "recommendations finished on 86000/133585 queries. users per second: 366575"
      ]
     },
     "metadata": {},
     "output_type": "display_data"
    },
    {
     "data": {
      "text/html": [
       "<pre>recommendations finished on 87000/133585 queries. users per second: 366912</pre>"
      ],
      "text/plain": [
       "recommendations finished on 87000/133585 queries. users per second: 366912"
      ]
     },
     "metadata": {},
     "output_type": "display_data"
    },
    {
     "data": {
      "text/html": [
       "<pre>recommendations finished on 88000/133585 queries. users per second: 367293</pre>"
      ],
      "text/plain": [
       "recommendations finished on 88000/133585 queries. users per second: 367293"
      ]
     },
     "metadata": {},
     "output_type": "display_data"
    },
    {
     "data": {
      "text/html": [
       "<pre>recommendations finished on 89000/133585 queries. users per second: 367732</pre>"
      ],
      "text/plain": [
       "recommendations finished on 89000/133585 queries. users per second: 367732"
      ]
     },
     "metadata": {},
     "output_type": "display_data"
    },
    {
     "data": {
      "text/html": [
       "<pre>recommendations finished on 90000/133585 queries. users per second: 368158</pre>"
      ],
      "text/plain": [
       "recommendations finished on 90000/133585 queries. users per second: 368158"
      ]
     },
     "metadata": {},
     "output_type": "display_data"
    },
    {
     "data": {
      "text/html": [
       "<pre>recommendations finished on 91000/133585 queries. users per second: 368564</pre>"
      ],
      "text/plain": [
       "recommendations finished on 91000/133585 queries. users per second: 368564"
      ]
     },
     "metadata": {},
     "output_type": "display_data"
    },
    {
     "data": {
      "text/html": [
       "<pre>recommendations finished on 92000/133585 queries. users per second: 369058</pre>"
      ],
      "text/plain": [
       "recommendations finished on 92000/133585 queries. users per second: 369058"
      ]
     },
     "metadata": {},
     "output_type": "display_data"
    },
    {
     "data": {
      "text/html": [
       "<pre>recommendations finished on 93000/133585 queries. users per second: 369421</pre>"
      ],
      "text/plain": [
       "recommendations finished on 93000/133585 queries. users per second: 369421"
      ]
     },
     "metadata": {},
     "output_type": "display_data"
    },
    {
     "data": {
      "text/html": [
       "<pre>recommendations finished on 94000/133585 queries. users per second: 369888</pre>"
      ],
      "text/plain": [
       "recommendations finished on 94000/133585 queries. users per second: 369888"
      ]
     },
     "metadata": {},
     "output_type": "display_data"
    },
    {
     "data": {
      "text/html": [
       "<pre>recommendations finished on 95000/133585 queries. users per second: 370347</pre>"
      ],
      "text/plain": [
       "recommendations finished on 95000/133585 queries. users per second: 370347"
      ]
     },
     "metadata": {},
     "output_type": "display_data"
    },
    {
     "data": {
      "text/html": [
       "<pre>recommendations finished on 96000/133585 queries. users per second: 370678</pre>"
      ],
      "text/plain": [
       "recommendations finished on 96000/133585 queries. users per second: 370678"
      ]
     },
     "metadata": {},
     "output_type": "display_data"
    },
    {
     "data": {
      "text/html": [
       "<pre>recommendations finished on 97000/133585 queries. users per second: 370879</pre>"
      ],
      "text/plain": [
       "recommendations finished on 97000/133585 queries. users per second: 370879"
      ]
     },
     "metadata": {},
     "output_type": "display_data"
    },
    {
     "data": {
      "text/html": [
       "<pre>recommendations finished on 98000/133585 queries. users per second: 371261</pre>"
      ],
      "text/plain": [
       "recommendations finished on 98000/133585 queries. users per second: 371261"
      ]
     },
     "metadata": {},
     "output_type": "display_data"
    },
    {
     "data": {
      "text/html": [
       "<pre>recommendations finished on 99000/133585 queries. users per second: 370563</pre>"
      ],
      "text/plain": [
       "recommendations finished on 99000/133585 queries. users per second: 370563"
      ]
     },
     "metadata": {},
     "output_type": "display_data"
    },
    {
     "data": {
      "text/html": [
       "<pre>recommendations finished on 100000/133585 queries. users per second: 371056</pre>"
      ],
      "text/plain": [
       "recommendations finished on 100000/133585 queries. users per second: 371056"
      ]
     },
     "metadata": {},
     "output_type": "display_data"
    },
    {
     "data": {
      "text/html": [
       "<pre>recommendations finished on 101000/133585 queries. users per second: 371460</pre>"
      ],
      "text/plain": [
       "recommendations finished on 101000/133585 queries. users per second: 371460"
      ]
     },
     "metadata": {},
     "output_type": "display_data"
    },
    {
     "data": {
      "text/html": [
       "<pre>recommendations finished on 102000/133585 queries. users per second: 371755</pre>"
      ],
      "text/plain": [
       "recommendations finished on 102000/133585 queries. users per second: 371755"
      ]
     },
     "metadata": {},
     "output_type": "display_data"
    },
    {
     "data": {
      "text/html": [
       "<pre>recommendations finished on 103000/133585 queries. users per second: 372094</pre>"
      ],
      "text/plain": [
       "recommendations finished on 103000/133585 queries. users per second: 372094"
      ]
     },
     "metadata": {},
     "output_type": "display_data"
    },
    {
     "data": {
      "text/html": [
       "<pre>recommendations finished on 104000/133585 queries. users per second: 372339</pre>"
      ],
      "text/plain": [
       "recommendations finished on 104000/133585 queries. users per second: 372339"
      ]
     },
     "metadata": {},
     "output_type": "display_data"
    },
    {
     "data": {
      "text/html": [
       "<pre>recommendations finished on 105000/133585 queries. users per second: 372381</pre>"
      ],
      "text/plain": [
       "recommendations finished on 105000/133585 queries. users per second: 372381"
      ]
     },
     "metadata": {},
     "output_type": "display_data"
    },
    {
     "data": {
      "text/html": [
       "<pre>recommendations finished on 106000/133585 queries. users per second: 372491</pre>"
      ],
      "text/plain": [
       "recommendations finished on 106000/133585 queries. users per second: 372491"
      ]
     },
     "metadata": {},
     "output_type": "display_data"
    },
    {
     "data": {
      "text/html": [
       "<pre>recommendations finished on 107000/133585 queries. users per second: 372379</pre>"
      ],
      "text/plain": [
       "recommendations finished on 107000/133585 queries. users per second: 372379"
      ]
     },
     "metadata": {},
     "output_type": "display_data"
    },
    {
     "data": {
      "text/html": [
       "<pre>recommendations finished on 108000/133585 queries. users per second: 372410</pre>"
      ],
      "text/plain": [
       "recommendations finished on 108000/133585 queries. users per second: 372410"
      ]
     },
     "metadata": {},
     "output_type": "display_data"
    },
    {
     "data": {
      "text/html": [
       "<pre>recommendations finished on 109000/133585 queries. users per second: 372340</pre>"
      ],
      "text/plain": [
       "recommendations finished on 109000/133585 queries. users per second: 372340"
      ]
     },
     "metadata": {},
     "output_type": "display_data"
    },
    {
     "data": {
      "text/html": [
       "<pre>recommendations finished on 110000/133585 queries. users per second: 372316</pre>"
      ],
      "text/plain": [
       "recommendations finished on 110000/133585 queries. users per second: 372316"
      ]
     },
     "metadata": {},
     "output_type": "display_data"
    },
    {
     "data": {
      "text/html": [
       "<pre>recommendations finished on 111000/133585 queries. users per second: 372568</pre>"
      ],
      "text/plain": [
       "recommendations finished on 111000/133585 queries. users per second: 372568"
      ]
     },
     "metadata": {},
     "output_type": "display_data"
    },
    {
     "data": {
      "text/html": [
       "<pre>recommendations finished on 112000/133585 queries. users per second: 372732</pre>"
      ],
      "text/plain": [
       "recommendations finished on 112000/133585 queries. users per second: 372732"
      ]
     },
     "metadata": {},
     "output_type": "display_data"
    },
    {
     "data": {
      "text/html": [
       "<pre>recommendations finished on 113000/133585 queries. users per second: 372360</pre>"
      ],
      "text/plain": [
       "recommendations finished on 113000/133585 queries. users per second: 372360"
      ]
     },
     "metadata": {},
     "output_type": "display_data"
    },
    {
     "data": {
      "text/html": [
       "<pre>recommendations finished on 114000/133585 queries. users per second: 372296</pre>"
      ],
      "text/plain": [
       "recommendations finished on 114000/133585 queries. users per second: 372296"
      ]
     },
     "metadata": {},
     "output_type": "display_data"
    },
    {
     "data": {
      "text/html": [
       "<pre>recommendations finished on 115000/133585 queries. users per second: 372109</pre>"
      ],
      "text/plain": [
       "recommendations finished on 115000/133585 queries. users per second: 372109"
      ]
     },
     "metadata": {},
     "output_type": "display_data"
    },
    {
     "data": {
      "text/html": [
       "<pre>recommendations finished on 116000/133585 queries. users per second: 371827</pre>"
      ],
      "text/plain": [
       "recommendations finished on 116000/133585 queries. users per second: 371827"
      ]
     },
     "metadata": {},
     "output_type": "display_data"
    },
    {
     "data": {
      "text/html": [
       "<pre>recommendations finished on 117000/133585 queries. users per second: 371556</pre>"
      ],
      "text/plain": [
       "recommendations finished on 117000/133585 queries. users per second: 371556"
      ]
     },
     "metadata": {},
     "output_type": "display_data"
    },
    {
     "data": {
      "text/html": [
       "<pre>recommendations finished on 118000/133585 queries. users per second: 371462</pre>"
      ],
      "text/plain": [
       "recommendations finished on 118000/133585 queries. users per second: 371462"
      ]
     },
     "metadata": {},
     "output_type": "display_data"
    },
    {
     "data": {
      "text/html": [
       "<pre>recommendations finished on 119000/133585 queries. users per second: 371732</pre>"
      ],
      "text/plain": [
       "recommendations finished on 119000/133585 queries. users per second: 371732"
      ]
     },
     "metadata": {},
     "output_type": "display_data"
    },
    {
     "data": {
      "text/html": [
       "<pre>recommendations finished on 120000/133585 queries. users per second: 372129</pre>"
      ],
      "text/plain": [
       "recommendations finished on 120000/133585 queries. users per second: 372129"
      ]
     },
     "metadata": {},
     "output_type": "display_data"
    },
    {
     "data": {
      "text/html": [
       "<pre>recommendations finished on 121000/133585 queries. users per second: 372224</pre>"
      ],
      "text/plain": [
       "recommendations finished on 121000/133585 queries. users per second: 372224"
      ]
     },
     "metadata": {},
     "output_type": "display_data"
    },
    {
     "data": {
      "text/html": [
       "<pre>recommendations finished on 122000/133585 queries. users per second: 372439</pre>"
      ],
      "text/plain": [
       "recommendations finished on 122000/133585 queries. users per second: 372439"
      ]
     },
     "metadata": {},
     "output_type": "display_data"
    },
    {
     "data": {
      "text/html": [
       "<pre>recommendations finished on 123000/133585 queries. users per second: 372629</pre>"
      ],
      "text/plain": [
       "recommendations finished on 123000/133585 queries. users per second: 372629"
      ]
     },
     "metadata": {},
     "output_type": "display_data"
    },
    {
     "data": {
      "text/html": [
       "<pre>recommendations finished on 124000/133585 queries. users per second: 372905</pre>"
      ],
      "text/plain": [
       "recommendations finished on 124000/133585 queries. users per second: 372905"
      ]
     },
     "metadata": {},
     "output_type": "display_data"
    },
    {
     "data": {
      "text/html": [
       "<pre>recommendations finished on 125000/133585 queries. users per second: 373650</pre>"
      ],
      "text/plain": [
       "recommendations finished on 125000/133585 queries. users per second: 373650"
      ]
     },
     "metadata": {},
     "output_type": "display_data"
    },
    {
     "data": {
      "text/html": [
       "<pre>recommendations finished on 126000/133585 queries. users per second: 375041</pre>"
      ],
      "text/plain": [
       "recommendations finished on 126000/133585 queries. users per second: 375041"
      ]
     },
     "metadata": {},
     "output_type": "display_data"
    },
    {
     "data": {
      "text/html": [
       "<pre>recommendations finished on 127000/133585 queries. users per second: 376695</pre>"
      ],
      "text/plain": [
       "recommendations finished on 127000/133585 queries. users per second: 376695"
      ]
     },
     "metadata": {},
     "output_type": "display_data"
    },
    {
     "data": {
      "text/html": [
       "<pre>recommendations finished on 128000/133585 queries. users per second: 378333</pre>"
      ],
      "text/plain": [
       "recommendations finished on 128000/133585 queries. users per second: 378333"
      ]
     },
     "metadata": {},
     "output_type": "display_data"
    },
    {
     "data": {
      "text/html": [
       "<pre>recommendations finished on 129000/133585 queries. users per second: 379927</pre>"
      ],
      "text/plain": [
       "recommendations finished on 129000/133585 queries. users per second: 379927"
      ]
     },
     "metadata": {},
     "output_type": "display_data"
    },
    {
     "data": {
      "text/html": [
       "<pre>recommendations finished on 130000/133585 queries. users per second: 381327</pre>"
      ],
      "text/plain": [
       "recommendations finished on 130000/133585 queries. users per second: 381327"
      ]
     },
     "metadata": {},
     "output_type": "display_data"
    },
    {
     "data": {
      "text/html": [
       "<pre>recommendations finished on 131000/133585 queries. users per second: 382608</pre>"
      ],
      "text/plain": [
       "recommendations finished on 131000/133585 queries. users per second: 382608"
      ]
     },
     "metadata": {},
     "output_type": "display_data"
    },
    {
     "data": {
      "text/html": [
       "<pre>recommendations finished on 132000/133585 queries. users per second: 384030</pre>"
      ],
      "text/plain": [
       "recommendations finished on 132000/133585 queries. users per second: 384030"
      ]
     },
     "metadata": {},
     "output_type": "display_data"
    },
    {
     "data": {
      "text/html": [
       "<pre>recommendations finished on 133000/133585 queries. users per second: 385387</pre>"
      ],
      "text/plain": [
       "recommendations finished on 133000/133585 queries. users per second: 385387"
      ]
     },
     "metadata": {},
     "output_type": "display_data"
    },
    {
     "name": "stdout",
     "output_type": "stream",
     "text": [
      "+------------+-----------+--------------------+------+\n",
      "| customerId | productId |       score        | rank |\n",
      "+------------+-----------+--------------------+------+\n",
      "|     9      |    132    | 3.254237288135594  |  1   |\n",
      "|     9      |     37    | 3.0356721021385824 |  2   |\n",
      "|     9      |     34    | 2.976919191384764  |  3   |\n",
      "|     9      |    248    | 2.869565217391304  |  4   |\n",
      "|     9      |     3     | 2.8372317303875962 |  5   |\n",
      "|     9      |     27    | 2.744834931249973  |  6   |\n",
      "|     9      |    110    |  2.74401136002023  |  7   |\n",
      "|     9      |    230    | 2.6983253545231283 |  8   |\n",
      "|     9      |     82    | 2.635612837473551  |  9   |\n",
      "|     9      |     32    | 2.6303558272082537 |  10  |\n",
      "|     25     |    132    | 3.254237288135594  |  1   |\n",
      "|     25     |     37    | 3.040623944267813  |  2   |\n",
      "|     25     |     34    |  2.98304398255658  |  3   |\n",
      "|     25     |    248    | 2.869565217391304  |  4   |\n",
      "|     25     |     3     | 2.8367601152585493 |  5   |\n",
      "|     25     |     27    | 2.747916047661394  |  6   |\n",
      "|     25     |    110    | 2.745664739884393  |  7   |\n",
      "|     25     |    230    | 2.6999999999999993 |  8   |\n",
      "|     25     |     82    | 2.6409145563840863 |  9   |\n",
      "|     25     |     32    | 2.6303588364149726 |  10  |\n",
      "|     33     |    132    | 3.2539210315670486 |  1   |\n",
      "|     33     |     37    | 3.037595385079765  |  2   |\n",
      "|     33     |     34    | 2.9807132266529726 |  3   |\n",
      "|     33     |    248    | 2.8703278730127875 |  4   |\n",
      "|     33     |     3     | 2.836002450816487  |  5   |\n",
      "|     33     |     27    | 2.7482981276259864 |  6   |\n",
      "|     33     |    110    | 2.746102606958179  |  7   |\n",
      "|     33     |    230    | 2.7010273144358674 |  8   |\n",
      "|     33     |     82    | 2.6678453717912944 |  9   |\n",
      "|     33     |     32    | 2.630087505073479  |  10  |\n",
      "+------------+-----------+--------------------+------+\n",
      "[1335850 rows x 4 columns]\n",
      "\n"
     ]
    }
   ],
   "source": [
    "# these variables will change accordingly\n",
    "name = 'pearson'\n",
    "target = 'purchase_count'\n",
    "pear = model(train_data, name, user_id, item_id, target, users_to_recommend, n_rec, n_display)"
   ]
  },
  {
   "cell_type": "markdown",
   "metadata": {},
   "source": [
    "#### Note\n",
    "* In collaborative filtering above, we used two approaches: cosine and pearson distance. We also got to apply them to three training datasets with normal counts, dummy, or normalized counts of items purchase.\n",
    "* We can see that the recommendations are different for each user. This suggests that personalization does exist. \n",
    "* But how good is this model compared to the baseline, and to each other? We need some means of evaluating a recommendation engine. Lets focus on that in the next section."
   ]
  },
  {
   "cell_type": "markdown",
   "metadata": {},
   "source": [
    "## 7. Model Evaluation\n",
    "For evaluating recommendation engines, we can use the concept of precision-recall.\n",
    "\n",
    "* RMSE (Root Mean Squared Errors)\n",
    "    * Measures the error of predicted values\n",
    "    * Lesser the RMSE value, better the recommendations\n",
    "* Recall\n",
    "    * What percentage of products that a user buys are actually recommended?\n",
    "    * If a customer buys 5 products and the recommendation decided to show 3 of them, then the recall is 0.6\n",
    "* Precision\n",
    "    * Out of all the recommended items, how many the user actually liked?\n",
    "    * If 5 products were recommended to the customer out of which he buys 4 of them, then precision is 0.8\n",
    "    \n",
    "* Why are both recall and precision important?\n",
    "    * Consider a case where we recommend all products, so our customers will surely cover the items that they liked and bought. In this case, we have 100% recall! Does this mean our model is good?\n",
    "    * We have to consider precision. If we recommend 300 items but user likes and buys only 3 of them, then precision is 0.1%! This very low precision indicates that the model is not great, despite their excellent recall.\n",
    "    * So our aim has to be optimizing both recall and precision (to be close to 1 as possible).\n",
    "\n",
    "Lets compare all the models we have built based on precision-recall characteristics:"
   ]
  },
  {
   "cell_type": "code",
   "execution_count": 47,
   "metadata": {},
   "outputs": [],
   "source": [
    "# create initial callable variables\n",
    "\n",
    "models_w_counts = [popularity_model, cos, pear]\n",
    "names_w_counts = ['Popularity Model on Purchase Counts', 'Cosine Similarity on Purchase Counts', 'Pearson Similarity on Purchase Counts']\n"
   ]
  },
  {
   "cell_type": "markdown",
   "metadata": {},
   "source": [
    "#### Models on purchase counts"
   ]
  },
  {
   "cell_type": "code",
   "execution_count": 49,
   "metadata": {
    "scrolled": false
   },
   "outputs": [
    {
     "name": "stdout",
     "output_type": "stream",
     "text": [
      "PROGRESS: Evaluate model Popularity Model on Purchase Counts\n"
     ]
    },
    {
     "data": {
      "text/html": [
       "<pre>recommendations finished on 1000/13893 queries. users per second: 51161.4</pre>"
      ],
      "text/plain": [
       "recommendations finished on 1000/13893 queries. users per second: 51161.4"
      ]
     },
     "metadata": {},
     "output_type": "display_data"
    },
    {
     "data": {
      "text/html": [
       "<pre>recommendations finished on 2000/13893 queries. users per second: 64909.8</pre>"
      ],
      "text/plain": [
       "recommendations finished on 2000/13893 queries. users per second: 64909.8"
      ]
     },
     "metadata": {},
     "output_type": "display_data"
    },
    {
     "data": {
      "text/html": [
       "<pre>recommendations finished on 3000/13893 queries. users per second: 71658.9</pre>"
      ],
      "text/plain": [
       "recommendations finished on 3000/13893 queries. users per second: 71658.9"
      ]
     },
     "metadata": {},
     "output_type": "display_data"
    },
    {
     "data": {
      "text/html": [
       "<pre>recommendations finished on 4000/13893 queries. users per second: 75889.8</pre>"
      ],
      "text/plain": [
       "recommendations finished on 4000/13893 queries. users per second: 75889.8"
      ]
     },
     "metadata": {},
     "output_type": "display_data"
    },
    {
     "data": {
      "text/html": [
       "<pre>recommendations finished on 5000/13893 queries. users per second: 78823.3</pre>"
      ],
      "text/plain": [
       "recommendations finished on 5000/13893 queries. users per second: 78823.3"
      ]
     },
     "metadata": {},
     "output_type": "display_data"
    },
    {
     "data": {
      "text/html": [
       "<pre>recommendations finished on 6000/13893 queries. users per second: 80912.7</pre>"
      ],
      "text/plain": [
       "recommendations finished on 6000/13893 queries. users per second: 80912.7"
      ]
     },
     "metadata": {},
     "output_type": "display_data"
    },
    {
     "data": {
      "text/html": [
       "<pre>recommendations finished on 7000/13893 queries. users per second: 82848.1</pre>"
      ],
      "text/plain": [
       "recommendations finished on 7000/13893 queries. users per second: 82848.1"
      ]
     },
     "metadata": {},
     "output_type": "display_data"
    },
    {
     "data": {
      "text/html": [
       "<pre>recommendations finished on 8000/13893 queries. users per second: 84151.2</pre>"
      ],
      "text/plain": [
       "recommendations finished on 8000/13893 queries. users per second: 84151.2"
      ]
     },
     "metadata": {},
     "output_type": "display_data"
    },
    {
     "data": {
      "text/html": [
       "<pre>recommendations finished on 9000/13893 queries. users per second: 85364.7</pre>"
      ],
      "text/plain": [
       "recommendations finished on 9000/13893 queries. users per second: 85364.7"
      ]
     },
     "metadata": {},
     "output_type": "display_data"
    },
    {
     "data": {
      "text/html": [
       "<pre>recommendations finished on 10000/13893 queries. users per second: 86186.8</pre>"
      ],
      "text/plain": [
       "recommendations finished on 10000/13893 queries. users per second: 86186.8"
      ]
     },
     "metadata": {},
     "output_type": "display_data"
    },
    {
     "data": {
      "text/html": [
       "<pre>recommendations finished on 11000/13893 queries. users per second: 86836.4</pre>"
      ],
      "text/plain": [
       "recommendations finished on 11000/13893 queries. users per second: 86836.4"
      ]
     },
     "metadata": {},
     "output_type": "display_data"
    },
    {
     "data": {
      "text/html": [
       "<pre>recommendations finished on 12000/13893 queries. users per second: 86984.3</pre>"
      ],
      "text/plain": [
       "recommendations finished on 12000/13893 queries. users per second: 86984.3"
      ]
     },
     "metadata": {},
     "output_type": "display_data"
    },
    {
     "data": {
      "text/html": [
       "<pre>recommendations finished on 13000/13893 queries. users per second: 88820.3</pre>"
      ],
      "text/plain": [
       "recommendations finished on 13000/13893 queries. users per second: 88820.3"
      ]
     },
     "metadata": {},
     "output_type": "display_data"
    },
    {
     "name": "stdout",
     "output_type": "stream",
     "text": [
      "\n",
      "Precision and recall summary statistics by cutoff\n",
      "+--------+----------------------+-----------------------+\n",
      "| cutoff |    mean_precision    |      mean_recall      |\n",
      "+--------+----------------------+-----------------------+\n",
      "|   1    | 0.001007701720290802 | 0.0005602341706854781 |\n",
      "|   2    | 0.003382998632404809 | 0.0035587777706110623 |\n",
      "|   3    | 0.003359005734302644 |  0.005366181240722392 |\n",
      "|   4    | 0.007161880083495281 |  0.015138597696360594 |\n",
      "|   5    | 0.00591664867199308  |  0.015468500045265246 |\n",
      "|   6    | 0.006142181914153423 |  0.01903851604780135  |\n",
      "|   7    | 0.00561433815590585  |  0.020225009566216846 |\n",
      "|   8    | 0.005227452674008488 |  0.02166998185441946  |\n",
      "|   9    | 0.004998520437950374 |  0.023440829112202567 |\n",
      "|   10   | 0.004865759735118379 |  0.02548713329627394  |\n",
      "+--------+----------------------+-----------------------+\n",
      "[10 rows x 3 columns]\n",
      "\n",
      "\n",
      "Overall RMSE: 1.0395593062768669\n",
      "\n",
      "Per User RMSE (best)\n",
      "+------------+----------------------+-------+\n",
      "| customerId |         rmse         | count |\n",
      "+------------+----------------------+-------+\n",
      "|   25228    | 0.005154639175257714 |   1   |\n",
      "+------------+----------------------+-------+\n",
      "[1 rows x 3 columns]\n",
      "\n",
      "\n",
      "Per User RMSE (worst)\n",
      "+------------+--------------------+-------+\n",
      "| customerId |        rmse        | count |\n",
      "+------------+--------------------+-------+\n",
      "|    767     | 20.684210526315788 |   1   |\n",
      "+------------+--------------------+-------+\n",
      "[1 rows x 3 columns]\n",
      "\n",
      "\n",
      "Per Item RMSE (best)\n",
      "+-----------+---------------------+-------+\n",
      "| productId |         rmse        | count |\n",
      "+-----------+---------------------+-------+\n",
      "|    216    | 0.21821052385827547 |   92  |\n",
      "+-----------+---------------------+-------+\n",
      "[1 rows x 3 columns]\n",
      "\n",
      "\n",
      "Per Item RMSE (worst)\n",
      "+-----------+-------------------+-------+\n",
      "| productId |        rmse       | count |\n",
      "+-----------+-------------------+-------+\n",
      "|     47    | 5.062001046220741 |  123  |\n",
      "+-----------+-------------------+-------+\n",
      "[1 rows x 3 columns]\n",
      "\n",
      "PROGRESS: Evaluate model Cosine Similarity on Purchase Counts\n"
     ]
    },
    {
     "data": {
      "text/html": [
       "<pre>recommendations finished on 1000/13893 queries. users per second: 72532.1</pre>"
      ],
      "text/plain": [
       "recommendations finished on 1000/13893 queries. users per second: 72532.1"
      ]
     },
     "metadata": {},
     "output_type": "display_data"
    },
    {
     "data": {
      "text/html": [
       "<pre>recommendations finished on 2000/13893 queries. users per second: 82850</pre>"
      ],
      "text/plain": [
       "recommendations finished on 2000/13893 queries. users per second: 82850"
      ]
     },
     "metadata": {},
     "output_type": "display_data"
    },
    {
     "data": {
      "text/html": [
       "<pre>recommendations finished on 3000/13893 queries. users per second: 86725.3</pre>"
      ],
      "text/plain": [
       "recommendations finished on 3000/13893 queries. users per second: 86725.3"
      ]
     },
     "metadata": {},
     "output_type": "display_data"
    },
    {
     "data": {
      "text/html": [
       "<pre>recommendations finished on 4000/13893 queries. users per second: 89595.7</pre>"
      ],
      "text/plain": [
       "recommendations finished on 4000/13893 queries. users per second: 89595.7"
      ]
     },
     "metadata": {},
     "output_type": "display_data"
    },
    {
     "data": {
      "text/html": [
       "<pre>recommendations finished on 5000/13893 queries. users per second: 91932</pre>"
      ],
      "text/plain": [
       "recommendations finished on 5000/13893 queries. users per second: 91932"
      ]
     },
     "metadata": {},
     "output_type": "display_data"
    },
    {
     "data": {
      "text/html": [
       "<pre>recommendations finished on 6000/13893 queries. users per second: 93447.8</pre>"
      ],
      "text/plain": [
       "recommendations finished on 6000/13893 queries. users per second: 93447.8"
      ]
     },
     "metadata": {},
     "output_type": "display_data"
    },
    {
     "data": {
      "text/html": [
       "<pre>recommendations finished on 7000/13893 queries. users per second: 94725.2</pre>"
      ],
      "text/plain": [
       "recommendations finished on 7000/13893 queries. users per second: 94725.2"
      ]
     },
     "metadata": {},
     "output_type": "display_data"
    },
    {
     "data": {
      "text/html": [
       "<pre>recommendations finished on 8000/13893 queries. users per second: 95495</pre>"
      ],
      "text/plain": [
       "recommendations finished on 8000/13893 queries. users per second: 95495"
      ]
     },
     "metadata": {},
     "output_type": "display_data"
    },
    {
     "data": {
      "text/html": [
       "<pre>recommendations finished on 9000/13893 queries. users per second: 96227.9</pre>"
      ],
      "text/plain": [
       "recommendations finished on 9000/13893 queries. users per second: 96227.9"
      ]
     },
     "metadata": {},
     "output_type": "display_data"
    },
    {
     "data": {
      "text/html": [
       "<pre>recommendations finished on 10000/13893 queries. users per second: 96812.9</pre>"
      ],
      "text/plain": [
       "recommendations finished on 10000/13893 queries. users per second: 96812.9"
      ]
     },
     "metadata": {},
     "output_type": "display_data"
    },
    {
     "data": {
      "text/html": [
       "<pre>recommendations finished on 11000/13893 queries. users per second: 97241</pre>"
      ],
      "text/plain": [
       "recommendations finished on 11000/13893 queries. users per second: 97241"
      ]
     },
     "metadata": {},
     "output_type": "display_data"
    },
    {
     "data": {
      "text/html": [
       "<pre>recommendations finished on 12000/13893 queries. users per second: 97378.1</pre>"
      ],
      "text/plain": [
       "recommendations finished on 12000/13893 queries. users per second: 97378.1"
      ]
     },
     "metadata": {},
     "output_type": "display_data"
    },
    {
     "data": {
      "text/html": [
       "<pre>recommendations finished on 13000/13893 queries. users per second: 97029.4</pre>"
      ],
      "text/plain": [
       "recommendations finished on 13000/13893 queries. users per second: 97029.4"
      ]
     },
     "metadata": {},
     "output_type": "display_data"
    },
    {
     "name": "stdout",
     "output_type": "stream",
     "text": [
      "\n",
      "Precision and recall summary statistics by cutoff\n",
      "+--------+----------------------+---------------------+\n",
      "| cutoff |    mean_precision    |     mean_recall     |\n",
      "+--------+----------------------+---------------------+\n",
      "|   1    | 0.11487799611315068  | 0.06693243751214062 |\n",
      "|   2    | 0.09306845173828511  | 0.10705947579292541 |\n",
      "|   3    | 0.07879267736749976  | 0.13347640263632612 |\n",
      "|   4    | 0.06868566904196327  | 0.15400777889540665 |\n",
      "|   5    | 0.06200244727560657  | 0.17307771218238396 |\n",
      "|   6    | 0.05614338155905831  | 0.18778087433210267 |\n",
      "|   7    | 0.05139278773483065  | 0.20034130190008717 |\n",
      "|   8    | 0.04758691427337533  | 0.21124239465715136 |\n",
      "|   9    | 0.044602797571918686 | 0.22202471557767095 |\n",
      "|   10   | 0.041855610739221207 | 0.23104909427687773 |\n",
      "+--------+----------------------+---------------------+\n",
      "[10 rows x 3 columns]\n",
      "\n",
      "\n",
      "Overall RMSE: 1.879864434334411\n",
      "\n",
      "Per User RMSE (best)\n",
      "+------------+--------------------+-------+\n",
      "| customerId |        rmse        | count |\n",
      "+------------+--------------------+-------+\n",
      "|   10122    | 0.3159773349761963 |   1   |\n",
      "+------------+--------------------+-------+\n",
      "[1 rows x 3 columns]\n",
      "\n",
      "\n",
      "Per User RMSE (worst)\n",
      "+------------+--------------------+-------+\n",
      "| customerId |        rmse        | count |\n",
      "+------------+--------------------+-------+\n",
      "|    767     | 22.959861437479656 |   1   |\n",
      "+------------+--------------------+-------+\n",
      "[1 rows x 3 columns]\n",
      "\n",
      "\n",
      "Per Item RMSE (best)\n",
      "+-----------+-------------------+-------+\n",
      "| productId |        rmse       | count |\n",
      "+-----------+-------------------+-------+\n",
      "|    216    | 1.046803512319023 |   92  |\n",
      "+-----------+-------------------+-------+\n",
      "[1 rows x 3 columns]\n",
      "\n",
      "\n",
      "Per Item RMSE (worst)\n",
      "+-----------+-------------------+-------+\n",
      "| productId |        rmse       | count |\n",
      "+-----------+-------------------+-------+\n",
      "|     47    | 5.326117778408031 |  123  |\n",
      "+-----------+-------------------+-------+\n",
      "[1 rows x 3 columns]\n",
      "\n",
      "PROGRESS: Evaluate model Pearson Similarity on Purchase Counts\n"
     ]
    },
    {
     "data": {
      "text/html": [
       "<pre>recommendations finished on 1000/13893 queries. users per second: 55260.8</pre>"
      ],
      "text/plain": [
       "recommendations finished on 1000/13893 queries. users per second: 55260.8"
      ]
     },
     "metadata": {},
     "output_type": "display_data"
    },
    {
     "data": {
      "text/html": [
       "<pre>recommendations finished on 2000/13893 queries. users per second: 68745.1</pre>"
      ],
      "text/plain": [
       "recommendations finished on 2000/13893 queries. users per second: 68745.1"
      ]
     },
     "metadata": {},
     "output_type": "display_data"
    },
    {
     "data": {
      "text/html": [
       "<pre>recommendations finished on 3000/13893 queries. users per second: 75467.9</pre>"
      ],
      "text/plain": [
       "recommendations finished on 3000/13893 queries. users per second: 75467.9"
      ]
     },
     "metadata": {},
     "output_type": "display_data"
    },
    {
     "data": {
      "text/html": [
       "<pre>recommendations finished on 4000/13893 queries. users per second: 79790.9</pre>"
      ],
      "text/plain": [
       "recommendations finished on 4000/13893 queries. users per second: 79790.9"
      ]
     },
     "metadata": {},
     "output_type": "display_data"
    },
    {
     "data": {
      "text/html": [
       "<pre>recommendations finished on 5000/13893 queries. users per second: 82921.5</pre>"
      ],
      "text/plain": [
       "recommendations finished on 5000/13893 queries. users per second: 82921.5"
      ]
     },
     "metadata": {},
     "output_type": "display_data"
    },
    {
     "data": {
      "text/html": [
       "<pre>recommendations finished on 6000/13893 queries. users per second: 85439.7</pre>"
      ],
      "text/plain": [
       "recommendations finished on 6000/13893 queries. users per second: 85439.7"
      ]
     },
     "metadata": {},
     "output_type": "display_data"
    },
    {
     "data": {
      "text/html": [
       "<pre>recommendations finished on 7000/13893 queries. users per second: 87470.5</pre>"
      ],
      "text/plain": [
       "recommendations finished on 7000/13893 queries. users per second: 87470.5"
      ]
     },
     "metadata": {},
     "output_type": "display_data"
    },
    {
     "data": {
      "text/html": [
       "<pre>recommendations finished on 8000/13893 queries. users per second: 89249.9</pre>"
      ],
      "text/plain": [
       "recommendations finished on 8000/13893 queries. users per second: 89249.9"
      ]
     },
     "metadata": {},
     "output_type": "display_data"
    },
    {
     "data": {
      "text/html": [
       "<pre>recommendations finished on 9000/13893 queries. users per second: 90579.7</pre>"
      ],
      "text/plain": [
       "recommendations finished on 9000/13893 queries. users per second: 90579.7"
      ]
     },
     "metadata": {},
     "output_type": "display_data"
    },
    {
     "data": {
      "text/html": [
       "<pre>recommendations finished on 10000/13893 queries. users per second: 91850.1</pre>"
      ],
      "text/plain": [
       "recommendations finished on 10000/13893 queries. users per second: 91850.1"
      ]
     },
     "metadata": {},
     "output_type": "display_data"
    },
    {
     "data": {
      "text/html": [
       "<pre>recommendations finished on 11000/13893 queries. users per second: 92644.8</pre>"
      ],
      "text/plain": [
       "recommendations finished on 11000/13893 queries. users per second: 92644.8"
      ]
     },
     "metadata": {},
     "output_type": "display_data"
    },
    {
     "data": {
      "text/html": [
       "<pre>recommendations finished on 12000/13893 queries. users per second: 93447.8</pre>"
      ],
      "text/plain": [
       "recommendations finished on 12000/13893 queries. users per second: 93447.8"
      ]
     },
     "metadata": {},
     "output_type": "display_data"
    },
    {
     "data": {
      "text/html": [
       "<pre>recommendations finished on 13000/13893 queries. users per second: 94002.6</pre>"
      ],
      "text/plain": [
       "recommendations finished on 13000/13893 queries. users per second: 94002.6"
      ]
     },
     "metadata": {},
     "output_type": "display_data"
    },
    {
     "name": "stdout",
     "output_type": "stream",
     "text": [
      "\n",
      "Precision and recall summary statistics by cutoff\n",
      "+--------+-----------------------+-----------------------+\n",
      "| cutoff |     mean_precision    |      mean_recall      |\n",
      "+--------+-----------------------+-----------------------+\n",
      "|   1    | 0.0010077017202907974 | 0.0005602341706854814 |\n",
      "|   2    | 0.0034549773267112988 | 0.0036362093963044195 |\n",
      "|   3    | 0.0040068139830609865 |  0.006502930477234095 |\n",
      "|   4    |  0.007179874757071929 |  0.015162590594462816 |\n",
      "|   5    |  0.005931044410854392 |  0.015492492943367435 |\n",
      "|   6    | 0.0061541783632045105 |  0.019050512496852422 |\n",
      "|   7    |  0.00566575150898189  |  0.020535717596639694 |\n",
      "|   8    |  0.005272439357950029 |  0.021897914386389897 |\n",
      "|   9    |  0.005030510968753265 |  0.02362128998149966  |\n",
      "|   10   | 0.0049233426905635974 |  0.02584342783309102  |\n",
      "+--------+-----------------------+-----------------------+\n",
      "[10 rows x 3 columns]\n",
      "\n",
      "\n",
      "Overall RMSE: 1.0368737426753996\n",
      "\n",
      "Per User RMSE (best)\n",
      "+------------+-----------------------+-------+\n",
      "| customerId |          rmse         | count |\n",
      "+------------+-----------------------+-------+\n",
      "|    8681    | 0.0013205143022525512 |   1   |\n",
      "+------------+-----------------------+-------+\n",
      "[1 rows x 3 columns]\n",
      "\n",
      "\n",
      "Per User RMSE (worst)\n",
      "+------------+--------------------+-------+\n",
      "| customerId |        rmse        | count |\n",
      "+------------+--------------------+-------+\n",
      "|    767     | 20.684210526315788 |   1   |\n",
      "+------------+--------------------+-------+\n",
      "[1 rows x 3 columns]\n",
      "\n",
      "\n",
      "Per Item RMSE (best)\n",
      "+-----------+---------------------+-------+\n",
      "| productId |         rmse        | count |\n",
      "+-----------+---------------------+-------+\n",
      "|    216    | 0.21832764000619934 |   92  |\n",
      "+-----------+---------------------+-------+\n",
      "[1 rows x 3 columns]\n",
      "\n",
      "\n",
      "Per Item RMSE (worst)\n",
      "+-----------+-------------------+-------+\n",
      "| productId |        rmse       | count |\n",
      "+-----------+-------------------+-------+\n",
      "|     47    | 5.060779240500185 |  123  |\n",
      "+-----------+-------------------+-------+\n",
      "[1 rows x 3 columns]\n",
      "\n"
     ]
    }
   ],
   "source": [
    "eval_counts = tc.recommender.util.compare_models(test_data, models_w_counts, model_names=names_w_counts)"
   ]
  },
  {
   "cell_type": "markdown",
   "metadata": {},
   "source": [
    "## 8. Model Selection\n",
    "### 8.1. Evaluation summary\n",
    "* Based on RMSE\n",
    "\n",
    "\n",
    "    1. Popularity on purchase counts: 1.1111750034210488\n",
    "    2. Cosine similarity on purchase counts: 1.9230643981653215\n",
    "    3. Pearson similarity on purchase counts: 1.9231102838192284\n",
    "    \n",
    "    4. Popularity on purchase dummy: 0.9697374361161925\n",
    "    5. Cosine similarity on purchase dummy: 0.9697509978436404\n",
    "    6. Pearson similarity on purchase dummy: 0.9697745320187097\n",
    "    \n",
    "    7. Popularity on scaled purchase counts: 0.16230660626840343\n",
    "    8. Cosine similarity on scaled purchase counts: 0.16229800354111104\n",
    "    9. Pearson similarity on scaled purchase counts: 0.1622982668334026\n",
    "    \n",
    "* Based on Precision and Recall\n",
    "![](../images/model_comparisons.png)\n"
   ]
  },
  {
   "cell_type": "markdown",
   "metadata": {},
   "source": [
    "#### Notes\n",
    "\n",
    "* Popularity v. Collaborative Filtering: We can see that the collaborative filtering algorithms work better than popularity model for purchase counts. Indeed, popularity model doesn’t give any personalizations as it only gives the same list of recommended items to every user.\n",
    "* Precision and recall: Looking at the summary above, we see that the precision and recall for Purchase Counts > Purchase Dummy > Normalized Purchase Counts. However, because the recommendation scores for the normalized purchase data is zero and constant, we choose the dummy. In fact, the RMSE isn’t much different between models on the dummy and those on the normalized data.\n",
    "* RMSE: Since RMSE is higher using pearson distance thancosine, we would choose model the smaller mean squared errors, which in this case would be cosine.\n",
    "Therefore, we select the Cosine similarity on Purchase Dummy approach as our final model."
   ]
  },
  {
   "cell_type": "markdown",
   "metadata": {},
   "source": [
    "## 8. Final Output\n",
    "* In this step, we would like to manipulate format for recommendation output to one we can export to csv, and also a function that will return recommendation list given a customer ID.\n",
    "* We need to first rerun the model using the whole dataset, as we came to a final model using train data and evaluated with test set."
   ]
  },
  {
   "cell_type": "code",
   "execution_count": null,
   "metadata": {},
   "outputs": [],
   "source": [
    "users_to_recommend = list(data[user_id])\n",
    "\n",
    "final_model = tc.item_similarity_recommender.create(tc.SFrame(data_dummy), \n",
    "                                            user_id=user_id, \n",
    "                                            item_id=item_id, \n",
    "                                            target='purchase_count', \n",
    "                                            similarity_type='cosine')\n",
    "\n",
    "recom = final_model.recommend(users=users_to_recommend, k=n_rec)\n",
    "recom.print_rows(n_display)"
   ]
  },
  {
   "cell_type": "markdown",
   "metadata": {
    "collapsed": true
   },
   "source": [
    "### use recommender system algorithm learned in Andrew Ng's ML course"
   ]
  },
  {
   "cell_type": "markdown",
   "metadata": {},
   "source": [
    "### collective filtering cost function"
   ]
  },
  {
   "cell_type": "markdown",
   "metadata": {},
   "source": [
    "#### in our product recommender case, movies=product, ratings=purchase_count"
   ]
  },
  {
   "cell_type": "code",
   "execution_count": 69,
   "metadata": {},
   "outputs": [],
   "source": [
    "num_movies = 300\n",
    "num_users = 24429\n",
    "num_features = 10\n",
    "lambda_ = 10"
   ]
  },
  {
   "cell_type": "markdown",
   "metadata": {},
   "source": [
    "### input is Y and R\n",
    "Y is the purchase_count for customers and product\n",
    "\n",
    "R is binary indicating if a customer has bought a product\n",
    "\n",
    "need to random initialize X feature vector and Theta customer weight matrix for products"
   ]
  },
  {
   "cell_type": "code",
   "execution_count": 120,
   "metadata": {},
   "outputs": [
    {
     "data": {
      "text/html": [
       "<div>\n",
       "<style scoped>\n",
       "    .dataframe tbody tr th:only-of-type {\n",
       "        vertical-align: middle;\n",
       "    }\n",
       "\n",
       "    .dataframe tbody tr th {\n",
       "        vertical-align: top;\n",
       "    }\n",
       "\n",
       "    .dataframe thead th {\n",
       "        text-align: right;\n",
       "    }\n",
       "</style>\n",
       "<table border=\"1\" class=\"dataframe\">\n",
       "  <thead>\n",
       "    <tr style=\"text-align: right;\">\n",
       "      <th>customerId</th>\n",
       "      <th>0</th>\n",
       "      <th>1</th>\n",
       "      <th>2</th>\n",
       "      <th>3</th>\n",
       "      <th>4</th>\n",
       "      <th>5</th>\n",
       "      <th>6</th>\n",
       "      <th>7</th>\n",
       "      <th>8</th>\n",
       "      <th>9</th>\n",
       "      <th>...</th>\n",
       "      <th>28581</th>\n",
       "      <th>28583</th>\n",
       "      <th>28585</th>\n",
       "      <th>28588</th>\n",
       "      <th>28590</th>\n",
       "      <th>28593</th>\n",
       "      <th>28596</th>\n",
       "      <th>28598</th>\n",
       "      <th>28604</th>\n",
       "      <th>28605</th>\n",
       "    </tr>\n",
       "  </thead>\n",
       "  <tbody>\n",
       "    <tr>\n",
       "      <th>0</th>\n",
       "      <td>0</td>\n",
       "      <td>0</td>\n",
       "      <td>0</td>\n",
       "      <td>0</td>\n",
       "      <td>0</td>\n",
       "      <td>0</td>\n",
       "      <td>0</td>\n",
       "      <td>0</td>\n",
       "      <td>0</td>\n",
       "      <td>3</td>\n",
       "      <td>...</td>\n",
       "      <td>0</td>\n",
       "      <td>0</td>\n",
       "      <td>0</td>\n",
       "      <td>0</td>\n",
       "      <td>0</td>\n",
       "      <td>0</td>\n",
       "      <td>0</td>\n",
       "      <td>0</td>\n",
       "      <td>0</td>\n",
       "      <td>0</td>\n",
       "    </tr>\n",
       "    <tr>\n",
       "      <th>1</th>\n",
       "      <td>2</td>\n",
       "      <td>0</td>\n",
       "      <td>0</td>\n",
       "      <td>0</td>\n",
       "      <td>0</td>\n",
       "      <td>0</td>\n",
       "      <td>0</td>\n",
       "      <td>0</td>\n",
       "      <td>0</td>\n",
       "      <td>2</td>\n",
       "      <td>...</td>\n",
       "      <td>0</td>\n",
       "      <td>0</td>\n",
       "      <td>0</td>\n",
       "      <td>0</td>\n",
       "      <td>0</td>\n",
       "      <td>0</td>\n",
       "      <td>0</td>\n",
       "      <td>0</td>\n",
       "      <td>0</td>\n",
       "      <td>0</td>\n",
       "    </tr>\n",
       "  </tbody>\n",
       "</table>\n",
       "<p>2 rows × 24429 columns</p>\n",
       "</div>"
      ],
      "text/plain": [
       "customerId  0      1      2      3      4      5      6      7      8      \\\n",
       "0               0      0      0      0      0      0      0      0      0   \n",
       "1               2      0      0      0      0      0      0      0      0   \n",
       "\n",
       "customerId  9      ...  28581  28583  28585  28588  28590  28593  28596  \\\n",
       "0               3  ...      0      0      0      0      0      0      0   \n",
       "1               2  ...      0      0      0      0      0      0      0   \n",
       "\n",
       "customerId  28598  28604  28605  \n",
       "0               0      0      0  \n",
       "1               0      0      0  \n",
       "\n",
       "[2 rows x 24429 columns]"
      ]
     },
     "execution_count": 120,
     "metadata": {},
     "output_type": "execute_result"
    }
   ],
   "source": [
    "Y = df.set_index('customerId').T\n",
    "Y.head(2)"
   ]
  },
  {
   "cell_type": "code",
   "execution_count": 122,
   "metadata": {},
   "outputs": [
    {
     "data": {
      "text/plain": [
       "0      0\n",
       "1      0\n",
       "2      0\n",
       "3      0\n",
       "4      0\n",
       "5      0\n",
       "6      0\n",
       "7      0\n",
       "8      0\n",
       "9      0\n",
       "10     0\n",
       "11     0\n",
       "12     0\n",
       "13     0\n",
       "14     1\n",
       "15     0\n",
       "16     0\n",
       "17     0\n",
       "18     0\n",
       "19     0\n",
       "20     0\n",
       "21     0\n",
       "22     0\n",
       "23     0\n",
       "24     0\n",
       "25     0\n",
       "26     0\n",
       "27     0\n",
       "28     0\n",
       "29     0\n",
       "      ..\n",
       "270    0\n",
       "271    0\n",
       "272    0\n",
       "273    0\n",
       "274    0\n",
       "275    0\n",
       "276    0\n",
       "277    0\n",
       "278    0\n",
       "279    0\n",
       "280    0\n",
       "281    0\n",
       "282    0\n",
       "283    0\n",
       "284    0\n",
       "285    0\n",
       "286    0\n",
       "287    0\n",
       "288    0\n",
       "289    0\n",
       "290    0\n",
       "291    0\n",
       "292    0\n",
       "293    0\n",
       "294    0\n",
       "295    0\n",
       "296    0\n",
       "297    0\n",
       "298    0\n",
       "299    0\n",
       "Name: 1553, Length: 300, dtype: int64"
      ]
     },
     "execution_count": 122,
     "metadata": {},
     "output_type": "execute_result"
    }
   ],
   "source": [
    "Y[1553]"
   ]
  },
  {
   "cell_type": "code",
   "execution_count": 81,
   "metadata": {},
   "outputs": [
    {
     "data": {
      "text/plain": [
       "array([[False, False, False, ..., False, False, False],\n",
       "       [ True, False, False, ..., False, False, False],\n",
       "       [False,  True, False, ..., False, False, False],\n",
       "       ...,\n",
       "       [False, False, False, ..., False, False, False],\n",
       "       [False, False, False, ..., False, False, False],\n",
       "       [False, False, False, ..., False, False, False]])"
      ]
     },
     "execution_count": 81,
     "metadata": {},
     "output_type": "execute_result"
    }
   ],
   "source": [
    "R = np.array(Y != 0)\n",
    "R"
   ]
  },
  {
   "cell_type": "code",
   "execution_count": 82,
   "metadata": {},
   "outputs": [],
   "source": [
    "Y = np.array(Y)"
   ]
  },
  {
   "cell_type": "code",
   "execution_count": null,
   "metadata": {},
   "outputs": [],
   "source": []
  },
  {
   "cell_type": "code",
   "execution_count": 75,
   "metadata": {},
   "outputs": [],
   "source": [
    "def normalizeRatings(Y, R):\n",
    "    \"\"\"\n",
    "    Preprocess data by subtracting mean rating for every movie (every row).\n",
    "\n",
    "    Parameters\n",
    "    ----------\n",
    "    Y : array_like\n",
    "        The user ratings for all movies. A matrix of shape (num_movies x num_users).\n",
    "\n",
    "    R : array_like\n",
    "        Indicator matrix for movies rated by users. A matrix of shape (num_movies x num_users).\n",
    "\n",
    "    Returns\n",
    "    -------\n",
    "    Ynorm : array_like\n",
    "        A matrix of same shape as Y, after mean normalization.\n",
    "\n",
    "    Ymean : array_like\n",
    "        A vector of shape (num_movies, ) containing the mean rating for each movie.\n",
    "    \"\"\"\n",
    "    m, n = Y.shape\n",
    "    Ymean = np.zeros(m)\n",
    "    Ynorm = np.zeros(Y.shape)\n",
    "\n",
    "    for i in range(m):\n",
    "        idx = R[i, :] == 1\n",
    "        Ymean[i] = np.mean(Y[i, idx])\n",
    "        Ynorm[i, idx] = Y[i, idx] - Ymean[i]\n",
    "\n",
    "    return Ynorm, Ymean\n"
   ]
  },
  {
   "cell_type": "code",
   "execution_count": 68,
   "metadata": {},
   "outputs": [],
   "source": [
    "def cofiCostFunc(params, Y, R, num_users, num_movies,\n",
    "                      num_features, lambda_=0.0):    \n",
    "    # Unfold the U and W matrices from params\n",
    "    X = params[:num_movies*num_features].reshape(num_movies, num_features)\n",
    "    Theta = params[num_movies*num_features:].reshape(num_users, num_features)\n",
    "\n",
    "    # You need to return the following values correctly\n",
    "    J = 0\n",
    "    X_grad = np.zeros(X.shape)\n",
    "    Theta_grad = np.zeros(Theta.shape)\n",
    "\n",
    "    # ====================== YOUR CODE HERE ======================\n",
    "    # prediction\n",
    "    preds = X @ (Theta.T)\n",
    "    preds = preds * R\n",
    "#     print(preds)\n",
    "    J = 0.5 * np.sum((preds - Y * R)**2) + 0.5 * lambda_ * np.sum(X**2) + 0.5 * lambda_ * np.sum(Theta**2)\n",
    "\n",
    "    # calculate gradient for each movie and feature\n",
    "    for i in range(num_movies):\n",
    "        idx = np.where(R[i, :] == 1)[0] # users who rated ith movie\n",
    "        Theta_temp = Theta[idx, :]\n",
    "        Y_temp = Y[i, idx]\n",
    "        X_grad[i, :] = ((X[i, :] @ Theta_temp.T) - Y_temp) @ Theta_temp + lambda_ * X[i, :]\n",
    "\n",
    "    # calculate gradient for each user and feature\n",
    "    for j in range(num_users):\n",
    "        idx = np.where(R.T[j, :] == 1)[0] # all movies rated by jth user        \n",
    "        Theta_temp = Theta[j, :][:, None]\n",
    "        X_temp = X[idx, :]\n",
    "        Y_temp = Y[idx, j]\n",
    "        Theta_grad[j, :] = (np.squeeze(X_temp @ Theta_temp) - Y_temp) @ X_temp + lambda_ * Theta[j, :]\n",
    "#     print(X_grad, Theta_grad)\n",
    "    \n",
    "    # =============================================================\n",
    "    \n",
    "    grad = np.concatenate([X_grad.ravel(), Theta_grad.ravel()])\n",
    "    return J, grad"
   ]
  },
  {
   "cell_type": "code",
   "execution_count": 83,
   "metadata": {},
   "outputs": [],
   "source": [
    "Ynorm, Ymean = normalizeRatings(Y, R)"
   ]
  },
  {
   "cell_type": "code",
   "execution_count": 85,
   "metadata": {},
   "outputs": [
    {
     "data": {
      "text/plain": [
       "array([[0.        , 0.        , 0.        , ..., 0.        , 0.        ,\n",
       "        0.        ],\n",
       "       [0.08687217, 0.        , 0.        , ..., 0.        , 0.        ,\n",
       "        0.        ],\n",
       "       [0.        , 3.98426479, 0.        , ..., 0.        , 0.        ,\n",
       "        0.        ],\n",
       "       ...,\n",
       "       [0.        , 0.        , 0.        , ..., 0.        , 0.        ,\n",
       "        0.        ],\n",
       "       [0.        , 0.        , 0.        , ..., 0.        , 0.        ,\n",
       "        0.        ],\n",
       "       [0.        , 0.        , 0.        , ..., 0.        , 0.        ,\n",
       "        0.        ]])"
      ]
     },
     "execution_count": 85,
     "metadata": {},
     "output_type": "execute_result"
    }
   ],
   "source": [
    "Ynorm"
   ]
  },
  {
   "cell_type": "markdown",
   "metadata": {},
   "source": [
    "### train recommender system"
   ]
  },
  {
   "cell_type": "code",
   "execution_count": 89,
   "metadata": {},
   "outputs": [
    {
     "name": "stdout",
     "output_type": "stream",
     "text": [
      "Recommender system learning completed.\n"
     ]
    }
   ],
   "source": [
    "#  Now, you will train the collaborative filtering model on a movie rating \n",
    "#  dataset of 1682 movies and 943 users\n",
    "\n",
    "\n",
    "#  Y is a 1682x943 matrix, containing ratings (1-5) of 1682 movies by \n",
    "#  943 users\n",
    "\n",
    "#  R is a 1682x943 matrix, where R(i,j) = 1 if and only if user j gave a\n",
    "#  rating to movie i\n",
    "\n",
    "#  Normalize Ratings\n",
    "Ynorm, Ymean = normalizeRatings(Y, R)\n",
    "\n",
    "#  Useful Values\n",
    "num_movies, num_users = Y.shape\n",
    "num_features = 10\n",
    "\n",
    "# Set Initial Parameters (Theta, X)\n",
    "X = np.random.randn(num_movies, num_features)\n",
    "Theta = np.random.randn(num_users, num_features)\n",
    "\n",
    "initial_parameters = np.concatenate([X.ravel(), Theta.ravel()])\n",
    "\n",
    "# Set options for scipy.optimize.minimize\n",
    "options = {'maxiter': 100}\n",
    "\n",
    "# Set Regularization\n",
    "lambda_ = 10\n",
    "print('optimizing X and Theta!!')\n",
    "res = optimize.minimize(lambda x: cofiCostFunc(x, Ynorm, R, num_users,\n",
    "                                               num_movies, num_features, lambda_),\n",
    "                        initial_parameters,\n",
    "                        method='TNC',\n",
    "                        jac=True,\n",
    "                        options=options)\n",
    "theta = res.x\n",
    "\n",
    "# Unfold the returned theta back into U and W\n",
    "X = theta[:num_movies*num_features].reshape(num_movies, num_features)\n",
    "Theta = theta[num_movies*num_features:].reshape(num_users, num_features)\n",
    "\n",
    "print('Recommender system learning completed.')"
   ]
  },
  {
   "cell_type": "code",
   "execution_count": 93,
   "metadata": {},
   "outputs": [
    {
     "data": {
      "text/plain": [
       "array([[ 1.14338952, -0.74230718,  2.93683096, -1.5063177 ,  4.19956069,\n",
       "         0.35187292, -0.00803084, -2.38959429, -2.45031605,  0.9088824 ],\n",
       "       [ 0.70188124, -0.08870616, -0.01774227,  1.11682591,  2.56993413,\n",
       "         1.62039759,  0.26553007,  2.63004212,  0.8312121 ,  1.49940669]])"
      ]
     },
     "execution_count": 93,
     "metadata": {},
     "output_type": "execute_result"
    },
    {
     "data": {
      "text/plain": [
       "array([[-0.09839848, -0.29038509, -0.18736137, -0.02875472,  0.21166681,\n",
       "         0.03479333,  0.08206709, -0.09142895, -0.02536735,  0.07861612],\n",
       "       [ 0.20467444, -0.12139643,  0.24758397,  0.04440729,  0.20564366,\n",
       "        -0.17006748,  0.23103323,  0.05698591, -0.05225015,  0.0028088 ]])"
      ]
     },
     "execution_count": 93,
     "metadata": {},
     "output_type": "execute_result"
    }
   ],
   "source": [
    "X[:2]\n",
    "Theta[:2]"
   ]
  },
  {
   "cell_type": "markdown",
   "metadata": {},
   "source": [
    "### prediction/recommendation"
   ]
  },
  {
   "cell_type": "code",
   "execution_count": null,
   "metadata": {},
   "outputs": [],
   "source": [
    "p = np.dot(X, Theta.T)"
   ]
  },
  {
   "cell_type": "code",
   "execution_count": 119,
   "metadata": {},
   "outputs": [
    {
     "data": {
      "text/plain": [
       "array([[0, 0, 0, ..., 0, 0, 0],\n",
       "       [2, 0, 0, ..., 0, 0, 0],\n",
       "       [0, 6, 0, ..., 0, 0, 0],\n",
       "       ...,\n",
       "       [0, 0, 0, ..., 0, 0, 0],\n",
       "       [0, 0, 0, ..., 0, 0, 0],\n",
       "       [0, 0, 0, ..., 0, 0, 0]])"
      ]
     },
     "execution_count": 119,
     "metadata": {},
     "output_type": "execute_result"
    }
   ],
   "source": [
    "Y"
   ]
  },
  {
   "cell_type": "code",
   "execution_count": 125,
   "metadata": {
    "scrolled": true
   },
   "outputs": [
    {
     "data": {
      "text/plain": [
       "array([132, 248,  34,  37,   0,   3,  27, 110, 230,  32])"
      ]
     },
     "execution_count": 125,
     "metadata": {},
     "output_type": "execute_result"
    }
   ],
   "source": [
    "my_predictions = p[:, 19750] + Ymean\n",
    "ix = np.argsort(my_predictions)[::-1]\n",
    "ix[:10]"
   ]
  },
  {
   "cell_type": "markdown",
   "metadata": {},
   "source": [
    "It appears this prediction is very different from turi create produced. why?"
   ]
  },
  {
   "cell_type": "code",
   "execution_count": null,
   "metadata": {},
   "outputs": [],
   "source": []
  }
 ],
 "metadata": {
  "kernelspec": {
   "display_name": "Python 3",
   "language": "python",
   "name": "python3"
  },
  "language_info": {
   "codemirror_mode": {
    "name": "ipython",
    "version": 3
   },
   "file_extension": ".py",
   "mimetype": "text/x-python",
   "name": "python",
   "nbconvert_exporter": "python",
   "pygments_lexer": "ipython3",
   "version": "3.6.7"
  }
 },
 "nbformat": 4,
 "nbformat_minor": 2
}
