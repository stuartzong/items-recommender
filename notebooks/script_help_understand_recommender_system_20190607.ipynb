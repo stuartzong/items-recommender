{
 "cells": [
  {
   "cell_type": "code",
   "execution_count": 3,
   "metadata": {},
   "outputs": [],
   "source": [
    "# Formation data challenge\n",
    "# Moorissa Tjokro\n",
    "\n",
    "# This is an additional python scripts I used for developing recommendation model\n",
    "# Notebook uses the turicreate library for a more efficient evaluation approach\n",
    "\n",
    "import pandas as pd\n",
    "import numpy as np\n",
    "from collections import Counter\n",
    "from scipy.spatial.distance import cosine"
   ]
  },
  {
   "cell_type": "code",
   "execution_count": 4,
   "metadata": {},
   "outputs": [],
   "source": [
    "customer_file = 'recommend_1.csv'\n",
    "input_file = 'trx_data.csv'\n",
    "output_file = 'outfile_tmp.csv'"
   ]
  },
  {
   "cell_type": "code",
   "execution_count": 20,
   "metadata": {},
   "outputs": [],
   "source": [
    "# F1 = Formation(input_file, customer_file, output_file, csv_output=True)\n",
    "# F1.load_data(customer_file)"
   ]
  },
  {
   "cell_type": "code",
   "execution_count": 29,
   "metadata": {},
   "outputs": [],
   "source": [
    "class Formation:\n",
    "    def __init__(self, input_file, customer_file, output_file, csv_output=True):\n",
    "\n",
    "        self.input_file = input_file\n",
    "        self.customer_file = customer_file\n",
    "        self.output_file = output_file\n",
    "        self.csv_output = True\n",
    "        self.n_recommendations = 10\n",
    "        self.n_neighbors = 10\n",
    "\n",
    "\n",
    "    def load_data(self, filename):\n",
    "        \"\"\"\n",
    "        Loads input data in csv format\n",
    "\n",
    "        Args:\n",
    "            filename (str): a csv file, e.g. 'data.csv'\n",
    "\n",
    "        Returns:\n",
    "            (pandas.DataFrame)\n",
    "\n",
    "        \"\"\"\n",
    "        return pd.read_csv('../data/'+filename)\n",
    "\n",
    "\n",
    "    def purchase_frequency(self, user):\n",
    "        \"\"\"\n",
    "        Returns a dictionary of items bought for each given user,\n",
    "        with each item id as keys and their corresponding number of times\n",
    "        the item is bought as values.\n",
    "\n",
    "        Args:\n",
    "            user (int): user ID\n",
    "\n",
    "        Returns:\n",
    "            (dictionary)\n",
    "        \"\"\"\n",
    "        N = self.transactions.set_index('customerId')['products'][user][:]\n",
    "        if type(N)!=str:\n",
    "            N = np.array(\"|\".join(N.values.reshape(1, len(N))[0]))\n",
    "        bought = [int(i) for i in str(N).split('|')]\n",
    "        return dict(Counter(bought))\n",
    "\n",
    "\n",
    "    def create_matrix_user_items(self):\n",
    "        \"\"\"\n",
    "        Creates a user-to-item matrix, where index values represent unique\n",
    "        user IDs and columns represent unique item IDs.\n",
    "        The matrix shape is (n_users x n_items).\n",
    "\n",
    "        Args:\n",
    "            None\n",
    "\n",
    "        Returns:\n",
    "            None\n",
    "        \"\"\"\n",
    "        dic_users = {}\n",
    "        print('create user-item matrix')\n",
    "        for user in self.transactions.customerId.unique():\n",
    "            dic_users[user] = self.purchase_frequency(user)\n",
    "\n",
    "        self.matrix_user_items = np.array(pd.DataFrame(dic_users).T.fillna(0))\n",
    "\n",
    "\n",
    "    def create_matrix_items(self):\n",
    "        \"\"\"\n",
    "        Creates an item-to-item similarity matrix based on cosine similarity, \n",
    "        where both indices and columns represent unique item IDs.\n",
    "        The matrix shape is square (n_items x n_items).\n",
    "\n",
    "        Args:\n",
    "            None\n",
    "\n",
    "        Returns:\n",
    "            None\n",
    "        \"\"\"\n",
    "        n = self.n_items\n",
    "        self.matrix_items = np.zeros([n, n])\n",
    "        print('create item-item matrix')\n",
    "        for i in range(n):\n",
    "            for j in range(n):\n",
    "                self.matrix_items[i][j] = 1-cosine(self.matrix_user_items[:, i],\n",
    "                                                   self.matrix_user_items[:, j])\n",
    "\n",
    "    def create_matrix_neighbors(self):\n",
    "        \"\"\"\n",
    "        Creates a matrix for selecting top neighbors for each item i based on\n",
    "        similarity scores, where index values represent unique items and columns\n",
    "        represent items that are most similar to that item.\n",
    "        The matrix shape is square (n_items x n_neighbors).\n",
    "\n",
    "        Args:\n",
    "            None\n",
    "\n",
    "        Returns:\n",
    "            None\n",
    "        \"\"\"\n",
    "        n = self.n_items\n",
    "        m = self.n_neighbors\n",
    "\n",
    "        self.matrix_neighbor_items = np.zeros([n, m])\n",
    "        self.matrix_neighbor_indices = np.zeros([n, m])\n",
    "\n",
    "        for i in range(n):\n",
    "            sorted_indices = np.argsort(self.matrix_items[i])[::-1][:m]\n",
    "            self.matrix_neighbor_indices[i] = sorted_indices\n",
    "            self.matrix_neighbor_items[i] = self.matrix_items[i][sorted_indices]\n",
    "\n",
    "    def create_matrix_similarity(self):\n",
    "        \"\"\"\n",
    "        Creates a similarity matrix, where index values represent unique\n",
    "        user IDs and columns represent unique item IDs. Scores are filled in\n",
    "        based on user purchase and neighboring items.\n",
    "        The matrix shape is (n_users x n_items).\n",
    "\n",
    "        Args:\n",
    "            None\n",
    "\n",
    "        Returns:\n",
    "            None\n",
    "        \"\"\"\n",
    "        self.matrix_pred = np.zeros([self.n_users, self.n_items])\n",
    "\n",
    "        for user in range(self.n_users):\n",
    "            for item in range(self.n_items):\n",
    "                top_neighbor_item_scores = self.matrix_neighbor_items[item][1:]\n",
    "                indices = self.matrix_neighbor_indices[item][1:].astype(np.int64)\n",
    "                user_purchase = self.matrix_user_items[user][indices]\n",
    "                self.matrix_pred[user][item] = sum(user_purchase*top_neighbor_item_scores)/ \\\n",
    "                                               sum(top_neighbor_item_scores)\n",
    "\n",
    "    def create_recommendations(self, csv_output=True):\n",
    "        \"\"\"\n",
    "        Creates a recommendation matrix for all items and a dataframe consisting of\n",
    "        top 10 recommended items. Allows for returning a csv output file with\n",
    "        specified customerId and their recommendations.\n",
    "\n",
    "        Args:\n",
    "            None\n",
    "\n",
    "        Returns:\n",
    "            None\n",
    "        \"\"\"\n",
    "        u = self.n_users\n",
    "        r = self.n_recommendations\n",
    "        c = 'customerId'\n",
    "        matrix_recom_scores = np.zeros([u, r])\n",
    "        matrix_recom_indices = np.zeros([u, r])\n",
    "\n",
    "        for user in range(u):\n",
    "            sorted_indices = np.argsort(self.matrix_pred[user])[::-1][:r]\n",
    "            matrix_recom_indices[user] = sorted_indices\n",
    "            matrix_recom_scores[user] = self.matrix_pred[user][sorted_indices]\n",
    "\n",
    "        df_recommend = pd.DataFrame(matrix_recom_indices)\n",
    "        df_recommend[c] = df_matrix.index\n",
    "        self.df_top10 = df_recommend[[c]+list(df_recommend.columns[:r])] \\\n",
    "            .astype(np.int64).set_index(c).loc[customers[c]]\n",
    "        self.df_top10['recommendedProducts'] = self.df_top10[list(range(n_recommendations))] \\\n",
    "            .apply(lambda x: '|'.join(x.fillna('').map(str)), axis=1)\n",
    "        if csv_output:\n",
    "            self.df_top10[['recommendedProducts']].to_csv('../output/'+output_file)\n",
    "\n",
    "\n",
    "    def process_data(self):\n",
    "        \"\"\"\n",
    "        Runs all stages of data processing, from loading the data, matrix transformation,\n",
    "        evaluating the model, and outputting the recommendation items for users.\n",
    "\n",
    "        Args:\n",
    "            None\n",
    "\n",
    "        Returns:\n",
    "            None\n",
    "        \"\"\"\n",
    "        # 1. load data\n",
    "        self.transactions = self.load_data(self.input_file)\n",
    "        self.customers = self.load_data(self.customer_file)\n",
    "        self.n_users = self.transactions.customerId.nunique()\n",
    "\n",
    "        # 2. create user-to-item matrix\n",
    "        self.create_matrix_user_items()\n",
    "        self.n_items = self.matrix_user_items.shape[1]\n",
    "\n",
    "#         # 3. create item-to-item matrix\n",
    "#         self.create_matrix_items()\n",
    "\n",
    "#         # 4. create neighboring items matrix\n",
    "#         self.create_matrix_neighbors()\n",
    "\n",
    "#         # 5. create similarity matrix\n",
    "#         self.create_matrix_similarity()\n",
    "\n",
    "#         # 6. create recommendations matrix\n",
    "#         self.create_recommendations(csv_output=self.csv_output)\n",
    "        return self.transactions.head(2), self.n_users, self.customers.head(2)"
   ]
  },
  {
   "cell_type": "code",
   "execution_count": 24,
   "metadata": {},
   "outputs": [
    {
     "data": {
      "text/plain": [
       "(   customerId                        products\n",
       " 0           0                              20\n",
       " 1           1  2|2|23|68|68|111|29|86|107|152, 24429,    customerId\n",
       " 0        1553\n",
       " 1       20400)"
      ]
     },
     "execution_count": 24,
     "metadata": {},
     "output_type": "execute_result"
    }
   ],
   "source": [
    "F1 = Formation(input_file, customer_file, output_file, csv_output=True)\n",
    "F1.process_data()"
   ]
  },
  {
   "cell_type": "code",
   "execution_count": 32,
   "metadata": {},
   "outputs": [
    {
     "data": {
      "text/plain": [
       "array([[0., 2.],\n",
       "       [0., 0.],\n",
       "       [0., 0.]])"
      ]
     },
     "execution_count": 32,
     "metadata": {},
     "output_type": "execute_result"
    }
   ],
   "source": [
    "F1.matrix_user_items.shape\n",
    "F1.matrix_user_items[:3,:2]"
   ]
  },
  {
   "cell_type": "code",
   "execution_count": 28,
   "metadata": {},
   "outputs": [],
   "source": [
    "F1.create_matrix_items()"
   ]
  },
  {
   "cell_type": "code",
   "execution_count": 35,
   "metadata": {},
   "outputs": [
    {
     "data": {
      "text/plain": [
       "array([[1.        , 0.23285307, 0.13855496, 0.05718336],\n",
       "       [0.23285307, 1.        , 0.25781343, 0.0941427 ],\n",
       "       [0.13855496, 0.25781343, 1.        , 0.17323744],\n",
       "       [0.05718336, 0.0941427 , 0.17323744, 1.        ]])"
      ]
     },
     "execution_count": 35,
     "metadata": {},
     "output_type": "execute_result"
    }
   ],
   "source": [
    "F1.matrix_items.shape\n",
    "F1.matrix_items[:4, :4]"
   ]
  },
  {
   "cell_type": "code",
   "execution_count": 37,
   "metadata": {},
   "outputs": [
    {
     "data": {
      "text/plain": [
       "array([[1.        , 0.23285307, 0.1508556 , ..., 0.09252127, 0.08732526,\n",
       "        0.08604381],\n",
       "       [1.        , 0.26993198, 0.25781343, ..., 0.15375868, 0.1493365 ,\n",
       "        0.14512034],\n",
       "       [1.        , 0.40944972, 0.25781343, ..., 0.18072375, 0.17323744,\n",
       "        0.15268204],\n",
       "       ...,\n",
       "       [1.        , 0.07413634, 0.0686417 , ..., 0.05344807, 0.05043355,\n",
       "        0.04943092],\n",
       "       [1.        , 0.18455719, 0.11832113, ..., 0.0839121 , 0.07959393,\n",
       "        0.07041504],\n",
       "       [1.        , 0.06917245, 0.06544502, ..., 0.04000979, 0.0393904 ,\n",
       "        0.03906702]])"
      ]
     },
     "execution_count": 37,
     "metadata": {},
     "output_type": "execute_result"
    }
   ],
   "source": [
    "F1.create_matrix_neighbors()\n",
    "F1.matrix_neighbor_items"
   ]
  },
  {
   "cell_type": "code",
   "execution_count": 38,
   "metadata": {},
   "outputs": [
    {
     "data": {
      "text/plain": [
       "array([[0.52140142, 0.31224023, 0.48867853, ..., 0.25403561, 0.15000143,\n",
       "        0.35274162],\n",
       "       [0.75409156, 1.06253278, 0.        , ..., 1.0563775 , 1.26938434,\n",
       "        0.        ],\n",
       "       [0.        , 0.0863715 , 0.09070378, ..., 0.        , 0.08937676,\n",
       "        0.        ],\n",
       "       ...,\n",
       "       [0.        , 0.        , 0.        , ..., 0.        , 0.        ,\n",
       "        0.        ],\n",
       "       [0.        , 0.        , 0.        , ..., 0.1011597 , 0.        ,\n",
       "        0.        ],\n",
       "       [0.        , 0.        , 0.        , ..., 0.        , 0.        ,\n",
       "        0.        ]])"
      ]
     },
     "execution_count": 38,
     "metadata": {},
     "output_type": "execute_result"
    }
   ],
   "source": [
    "F1.create_matrix_similarity()\n",
    "F1.matrix_pred"
   ]
  },
  {
   "cell_type": "code",
   "execution_count": 41,
   "metadata": {},
   "outputs": [
    {
     "ename": "NameError",
     "evalue": "name 'df_matrix' is not defined",
     "output_type": "error",
     "traceback": [
      "\u001b[0;31m---------------------------------------------------------------------------\u001b[0m",
      "\u001b[0;31mNameError\u001b[0m                                 Traceback (most recent call last)",
      "\u001b[0;32m<ipython-input-41-89ccfd2219d2>\u001b[0m in \u001b[0;36m<module>\u001b[0;34m()\u001b[0m\n\u001b[0;32m----> 1\u001b[0;31m \u001b[0mF1\u001b[0m\u001b[0;34m.\u001b[0m\u001b[0mcreate_recommendations\u001b[0m\u001b[0;34m(\u001b[0m\u001b[0mcsv_output\u001b[0m\u001b[0;34m=\u001b[0m \u001b[0;34m'outfile_tmp.csv'\u001b[0m\u001b[0;34m)\u001b[0m\u001b[0;34m\u001b[0m\u001b[0;34m\u001b[0m\u001b[0m\n\u001b[0m",
      "\u001b[0;32m<ipython-input-22-0ef4ca8eceaf>\u001b[0m in \u001b[0;36mcreate_recommendations\u001b[0;34m(self, csv_output)\u001b[0m\n\u001b[1;32m    152\u001b[0m \u001b[0;34m\u001b[0m\u001b[0m\n\u001b[1;32m    153\u001b[0m         \u001b[0mdf_recommend\u001b[0m \u001b[0;34m=\u001b[0m \u001b[0mpd\u001b[0m\u001b[0;34m.\u001b[0m\u001b[0mDataFrame\u001b[0m\u001b[0;34m(\u001b[0m\u001b[0mmatrix_recom_indices\u001b[0m\u001b[0;34m)\u001b[0m\u001b[0;34m\u001b[0m\u001b[0;34m\u001b[0m\u001b[0m\n\u001b[0;32m--> 154\u001b[0;31m         \u001b[0mdf_recommend\u001b[0m\u001b[0;34m[\u001b[0m\u001b[0mc\u001b[0m\u001b[0;34m]\u001b[0m \u001b[0;34m=\u001b[0m \u001b[0mdf_matrix\u001b[0m\u001b[0;34m.\u001b[0m\u001b[0mindex\u001b[0m\u001b[0;34m\u001b[0m\u001b[0;34m\u001b[0m\u001b[0m\n\u001b[0m\u001b[1;32m    155\u001b[0m         \u001b[0mself\u001b[0m\u001b[0;34m.\u001b[0m\u001b[0mdf_top10\u001b[0m \u001b[0;34m=\u001b[0m \u001b[0mdf_recommend\u001b[0m\u001b[0;34m[\u001b[0m\u001b[0;34m[\u001b[0m\u001b[0mc\u001b[0m\u001b[0;34m]\u001b[0m\u001b[0;34m+\u001b[0m\u001b[0mlist\u001b[0m\u001b[0;34m(\u001b[0m\u001b[0mdf_recommend\u001b[0m\u001b[0;34m.\u001b[0m\u001b[0mcolumns\u001b[0m\u001b[0;34m[\u001b[0m\u001b[0;34m:\u001b[0m\u001b[0mr\u001b[0m\u001b[0;34m]\u001b[0m\u001b[0;34m)\u001b[0m\u001b[0;34m]\u001b[0m             \u001b[0;34m.\u001b[0m\u001b[0mastype\u001b[0m\u001b[0;34m(\u001b[0m\u001b[0mnp\u001b[0m\u001b[0;34m.\u001b[0m\u001b[0mint64\u001b[0m\u001b[0;34m)\u001b[0m\u001b[0;34m.\u001b[0m\u001b[0mset_index\u001b[0m\u001b[0;34m(\u001b[0m\u001b[0mc\u001b[0m\u001b[0;34m)\u001b[0m\u001b[0;34m.\u001b[0m\u001b[0mloc\u001b[0m\u001b[0;34m[\u001b[0m\u001b[0mcustomers\u001b[0m\u001b[0;34m[\u001b[0m\u001b[0mc\u001b[0m\u001b[0;34m]\u001b[0m\u001b[0;34m]\u001b[0m\u001b[0;34m\u001b[0m\u001b[0;34m\u001b[0m\u001b[0m\n\u001b[1;32m    156\u001b[0m         \u001b[0mself\u001b[0m\u001b[0;34m.\u001b[0m\u001b[0mdf_top10\u001b[0m\u001b[0;34m[\u001b[0m\u001b[0;34m'recommendedProducts'\u001b[0m\u001b[0;34m]\u001b[0m \u001b[0;34m=\u001b[0m \u001b[0mself\u001b[0m\u001b[0;34m.\u001b[0m\u001b[0mdf_top10\u001b[0m\u001b[0;34m[\u001b[0m\u001b[0mlist\u001b[0m\u001b[0;34m(\u001b[0m\u001b[0mrange\u001b[0m\u001b[0;34m(\u001b[0m\u001b[0mn_recommendations\u001b[0m\u001b[0;34m)\u001b[0m\u001b[0;34m)\u001b[0m\u001b[0;34m]\u001b[0m             \u001b[0;34m.\u001b[0m\u001b[0mapply\u001b[0m\u001b[0;34m(\u001b[0m\u001b[0;32mlambda\u001b[0m \u001b[0mx\u001b[0m\u001b[0;34m:\u001b[0m \u001b[0;34m'|'\u001b[0m\u001b[0;34m.\u001b[0m\u001b[0mjoin\u001b[0m\u001b[0;34m(\u001b[0m\u001b[0mx\u001b[0m\u001b[0;34m.\u001b[0m\u001b[0mfillna\u001b[0m\u001b[0;34m(\u001b[0m\u001b[0;34m''\u001b[0m\u001b[0;34m)\u001b[0m\u001b[0;34m.\u001b[0m\u001b[0mmap\u001b[0m\u001b[0;34m(\u001b[0m\u001b[0mstr\u001b[0m\u001b[0;34m)\u001b[0m\u001b[0;34m)\u001b[0m\u001b[0;34m,\u001b[0m \u001b[0maxis\u001b[0m\u001b[0;34m=\u001b[0m\u001b[0;36m1\u001b[0m\u001b[0;34m)\u001b[0m\u001b[0;34m\u001b[0m\u001b[0;34m\u001b[0m\u001b[0m\n",
      "\u001b[0;31mNameError\u001b[0m: name 'df_matrix' is not defined"
     ]
    }
   ],
   "source": [
    "F1.create_recommendations(csv_output= 'outfile_tmp.csv')"
   ]
  }
 ],
 "metadata": {
  "kernelspec": {
   "display_name": "Python 3",
   "language": "python",
   "name": "python3"
  },
  "language_info": {
   "codemirror_mode": {
    "name": "ipython",
    "version": 3
   },
   "file_extension": ".py",
   "mimetype": "text/x-python",
   "name": "python",
   "nbconvert_exporter": "python",
   "pygments_lexer": "ipython3",
   "version": "3.6.7"
  }
 },
 "nbformat": 4,
 "nbformat_minor": 2
}
